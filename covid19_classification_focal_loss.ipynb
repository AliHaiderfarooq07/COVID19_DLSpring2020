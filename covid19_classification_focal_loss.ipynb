{
 "cells": [
  {
   "cell_type": "code",
   "execution_count": 5,
   "metadata": {
    "colab": {
     "base_uri": "https://localhost:8080/",
     "height": 34
    },
    "colab_type": "code",
    "id": "WNjaFvWcpZlc",
    "outputId": "13d4ea29-3b13-47db-ca38-56f02520e5db"
   },
   "outputs": [],
   "source": [
    "### Resnet18 BCE LOSS"
   ]
  },
  {
   "cell_type": "code",
   "execution_count": null,
   "metadata": {},
   "outputs": [],
   "source": [
    "from google.colab import drive\n",
    "drive.mount('./gdrive')\n"
   ]
  },
  {
   "cell_type": "code",
   "execution_count": 0,
   "metadata": {
    "colab": {},
    "colab_type": "code",
    "id": "HuHcz5F7ly3k"
   },
   "outputs": [],
   "source": [
    "#!unzip \"./gdrive/My Drive/A_05_Part_02_Dataset.zip\" -d \"./gdrive/My Drive/Assignment_dataset\""
   ]
  },
  {
   "cell_type": "code",
   "execution_count": 31,
   "metadata": {
    "colab": {
     "base_uri": "https://localhost:8080/",
     "height": 190
    },
    "colab_type": "code",
    "id": "hxICEXlu_jt1",
    "outputId": "cfe92e61-b360-4657-f5cb-5033162b8f3a"
   },
   "outputs": [
    {
     "name": "stdout",
     "output_type": "stream",
     "text": [
      "Collecting torch==1.4.0\n",
      "\u001b[31m  ERROR: HTTP error 403 while getting http://download.pytorch.org/whl/cu92/torch-1.4.0-cp36-cp36m-linux_x86_64.whl\u001b[0m\n",
      "\u001b[31m  ERROR: Could not install requirement torch==1.4.0 from http://download.pytorch.org/whl/cu92/torch-1.4.0-cp36-cp36m-linux_x86_64.whl because of error 403 Client Error: Forbidden for url: http://download.pytorch.org/whl/cu92/torch-1.4.0-cp36-cp36m-linux_x86_64.whl\u001b[0m\n",
      "\u001b[31mERROR: Could not install requirement torch==1.4.0 from http://download.pytorch.org/whl/cu92/torch-1.4.0-cp36-cp36m-linux_x86_64.whl because of HTTP error 403 Client Error: Forbidden for url: http://download.pytorch.org/whl/cu92/torch-1.4.0-cp36-cp36m-linux_x86_64.whl for URL http://download.pytorch.org/whl/cu92/torch-1.4.0-cp36-cp36m-linux_x86_64.whl\u001b[0m\n",
      "Requirement already satisfied: torchvision in /usr/local/lib/python3.6/dist-packages (0.6.0+cu101)\n",
      "Requirement already satisfied: pillow>=4.1.1 in /usr/local/lib/python3.6/dist-packages (from torchvision) (7.0.0)\n",
      "Requirement already satisfied: numpy in /usr/local/lib/python3.6/dist-packages (from torchvision) (1.18.3)\n",
      "Requirement already satisfied: torch==1.5.0 in /usr/local/lib/python3.6/dist-packages (from torchvision) (1.5.0+cu101)\n",
      "Requirement already satisfied: future in /usr/local/lib/python3.6/dist-packages (from torch==1.5.0->torchvision) (0.16.0)\n"
     ]
    }
   ],
   "source": [
    "!pip3 install http://download.pytorch.org/whl/cu92/torch-1.4.0-cp36-cp36m-linux_x86_64.whl\n",
    "!pip3 install torchvision"
   ]
  },
  {
   "cell_type": "code",
   "execution_count": 0,
   "metadata": {
    "colab": {},
    "colab_type": "code",
    "id": "ODdDPwVrpV9t"
   },
   "outputs": [],
   "source": [
    "import numpy as np\n",
    "%matplotlib inline\n",
    "import matplotlib.pyplot as plt\n",
    "from PIL import Image\n",
    "import os\n",
    "import os.path\n",
    "import sys"
   ]
  },
  {
   "cell_type": "code",
   "execution_count": 0,
   "metadata": {
    "colab": {},
    "colab_type": "code",
    "id": "Qx5ltzAtpYwh"
   },
   "outputs": [],
   "source": []
  },
  {
   "cell_type": "code",
   "execution_count": 0,
   "metadata": {
    "colab": {},
    "colab_type": "code",
    "id": "rkzhyo3MpV9x"
   },
   "outputs": [],
   "source": [
    "import torch\n",
    "import torchvision\n",
    "from torchvision import datasets, models, transforms\n",
    "import torch.nn as nn\n",
    "from torch.utils.data import Dataset, DataLoader ,random_split\n",
    "from torch.nn import functional as F\n",
    "import torch.optim as optim\n"
   ]
  },
  {
   "cell_type": "code",
   "execution_count": 0,
   "metadata": {
    "colab": {},
    "colab_type": "code",
    "id": "CJQdw6xnpV90"
   },
   "outputs": [],
   "source": [
    "#dir(models)"
   ]
  },
  {
   "cell_type": "code",
   "execution_count": 35,
   "metadata": {
    "colab": {
     "base_uri": "https://localhost:8080/",
     "height": 34
    },
    "colab_type": "code",
    "id": "ZJpYZ0q3pV94",
    "outputId": "6d9d9db6-6afb-4ca8-943a-e132ebdd0994"
   },
   "outputs": [
    {
     "data": {
      "text/plain": [
       "'1.5.0+cu101'"
      ]
     },
     "execution_count": 35,
     "metadata": {
      "tags": []
     },
     "output_type": "execute_result"
    }
   ],
   "source": [
    "torch.__version__"
   ]
  },
  {
   "cell_type": "code",
   "execution_count": 36,
   "metadata": {
    "colab": {
     "base_uri": "https://localhost:8080/",
     "height": 34
    },
    "colab_type": "code",
    "id": "8ca693InlC_A",
    "outputId": "1c8dc0aa-a9b4-4bb3-8095-75f72c04d4c2"
   },
   "outputs": [
    {
     "name": "stdout",
     "output_type": "stream",
     "text": [
      "cuda:0\n"
     ]
    }
   ],
   "source": [
    "device = torch.device(\"cuda:0\" if torch.cuda.is_available() else \"cpu\")\n",
    "print(device)"
   ]
  },
  {
   "cell_type": "code",
   "execution_count": 0,
   "metadata": {
    "colab": {},
    "colab_type": "code",
    "id": "b5sUPJ24pwtW"
   },
   "outputs": [],
   "source": [
    "data_dir_tr = \"./gdrive/My Drive/Assign_5_Augm/train_aug\"\n",
    "data_dir_vl = \"./gdrive/My Drive/Assignment_dataset/A_05_Part_02_Dataset\""
   ]
  },
  {
   "cell_type": "markdown",
   "metadata": {
    "colab_type": "text",
    "id": "7mOfxO4upV98"
   },
   "source": [
    "### 2. Create PyTorch data generators"
   ]
  },
  {
   "cell_type": "code",
   "execution_count": 0,
   "metadata": {
    "colab": {},
    "colab_type": "code",
    "id": "xPmDLJMBzfsH"
   },
   "outputs": [],
   "source": []
  },
  {
   "cell_type": "code",
   "execution_count": 38,
   "metadata": {
    "colab": {
     "base_uri": "https://localhost:8080/",
     "height": 204
    },
    "colab_type": "code",
    "id": "7ONDJ6BZpV98",
    "outputId": "4ba9787f-abfc-4682-a634-a7980543aaa3"
   },
   "outputs": [
    {
     "name": "stdout",
     "output_type": "stream",
     "text": [
      "Dataset ImageFolder\n",
      "    Number of datapoints: 628\n",
      "    Root location: ./gdrive/My Drive/Assignment_dataset/A_05_Part_02_Dataset/Validation\n",
      "    StandardTransform\n",
      "Transform: Compose(\n",
      "               Resize(size=(224, 224), interpolation=PIL.Image.BILINEAR)\n",
      "               ToTensor()\n",
      "               Normalize(mean=[0.485, 0.456, 0.406], std=[0.229, 0.224, 0.225])\n",
      "           )\n",
      "{'covid-19': 0, 'normal': 1, 'pneumonia': 2}\n"
     ]
    },
    {
     "data": {
      "text/plain": [
       "6200"
      ]
     },
     "execution_count": 38,
     "metadata": {
      "tags": []
     },
     "output_type": "execute_result"
    }
   ],
   "source": [
    "normalize = transforms.Normalize(mean=[0.485, 0.456, 0.406],\n",
    "                                 std=[0.229, 0.224, 0.225])\n",
    "batch=64\n",
    "data_transforms = {\n",
    "    'train':\n",
    "    transforms.Compose([\n",
    "        transforms.Resize((224,224)),\n",
    "        transforms.RandomAffine(0, shear=10, scale=(0.8,1.2)),\n",
    "        transforms.RandomHorizontalFlip(),\n",
    "        transforms.ToTensor(),\n",
    "        normalize\n",
    "    ]),\n",
    "    'validation':\n",
    "    transforms.Compose([\n",
    "        transforms.Resize((224,224)),\n",
    "        transforms.ToTensor(),\n",
    "        normalize\n",
    "    ]),\n",
    "}\n",
    "\n",
    "image_datasets = {\n",
    "    'train': \n",
    "    datasets.ImageFolder(data_dir_vl+'/Train', data_transforms['train']),\n",
    "    'validation': \n",
    "    datasets.ImageFolder(data_dir_vl+'/Validation', data_transforms['validation'])\n",
    "}\n",
    "#image_datasets['validation'].class_to_idx={'covid-19': [1,0,0], 'normal': [0,1,0], 'pneumonia': [0,0,1]}\n",
    "A=image_datasets['validation']\n",
    "print(A)\n",
    "dataloaders = {\n",
    "    'train':\n",
    "    torch.utils.data.DataLoader(image_datasets['train'],\n",
    "                                batch_size=batch,\n",
    "                                shuffle=True,drop_last=True,num_workers=4),\n",
    "    'validation':\n",
    "    torch.utils.data.DataLoader(image_datasets['validation'],\n",
    "                                batch_size=batch,\n",
    "                                shuffle=True,drop_last=True,num_workers=4)\n",
    "}\n",
    "print(image_datasets['train'].class_to_idx)\n",
    "\n",
    "\n",
    "def one_hot(x, class_count):\n",
    "    return torch.eye(class_count).to(device)[x,:]\n",
    "len(image_datasets['train'])\n",
    "#for inputs, labels in dataloaders['validation']:\n",
    " #print(labels.data)\n",
    " #x = labels\n",
    " #class_count = 3\n",
    " \n",
    " #y = torch.LongTensor(128,1).random_() % 3\n",
    "# One hot encoding buffer that you create out of the loop and just keep reusing\n",
    " #y_onehot = torch.FloatTensor(batch, 3)\n",
    " #y_onehot.zero_()\n",
    " #y_onehot.scatter_(1, labels, 1)t5\n",
    " #print(one_hot(x,class_count))\n",
    "#list(zip(image_datasets['train'].class_to_idx))\n",
    "#len(image_datasets['validation'])"
   ]
  },
  {
   "cell_type": "markdown",
   "metadata": {
    "colab_type": "text",
    "id": "vuwc4A6QpV9_"
   },
   "source": [
    "### 3. Create the network"
   ]
  },
  {
   "cell_type": "code",
   "execution_count": 0,
   "metadata": {
    "colab": {},
    "colab_type": "code",
    "id": "HZDJXDeDpV9_"
   },
   "outputs": [],
   "source": []
  },
  {
   "cell_type": "code",
   "execution_count": 0,
   "metadata": {
    "colab": {},
    "colab_type": "code",
    "id": "RmW281-kXXxN"
   },
   "outputs": [],
   "source": []
  },
  {
   "cell_type": "code",
   "execution_count": 39,
   "metadata": {
    "colab": {
     "base_uri": "https://localhost:8080/",
     "height": 1000
    },
    "colab_type": "code",
    "id": "3uaoWqBkpV-C",
    "outputId": "80dec202-21cc-482d-f352-a6d53e69c3a7"
   },
   "outputs": [
    {
     "name": "stdout",
     "output_type": "stream",
     "text": [
      "ResNet(\n",
      "  (conv1): Conv2d(3, 64, kernel_size=(7, 7), stride=(2, 2), padding=(3, 3), bias=False)\n",
      "  (bn1): BatchNorm2d(64, eps=1e-05, momentum=0.1, affine=True, track_running_stats=True)\n",
      "  (relu): ReLU(inplace=True)\n",
      "  (maxpool): MaxPool2d(kernel_size=3, stride=2, padding=1, dilation=1, ceil_mode=False)\n",
      "  (layer1): Sequential(\n",
      "    (0): BasicBlock(\n",
      "      (conv1): Conv2d(64, 64, kernel_size=(3, 3), stride=(1, 1), padding=(1, 1), bias=False)\n",
      "      (bn1): BatchNorm2d(64, eps=1e-05, momentum=0.1, affine=True, track_running_stats=True)\n",
      "      (relu): ReLU(inplace=True)\n",
      "      (conv2): Conv2d(64, 64, kernel_size=(3, 3), stride=(1, 1), padding=(1, 1), bias=False)\n",
      "      (bn2): BatchNorm2d(64, eps=1e-05, momentum=0.1, affine=True, track_running_stats=True)\n",
      "    )\n",
      "    (1): BasicBlock(\n",
      "      (conv1): Conv2d(64, 64, kernel_size=(3, 3), stride=(1, 1), padding=(1, 1), bias=False)\n",
      "      (bn1): BatchNorm2d(64, eps=1e-05, momentum=0.1, affine=True, track_running_stats=True)\n",
      "      (relu): ReLU(inplace=True)\n",
      "      (conv2): Conv2d(64, 64, kernel_size=(3, 3), stride=(1, 1), padding=(1, 1), bias=False)\n",
      "      (bn2): BatchNorm2d(64, eps=1e-05, momentum=0.1, affine=True, track_running_stats=True)\n",
      "    )\n",
      "  )\n",
      "  (layer2): Sequential(\n",
      "    (0): BasicBlock(\n",
      "      (conv1): Conv2d(64, 128, kernel_size=(3, 3), stride=(2, 2), padding=(1, 1), bias=False)\n",
      "      (bn1): BatchNorm2d(128, eps=1e-05, momentum=0.1, affine=True, track_running_stats=True)\n",
      "      (relu): ReLU(inplace=True)\n",
      "      (conv2): Conv2d(128, 128, kernel_size=(3, 3), stride=(1, 1), padding=(1, 1), bias=False)\n",
      "      (bn2): BatchNorm2d(128, eps=1e-05, momentum=0.1, affine=True, track_running_stats=True)\n",
      "      (downsample): Sequential(\n",
      "        (0): Conv2d(64, 128, kernel_size=(1, 1), stride=(2, 2), bias=False)\n",
      "        (1): BatchNorm2d(128, eps=1e-05, momentum=0.1, affine=True, track_running_stats=True)\n",
      "      )\n",
      "    )\n",
      "    (1): BasicBlock(\n",
      "      (conv1): Conv2d(128, 128, kernel_size=(3, 3), stride=(1, 1), padding=(1, 1), bias=False)\n",
      "      (bn1): BatchNorm2d(128, eps=1e-05, momentum=0.1, affine=True, track_running_stats=True)\n",
      "      (relu): ReLU(inplace=True)\n",
      "      (conv2): Conv2d(128, 128, kernel_size=(3, 3), stride=(1, 1), padding=(1, 1), bias=False)\n",
      "      (bn2): BatchNorm2d(128, eps=1e-05, momentum=0.1, affine=True, track_running_stats=True)\n",
      "    )\n",
      "  )\n",
      "  (layer3): Sequential(\n",
      "    (0): BasicBlock(\n",
      "      (conv1): Conv2d(128, 256, kernel_size=(3, 3), stride=(2, 2), padding=(1, 1), bias=False)\n",
      "      (bn1): BatchNorm2d(256, eps=1e-05, momentum=0.1, affine=True, track_running_stats=True)\n",
      "      (relu): ReLU(inplace=True)\n",
      "      (conv2): Conv2d(256, 256, kernel_size=(3, 3), stride=(1, 1), padding=(1, 1), bias=False)\n",
      "      (bn2): BatchNorm2d(256, eps=1e-05, momentum=0.1, affine=True, track_running_stats=True)\n",
      "      (downsample): Sequential(\n",
      "        (0): Conv2d(128, 256, kernel_size=(1, 1), stride=(2, 2), bias=False)\n",
      "        (1): BatchNorm2d(256, eps=1e-05, momentum=0.1, affine=True, track_running_stats=True)\n",
      "      )\n",
      "    )\n",
      "    (1): BasicBlock(\n",
      "      (conv1): Conv2d(256, 256, kernel_size=(3, 3), stride=(1, 1), padding=(1, 1), bias=False)\n",
      "      (bn1): BatchNorm2d(256, eps=1e-05, momentum=0.1, affine=True, track_running_stats=True)\n",
      "      (relu): ReLU(inplace=True)\n",
      "      (conv2): Conv2d(256, 256, kernel_size=(3, 3), stride=(1, 1), padding=(1, 1), bias=False)\n",
      "      (bn2): BatchNorm2d(256, eps=1e-05, momentum=0.1, affine=True, track_running_stats=True)\n",
      "    )\n",
      "  )\n",
      "  (layer4): Sequential(\n",
      "    (0): BasicBlock(\n",
      "      (conv1): Conv2d(256, 512, kernel_size=(3, 3), stride=(2, 2), padding=(1, 1), bias=False)\n",
      "      (bn1): BatchNorm2d(512, eps=1e-05, momentum=0.1, affine=True, track_running_stats=True)\n",
      "      (relu): ReLU(inplace=True)\n",
      "      (conv2): Conv2d(512, 512, kernel_size=(3, 3), stride=(1, 1), padding=(1, 1), bias=False)\n",
      "      (bn2): BatchNorm2d(512, eps=1e-05, momentum=0.1, affine=True, track_running_stats=True)\n",
      "      (downsample): Sequential(\n",
      "        (0): Conv2d(256, 512, kernel_size=(1, 1), stride=(2, 2), bias=False)\n",
      "        (1): BatchNorm2d(512, eps=1e-05, momentum=0.1, affine=True, track_running_stats=True)\n",
      "      )\n",
      "    )\n",
      "    (1): BasicBlock(\n",
      "      (conv1): Conv2d(512, 512, kernel_size=(3, 3), stride=(1, 1), padding=(1, 1), bias=False)\n",
      "      (bn1): BatchNorm2d(512, eps=1e-05, momentum=0.1, affine=True, track_running_stats=True)\n",
      "      (relu): ReLU(inplace=True)\n",
      "      (conv2): Conv2d(512, 512, kernel_size=(3, 3), stride=(1, 1), padding=(1, 1), bias=False)\n",
      "      (bn2): BatchNorm2d(512, eps=1e-05, momentum=0.1, affine=True, track_running_stats=True)\n",
      "    )\n",
      "  )\n",
      "  (avgpool): AdaptiveAvgPool2d(output_size=(1, 1))\n",
      "  (fc): Linear(in_features=512, out_features=1000, bias=True)\n",
      ")\n"
     ]
    }
   ],
   "source": [
    "model = models.resnet18(pretrained=True).to(device)\n",
    "print(model)\n",
    "num_features = model.fc.in_features\n",
    "for param in model.parameters():\n",
    "  param.requires_grad=False\n",
    "model.fc=nn.Sequential( nn.Linear(num_features,5000),\n",
    "                               nn.LeakyReLU(),\n",
    "                                #nn.Dropout(p=0.5,inplace=False),\n",
    "                                nn.Linear(5000,1200),\n",
    "                                nn.LeakyReLU(),\n",
    "                                nn.Linear(1200,3)).to(device)\n"
   ]
  },
  {
   "cell_type": "code",
   "execution_count": 0,
   "metadata": {
    "colab": {},
    "colab_type": "code",
    "id": "b87T2kpfq75N"
   },
   "outputs": [],
   "source": [
    "\n",
    "\n"
   ]
  },
  {
   "cell_type": "code",
   "execution_count": 40,
   "metadata": {
    "colab": {
     "base_uri": "https://localhost:8080/",
     "height": 119
    },
    "colab_type": "code",
    "id": "6ItFFvE-pV-H",
    "outputId": "afc20c38-659b-4469-accd-8c6df44d22c6"
   },
   "outputs": [
    {
     "name": "stdout",
     "output_type": "stream",
     "text": [
      "True\n",
      "True\n",
      "True\n",
      "True\n",
      "True\n",
      "True\n"
     ]
    }
   ],
   "source": [
    "pos_weight = torch.ones([batch]).to(device)\n",
    "criterion=nn.BCEWithLogitsLoss(pos_weight=pos_weight)\n",
    "#optimizer = optim.SGD(model.fc.parameters(),lr=0.001, momentum=0.9)\n",
    "for param in filter(lambda p: p.requires_grad, model.parameters()):\n",
    "  print(param.requires_grad)\n",
    "optimizer = optim.Adam(filter(lambda p: p.requires_grad, model.parameters()),lr=0.001)"
   ]
  },
  {
   "cell_type": "code",
   "execution_count": 0,
   "metadata": {
    "colab": {},
    "colab_type": "code",
    "id": "AfVlHMxXq6_D"
   },
   "outputs": [],
   "source": []
  },
  {
   "cell_type": "markdown",
   "metadata": {
    "colab_type": "text",
    "id": "VmrAw3XHpV-J"
   },
   "source": [
    "### 4. Train the model"
   ]
  },
  {
   "cell_type": "code",
   "execution_count": 0,
   "metadata": {
    "colab": {},
    "colab_type": "code",
    "id": "SrUC-i8HpV-K"
   },
   "outputs": [],
   "source": [
    "#batch=128\n",
    "def train_model(model, Focalloss, optimizer, num_epochs=3):\n",
    "    loss_train=[]\n",
    "    loss_val=[]\n",
    "    acc_train=[]\n",
    "    acc_val=[]\n",
    "    Epochs=[]\n",
    "    for epoch in range(num_epochs):\n",
    "        print('Epoch ' ,epoch+1,'/',num_epochs)\n",
    "        print('-' * 10)\n",
    "\n",
    "        for phase in ['train', 'validation']:\n",
    "            if phase == 'train':\n",
    "                model.train()\n",
    "            else:\n",
    "                model.eval()\n",
    "\n",
    "            running_loss = 0.0\n",
    "            running_corrects = 0\n",
    "            i=0\n",
    "\n",
    "            for inputs, labels in dataloaders[phase]:\n",
    "                inputs = inputs.to(device)\n",
    "                labels = labels.to(device)\n",
    "                # print(labels)\n",
    "                # One hot encoding buffer that you create out of the loop and just keep reusing\n",
    "                #y_onehot = torch.FloatTensor(batch, 3).to(device)\n",
    "                #y_onehot.zero_().to(device)\n",
    "                #y_onehot.scatter_(1, labels, 1).to(device)\n",
    "                onehot=one_hot(labels,3)\n",
    "                #onehot[onehot[0:batch]==torch.FloatTensor([1,0,0]).to(device)]=(torch.FloatTensor([1,0,1]).clone()).to(device)\n",
    "                #y[y[0:200]==torch.FloatTensor([1., 0., 0.]).to(device)]=torch.FloatTensor([1., 0., 1.]).to(device)\n",
    "                for a in range(len(labels)):\n",
    "                    if torch.equal(onehot[a], torch.FloatTensor([ 1.,  0.,   0.]).to(device)):\n",
    "                        onehot[a]=torch.FloatTensor([1., 0., 1.]).to(device)\n",
    "                #for i in range(len(onehot)):\n",
    "                #print(onehot[:])\n",
    "                #print(onehot.dtype,'hotcoding')\n",
    "                i=i+1\n",
    "                #for inputs, labels in dataloaders['validation']:\n",
    "                #print(labels.data)\n",
    "\n",
    "\n",
    "                outputs = model(inputs)\n",
    "                #print(outputs.shape)\n",
    "                loss = criterion(outputs.T, onehot.T)\n",
    "                #print(loss,'  loss')\n",
    "                print('\\r ',i,'  ','loss  ',loss,end='')\n",
    "                \n",
    "                if phase == 'train':\n",
    "                    optimizer.zero_grad()\n",
    "                    loss.backward()\n",
    "                    optimizer.step()\n",
    "                m=torch.nn.Sigmoid()\n",
    "                preds = m(outputs).data>0.5\n",
    "                #print(preds.shape,'\\n')\n",
    "                running_loss += loss.detach() * inputs.size(0)\n",
    "                running_corrects += torch.sum(preds[0:batch] == (onehot[0:batch]))/3\n",
    "            \n",
    "            epoch_loss = running_loss / len(image_datasets[phase])\n",
    "            epoch_acc = running_corrects.float() / len(image_datasets[phase])\n",
    "            if phase == 'train':\n",
    "                acc_train.append(epoch_acc)\n",
    "                loss_train.append(epoch_loss)\n",
    "            else:\n",
    "                acc_val.append(epoch_acc)\n",
    "                loss_val.append(epoch_loss)\n",
    "                \n",
    "            #Epochs,append(epoch_acc)\n",
    "\n",
    "            print('  ','{} loss: {:.4f}, acc: {:.4f}'.format(phase,\n",
    "                                                        epoch_loss.item(),\n",
    "                                                        epoch_acc.item()))\n",
    "    \n",
    "    A=plt.figure(1)\n",
    "    #plt.plot(it,Loss,label='CE')\n",
    "    plt.plot(range(num_epochs),acc_train,'r--',label='Training Accuracy')\n",
    "    plt.plot(range(num_epochs),acc_val,'g--',label='Val Accuracy')\n",
    "    #print(Loss)\n",
    "    A.legend()\n",
    "    plt.xlabel('Epochs')\n",
    "    plt.ylabel('Accuracy')\n",
    "    g = plt.figure(2)\n",
    "    plt.plot(range(num_epochs),loss_train,'r--',label='Training Loss')\n",
    "    plt.plot(range(num_epochs),loss_val,'g--',label='Validation Loss')\n",
    "    plt.xlabel('Epochs')\n",
    "    plt.ylabel('Loss')\n",
    "    g.legend()\n",
    "    #g.savefig(('LOss'.png'),dpi=1200)        \n",
    "    return model\n"
   ]
  },
  {
   "cell_type": "code",
   "execution_count": 42,
   "metadata": {
    "colab": {
     "base_uri": "https://localhost:8080/",
     "height": 102
    },
    "colab_type": "code",
    "id": "tdyGHlylvTYk",
    "outputId": "9a228e9f-d03e-41a7-8336-6d5dee4c472c"
   },
   "outputs": [
    {
     "name": "stdout",
     "output_type": "stream",
     "text": [
      "tensor([[ 5810157., 12278566., 13302653.],\n",
      "        [ 4723374., 10650940.,  6741103.],\n",
      "        [12138555., 10322105.,  4596658.],\n",
      "        [ 1828697.,  3254083.,  7719435.],\n",
      "        [ 5018995.,  5239599.,  8348922.]], device='cuda:0')\n"
     ]
    }
   ],
   "source": [
    "y = torch.FloatTensor(200,3).random_().to(device)\n",
    "#print(y)\n",
    "print(y[0:5])\n",
    "q =[[0,1,2],[3,0,4],[5,6,0]]\n",
    "tense_tensor = torch.tensor(q)\n"
   ]
  },
  {
   "cell_type": "code",
   "execution_count": 0,
   "metadata": {
    "colab": {},
    "colab_type": "code",
    "id": "Vn9CD5TnvUGR"
   },
   "outputs": [],
   "source": [
    "\n",
    "#y[y[0:200]==torch.FloatTensor([16583221., 12498836., 11103416.])]=torch.FloatTensor([1.,  0., 1.]).to(device)\n",
    "#print(torch.where(y[0:200]==torch.FloatTensor([ 803131.,  5802761.,   894371.]).to(device),torch.FloatTensor([1.,  0., 1.]).to(device),y))"
   ]
  },
  {
   "cell_type": "code",
   "execution_count": 0,
   "metadata": {
    "colab": {},
    "colab_type": "code",
    "id": "YBT3ZJmsNveL"
   },
   "outputs": [],
   "source": []
  },
  {
   "cell_type": "code",
   "execution_count": 0,
   "metadata": {
    "colab": {},
    "colab_type": "code",
    "id": "j98cJfAqNvcb"
   },
   "outputs": [],
   "source": []
  },
  {
   "cell_type": "code",
   "execution_count": 44,
   "metadata": {
    "colab": {
     "base_uri": "https://localhost:8080/",
     "height": 34
    },
    "colab_type": "code",
    "id": "ErZ2fiM4yJXu",
    "outputId": "e8ed4d49-b114-4833-b16e-3ea9e6f3a82b"
   },
   "outputs": [
    {
     "data": {
      "text/plain": [
       "6200"
      ]
     },
     "execution_count": 44,
     "metadata": {
      "tags": []
     },
     "output_type": "execute_result"
    }
   ],
   "source": [
    "len(image_datasets['train'])"
   ]
  },
  {
   "cell_type": "markdown",
   "metadata": {
    "colab_type": "text",
    "id": "sN-_jQq9a62j"
   },
   "source": [
    "[link text](https://)"
   ]
  },
  {
   "cell_type": "markdown",
   "metadata": {
    "colab_type": "text",
    "id": "4_3pvhDYa6zV"
   },
   "source": []
  },
  {
   "cell_type": "code",
   "execution_count": 45,
   "metadata": {
    "colab": {
     "base_uri": "https://localhost:8080/",
     "height": 1000
    },
    "colab_type": "code",
    "id": "QeBRulVJpV-N",
    "outputId": "e3e84621-355b-49ee-b8d1-f54b621fd2f9",
    "scrolled": false
   },
   "outputs": [
    {
     "name": "stdout",
     "output_type": "stream",
     "text": [
      "Epoch  1 / 30\n",
      "----------\n",
      "  96    loss   tensor(0.2535, device='cuda:0', grad_fn=<BinaryCrossEntropyWithLogitsBackward>)   train loss: 0.3354, acc: 0.8455\n",
      "  9    loss   tensor(0.2251, device='cuda:0', grad_fn=<BinaryCrossEntropyWithLogitsBackward>)   validation loss: 0.2626, acc: 0.8137\n",
      "Epoch  2 / 30\n",
      "----------\n",
      "  96    loss   tensor(0.2912, device='cuda:0', grad_fn=<BinaryCrossEntropyWithLogitsBackward>)   train loss: 0.2631, acc: 0.8785\n",
      "  9    loss   tensor(0.2859, device='cuda:0', grad_fn=<BinaryCrossEntropyWithLogitsBackward>)   validation loss: 0.3206, acc: 0.7787\n",
      "Epoch  3 / 30\n",
      "----------\n",
      "  96    loss   tensor(0.2062, device='cuda:0', grad_fn=<BinaryCrossEntropyWithLogitsBackward>)   train loss: 0.2506, acc: 0.8882\n",
      "  9    loss   tensor(0.2887, device='cuda:0', grad_fn=<BinaryCrossEntropyWithLogitsBackward>)   validation loss: 0.2517, acc: 0.8232\n",
      "Epoch  4 / 30\n",
      "----------\n",
      "  96    loss   tensor(0.1340, device='cuda:0', grad_fn=<BinaryCrossEntropyWithLogitsBackward>)   train loss: 0.2375, acc: 0.8903\n",
      "  9    loss   tensor(0.0994, device='cuda:0', grad_fn=<BinaryCrossEntropyWithLogitsBackward>)   validation loss: 0.2150, acc: 0.8296\n",
      "Epoch  5 / 30\n",
      "----------\n",
      "  96    loss   tensor(0.1860, device='cuda:0', grad_fn=<BinaryCrossEntropyWithLogitsBackward>)   train loss: 0.2304, acc: 0.8932\n",
      "  9    loss   tensor(0.2448, device='cuda:0', grad_fn=<BinaryCrossEntropyWithLogitsBackward>)   validation loss: 0.2366, acc: 0.8296\n",
      "Epoch  6 / 30\n",
      "----------\n",
      "  96    loss   tensor(0.2459, device='cuda:0', grad_fn=<BinaryCrossEntropyWithLogitsBackward>)   train loss: 0.2216, acc: 0.8990\n",
      "  9    loss   tensor(0.2578, device='cuda:0', grad_fn=<BinaryCrossEntropyWithLogitsBackward>)   validation loss: 0.2241, acc: 0.8328\n",
      "Epoch  7 / 30\n",
      "----------\n",
      "  96    loss   tensor(0.1649, device='cuda:0', grad_fn=<BinaryCrossEntropyWithLogitsBackward>)   train loss: 0.2332, acc: 0.8931\n",
      "  9    loss   tensor(0.1451, device='cuda:0', grad_fn=<BinaryCrossEntropyWithLogitsBackward>)   validation loss: 0.2521, acc: 0.8232\n",
      "Epoch  8 / 30\n",
      "----------\n",
      "  96    loss   tensor(0.1643, device='cuda:0', grad_fn=<BinaryCrossEntropyWithLogitsBackward>)   train loss: 0.2280, acc: 0.8940\n",
      "  9    loss   tensor(0.2325, device='cuda:0', grad_fn=<BinaryCrossEntropyWithLogitsBackward>)   validation loss: 0.2166, acc: 0.8312\n",
      "Epoch  9 / 30\n",
      "----------\n",
      "  96    loss   tensor(0.2164, device='cuda:0', grad_fn=<BinaryCrossEntropyWithLogitsBackward>)   train loss: 0.2273, acc: 0.8985\n",
      "  9    loss   tensor(0.2301, device='cuda:0', grad_fn=<BinaryCrossEntropyWithLogitsBackward>)   validation loss: 0.2071, acc: 0.8344\n",
      "Epoch  10 / 30\n",
      "----------\n",
      "  96    loss   tensor(0.3225, device='cuda:0', grad_fn=<BinaryCrossEntropyWithLogitsBackward>)   train loss: 0.2241, acc: 0.8981\n",
      "  9    loss   tensor(0.2719, device='cuda:0', grad_fn=<BinaryCrossEntropyWithLogitsBackward>)   validation loss: 0.2269, acc: 0.8201\n",
      "Epoch  11 / 30\n",
      "----------\n",
      "  96    loss   tensor(0.2114, device='cuda:0', grad_fn=<BinaryCrossEntropyWithLogitsBackward>)   train loss: 0.2116, acc: 0.9027\n",
      "  9    loss   tensor(0.2905, device='cuda:0', grad_fn=<BinaryCrossEntropyWithLogitsBackward>)   validation loss: 0.2269, acc: 0.8296\n",
      "Epoch  12 / 30\n",
      "----------\n",
      "  96    loss   tensor(0.1586, device='cuda:0', grad_fn=<BinaryCrossEntropyWithLogitsBackward>)   train loss: 0.2119, acc: 0.9027\n",
      "  9    loss   tensor(0.2830, device='cuda:0', grad_fn=<BinaryCrossEntropyWithLogitsBackward>)   validation loss: 0.2465, acc: 0.8232\n",
      "Epoch  13 / 30\n",
      "----------\n",
      "  96    loss   tensor(0.3620, device='cuda:0', grad_fn=<BinaryCrossEntropyWithLogitsBackward>)   train loss: 0.2182, acc: 0.8987\n",
      "  9    loss   tensor(0.1316, device='cuda:0', grad_fn=<BinaryCrossEntropyWithLogitsBackward>)   validation loss: 0.2195, acc: 0.8232\n",
      "Epoch  14 / 30\n",
      "----------\n",
      "  96    loss   tensor(0.2941, device='cuda:0', grad_fn=<BinaryCrossEntropyWithLogitsBackward>)   train loss: 0.2351, acc: 0.8910\n",
      "  9    loss   tensor(0.2526, device='cuda:0', grad_fn=<BinaryCrossEntropyWithLogitsBackward>)   validation loss: 0.2137, acc: 0.8280\n",
      "Epoch  15 / 30\n",
      "----------\n",
      "  96    loss   tensor(0.2956, device='cuda:0', grad_fn=<BinaryCrossEntropyWithLogitsBackward>)   train loss: 0.2119, acc: 0.9019\n",
      "  9    loss   tensor(0.1511, device='cuda:0', grad_fn=<BinaryCrossEntropyWithLogitsBackward>)   validation loss: 0.2211, acc: 0.8312\n",
      "Epoch  16 / 30\n",
      "----------\n",
      "  96    loss   tensor(0.1915, device='cuda:0', grad_fn=<BinaryCrossEntropyWithLogitsBackward>)   train loss: 0.2105, acc: 0.9019\n",
      "  9    loss   tensor(0.3111, device='cuda:0', grad_fn=<BinaryCrossEntropyWithLogitsBackward>)   validation loss: 0.1919, acc: 0.8392\n",
      "Epoch  17 / 30\n",
      "----------\n",
      "  96    loss   tensor(0.1764, device='cuda:0', grad_fn=<BinaryCrossEntropyWithLogitsBackward>)   train loss: 0.2093, acc: 0.9013\n",
      "  9    loss   tensor(0.1904, device='cuda:0', grad_fn=<BinaryCrossEntropyWithLogitsBackward>)   validation loss: 0.2098, acc: 0.8328\n",
      "Epoch  18 / 30\n",
      "----------\n",
      "  96    loss   tensor(0.1629, device='cuda:0', grad_fn=<BinaryCrossEntropyWithLogitsBackward>)   train loss: 0.2080, acc: 0.9011\n",
      "  9    loss   tensor(0.1653, device='cuda:0', grad_fn=<BinaryCrossEntropyWithLogitsBackward>)   validation loss: 0.2164, acc: 0.8312\n",
      "Epoch  19 / 30\n",
      "----------\n",
      "  96    loss   tensor(0.1641, device='cuda:0', grad_fn=<BinaryCrossEntropyWithLogitsBackward>)   train loss: 0.2030, acc: 0.9081\n",
      "  9    loss   tensor(0.2237, device='cuda:0', grad_fn=<BinaryCrossEntropyWithLogitsBackward>)   validation loss: 0.2246, acc: 0.8232\n",
      "Epoch  20 / 30\n",
      "----------\n",
      "  96    loss   tensor(0.1810, device='cuda:0', grad_fn=<BinaryCrossEntropyWithLogitsBackward>)   train loss: 0.2038, acc: 0.9063\n",
      "  9    loss   tensor(0.2927, device='cuda:0', grad_fn=<BinaryCrossEntropyWithLogitsBackward>)   validation loss: 0.2311, acc: 0.8248\n",
      "Epoch  21 / 30\n",
      "----------\n",
      "  96    loss   tensor(0.2400, device='cuda:0', grad_fn=<BinaryCrossEntropyWithLogitsBackward>)   train loss: 0.2084, acc: 0.9010\n",
      "  9    loss   tensor(0.3354, device='cuda:0', grad_fn=<BinaryCrossEntropyWithLogitsBackward>)   validation loss: 0.2120, acc: 0.8280\n",
      "Epoch  22 / 30\n",
      "----------\n",
      "  96    loss   tensor(0.1292, device='cuda:0', grad_fn=<BinaryCrossEntropyWithLogitsBackward>)   train loss: 0.2012, acc: 0.9053\n",
      "  9    loss   tensor(0.2974, device='cuda:0', grad_fn=<BinaryCrossEntropyWithLogitsBackward>)   validation loss: 0.1902, acc: 0.8360\n",
      "Epoch  23 / 30\n",
      "----------\n",
      "  96    loss   tensor(0.1308, device='cuda:0', grad_fn=<BinaryCrossEntropyWithLogitsBackward>)   train loss: 0.1951, acc: 0.9089\n",
      "  9    loss   tensor(0.1654, device='cuda:0', grad_fn=<BinaryCrossEntropyWithLogitsBackward>)   validation loss: 0.2015, acc: 0.8344\n",
      "Epoch  24 / 30\n",
      "----------\n",
      "  96    loss   tensor(0.2172, device='cuda:0', grad_fn=<BinaryCrossEntropyWithLogitsBackward>)   train loss: 0.1976, acc: 0.9082\n",
      "  9    loss   tensor(0.4514, device='cuda:0', grad_fn=<BinaryCrossEntropyWithLogitsBackward>)   validation loss: 0.2171, acc: 0.8328\n",
      "Epoch  25 / 30\n",
      "----------\n",
      "  96    loss   tensor(0.2005, device='cuda:0', grad_fn=<BinaryCrossEntropyWithLogitsBackward>)   train loss: 0.2138, acc: 0.9023\n",
      "  9    loss   tensor(0.3132, device='cuda:0', grad_fn=<BinaryCrossEntropyWithLogitsBackward>)   validation loss: 0.2118, acc: 0.8296\n",
      "Epoch  26 / 30\n",
      "----------\n",
      "  96    loss   tensor(0.1804, device='cuda:0', grad_fn=<BinaryCrossEntropyWithLogitsBackward>)   train loss: 0.1969, acc: 0.9103\n",
      "  9    loss   tensor(0.3055, device='cuda:0', grad_fn=<BinaryCrossEntropyWithLogitsBackward>)   validation loss: 0.2273, acc: 0.8280\n",
      "Epoch  27 / 30\n",
      "----------\n",
      "  96    loss   tensor(0.1255, device='cuda:0', grad_fn=<BinaryCrossEntropyWithLogitsBackward>)   train loss: 0.2031, acc: 0.9063\n",
      "  9    loss   tensor(0.2623, device='cuda:0', grad_fn=<BinaryCrossEntropyWithLogitsBackward>)   validation loss: 0.2202, acc: 0.8280\n",
      "Epoch  28 / 30\n",
      "----------\n",
      "  96    loss   tensor(0.2174, device='cuda:0', grad_fn=<BinaryCrossEntropyWithLogitsBackward>)   train loss: 0.2011, acc: 0.9037\n",
      "  9    loss   tensor(0.2235, device='cuda:0', grad_fn=<BinaryCrossEntropyWithLogitsBackward>)   validation loss: 0.1978, acc: 0.8360\n",
      "Epoch  29 / 30\n",
      "----------\n",
      "  96    loss   tensor(0.1808, device='cuda:0', grad_fn=<BinaryCrossEntropyWithLogitsBackward>)   train loss: 0.1996, acc: 0.9094\n",
      "  9    loss   tensor(0.1953, device='cuda:0', grad_fn=<BinaryCrossEntropyWithLogitsBackward>)   validation loss: 0.2066, acc: 0.8312\n",
      "Epoch  30 / 30\n",
      "----------\n",
      "  96    loss   tensor(0.1810, device='cuda:0', grad_fn=<BinaryCrossEntropyWithLogitsBackward>)   train loss: 0.1939, acc: 0.9082\n",
      "  9    loss   tensor(0.3123, device='cuda:0', grad_fn=<BinaryCrossEntropyWithLogitsBackward>)   validation loss: 0.2117, acc: 0.8312\n"
     ]
    },
    {
     "data": {
      "image/png": "[encoded data removed]",
      "text/plain": [
       "<Figure size 432x288 with 1 Axes>"
      ]
     },
     "metadata": {
      "needs_background": "light",
      "tags": []
     },
     "output_type": "display_data"
    },
    {
     "data": {
      "image/png": "[encoded data removed]",
      "text/plain": [
       "<Figure size 432x288 with 1 Axes>"
      ]
     },
     "metadata": {
      "needs_background": "light",
      "tags": []
     },
     "output_type": "display_data"
    }
   ],
   "source": [
    "model_trained = train_model(model, criterion, optimizer, num_epochs=30)"
   ]
  },
  {
   "cell_type": "code",
   "execution_count": 0,
   "metadata": {
    "colab": {},
    "colab_type": "code",
    "id": "fxxrIYEXXiFj"
   },
   "outputs": [],
   "source": []
  },
  {
   "cell_type": "code",
   "execution_count": 0,
   "metadata": {
    "colab": {},
    "colab_type": "code",
    "id": "uxuq-leqgmY9"
   },
   "outputs": [],
   "source": []
  },
  {
   "cell_type": "markdown",
   "metadata": {
    "colab_type": "text",
    "id": "FNLzz1kzpV-Q"
   },
   "source": [
    "### 5. Save and load the model"
   ]
  },
  {
   "cell_type": "markdown",
   "metadata": {
    "colab_type": "text",
    "id": "IvzQA6YKQJF6"
   },
   "source": []
  },
  {
   "cell_type": "code",
   "execution_count": 0,
   "metadata": {
    "colab": {},
    "colab_type": "code",
    "id": "m_FdQHF4pV-R"
   },
   "outputs": [],
   "source": [
    "torch.save(model_trained.state_dict(), './gdrive/My Drive/Assignment_05/Final_Resnet_BCE_LOSS.h5')"
   ]
  },
  {
   "cell_type": "code",
   "execution_count": 0,
   "metadata": {
    "colab": {},
    "colab_type": "code",
    "id": "4QzXldjE08g6"
   },
   "outputs": [],
   "source": []
  },
  {
   "cell_type": "code",
   "execution_count": 0,
   "metadata": {
    "colab": {},
    "colab_type": "code",
    "id": "F0-JFAhcGXY7"
   },
   "outputs": [],
   "source": []
  },
  {
   "cell_type": "code",
   "execution_count": 53,
   "metadata": {
    "colab": {
     "base_uri": "https://localhost:8080/",
     "height": 34
    },
    "colab_type": "code",
    "id": "SshKYdv_pV-U",
    "outputId": "671c545a-b4b1-440a-82b0-4323d822f31c"
   },
   "outputs": [
    {
     "name": "stdout",
     "output_type": "stream",
     "text": [
      "testing\n"
     ]
    }
   ],
   "source": [
    "model = models.resnet18(pretrained=True).to(device)\n",
    "num_features = model.fc.in_features\n",
    "model.fc=nn.Sequential( nn.Linear(num_features,5000),\n",
    "                               nn.Sigmoid(),\n",
    "                                #nn.Dropout(p=0.5,inplace=False),\n",
    "                                nn.Linear(5000,1200),\n",
    "                                nn.ReLU(),\n",
    "                                nn.Linear(1200,3),nn.Sigmoid()).to(device)\n",
    "\n",
    "model.load_state_dict(torch.load('./gdrive/My Drive/Assignment_05/Final_Resnet_BCE_LOSS.h5'))\n",
    "model.eval()\n",
    "print('testing')"
   ]
  },
  {
   "cell_type": "markdown",
   "metadata": {
    "colab_type": "text",
    "id": "j_wZbRuTpV-W"
   },
   "source": [
    "### 6. Make predictions on sample test images"
   ]
  },
  {
   "cell_type": "code",
   "execution_count": 54,
   "metadata": {
    "colab": {
     "base_uri": "https://localhost:8080/",
     "height": 153
    },
    "colab_type": "code",
    "id": "bjQGckkBoMr9",
    "outputId": "56fd282c-52dd-417d-9835-41af699446e5"
   },
   "outputs": [
    {
     "name": "stdout",
     "output_type": "stream",
     "text": [
      "['Test']\n",
      "[['0.png' '1' '0' '1']\n",
      " ['1.png' '1' '0' '1']\n",
      " ['10.png' '1' '0' '1']\n",
      " ...\n",
      " ['97.png' '1' '1' '0']\n",
      " ['98.png' '1' '0' '0']\n",
      " ['99.png' '1' '0' '1']]\n"
     ]
    }
   ],
   "source": [
    "import torch\n",
    "from torchvision import datasets\n",
    "\n",
    "class ImageFolderWithPaths(datasets.ImageFolder):\n",
    "    \"\"\"Custom dataset that includes image file paths. Extends\n",
    "    torchvision.datasets.ImageFolder\n",
    "    \"\"\"\n",
    "\n",
    "    # override the __getitem__ method. this is the method that dataloader calls\n",
    "    def __getitem__(self, index):\n",
    "        # this is what ImageFolder normally returns \n",
    "        original_tuple = super(ImageFolderWithPaths, self).__getitem__(index)\n",
    "        # the image file path\n",
    "        path = self.imgs[index][0]\n",
    "        # make a new tuple that includes original and the path\n",
    "        tuple_with_path = (original_tuple + (path,))\n",
    "        return tuple_with_path\n",
    "\n",
    "# EXAMPLE USAGE:\n",
    "# instantiate the dataset and dataloader\n",
    "data_dir = \"./gdrive/My Drive/Assignment_dataset/A_05_Part_02_Dataset/test\"\n",
    "dataset = ImageFolderWithPaths(data_dir) # our custom dataset\n",
    "dataloader = DataLoader(dataset)\n",
    "test_transforms = transforms.Compose([transforms.Resize(256),\n",
    "                                      transforms.CenterCrop(224),\n",
    "                                      transforms.ToTensor(),\n",
    "                                      transforms.Normalize([0.485, 0.456, 0.406],\n",
    "                                                           [0.229, 0.224, 0.225])])\n",
    "\n",
    "\n",
    "test_data = ImageFolderWithPaths(data_dir_vl + '/test', transform=test_transforms)\n",
    "\n",
    "testloader = torch.utils.data.DataLoader(test_data, batch_size=1, shuffle=False)\n",
    "\n",
    "class_names = test_data.classes\n",
    "score=[]\n",
    "name=[]\n",
    "print(class_names)\n",
    "for inputs, labels, paths in testloader:\n",
    "    # use the above variables freely\n",
    "    model.eval()\n",
    "    nm=os.path.basename(os.path.normpath(paths[0]))\n",
    "    image=inputs.to(device)\n",
    "    outputs = (model(image))\n",
    "    gt=outputs.detach().to('cpu').numpy()\n",
    "    score.append((gt[0]>0.5)*1)\n",
    "    name.append(nm)\n",
    "a=np.matrix(name)\n",
    "b=np.asarray(score)#.reshape(0,-1)\n",
    "res = np.concatenate((a.T, b[:,0:1]), axis=1)\n",
    "res = np.concatenate((res,b[:,2:3]),axis=1)\n",
    "res = np.concatenate((res,b[:,1:2]),axis=1)\n",
    "print(res)\n",
    "np.savetxt(\"./gdrive/My Drive/Assignment_05/Final_Resnet_BCE.csv\", res,delimiter=',',  fmt='%s')"
   ]
  },
  {
   "cell_type": "code",
   "execution_count": 60,
   "metadata": {
    "colab": {
     "base_uri": "https://localhost:8080/",
     "height": 204
    },
    "colab_type": "code",
    "id": "BkXfnnWyoMu3",
    "outputId": "d376ae76-0887-44e1-ccd6-cdc4a349407e"
   },
   "outputs": [
    {
     "name": "stdout",
     "output_type": "stream",
     "text": [
      "Validation data \n",
      "[[[ 66. 483.]\n",
      "  [  1.  26.]]\n",
      "\n",
      " [[196.  14.]\n",
      "  [112. 254.]]\n",
      "\n",
      " [[321.  45.]\n",
      "  [ 27. 183.]]]\n",
      "F1 score\n",
      "0.5517939814814814\n"
     ]
    }
   ],
   "source": [
    "from sklearn.metrics import multilabel_confusion_matrix\n",
    "from sklearn.metrics import f1_score\n",
    "from sklearn.metrics import accuracy_score\n",
    "nb_classes = 3\n",
    "B=[]\n",
    "confusion_matrix = torch.zeros(nb_classes, nb_classes)\n",
    "predlist=torch.zeros(0,dtype=torch.long, device='cpu')\n",
    "lbllist=torch.zeros(0,dtype=torch.long, device='cpu')\n",
    "Av=np.zeros((nb_classes,2,2))\n",
    "acc=0\n",
    "i=0\n",
    "with torch.no_grad():\n",
    "    for inputs, labels in dataloaders['validation']:\n",
    "        inputs = inputs.to(device)\n",
    "        labels = labels.to(device)\n",
    "        onehot=one_hot(labels,3)\n",
    "        classes=onehot\n",
    "        for a in range(len(labels)):\n",
    "          if torch.equal(classes[a], torch.FloatTensor([ 1.,  0.,   0.]).to(device)):\n",
    "             classes[a]=torch.FloatTensor([1., 0., 1.]).to(device)  #print(classes)\n",
    "        classes=classes.long().cpu()\n",
    "        pred=model(inputs)>0.5\n",
    "        pred=pred*1\n",
    "        i=1+i\n",
    "        #pred=pred.cpu()#detach().to('cpu').numpy\n",
    "        pred=pred.long().cpu()\n",
    "        Av=multilabel_confusion_matrix(classes.numpy(), pred.numpy())+Av\n",
    "        B.append(f1_score(classes.numpy(), pred.numpy(), average='samples'))\n",
    "        #acc=accuracy_score(classes.numpy(), pred.numpy())+acc\n",
    "print('Validation data ')\n",
    "print(A)\n",
    "print('F1 score')\n",
    "print(np.mean(B))"
   ]
  },
  {
   "cell_type": "code",
   "execution_count": 61,
   "metadata": {
    "colab": {
     "base_uri": "https://localhost:8080/",
     "height": 935
    },
    "colab_type": "code",
    "id": "LgQM5gCBMp94",
    "outputId": "2b091d9a-7b10-499b-9436-580b70f8fc13"
   },
   "outputs": [
    {
     "name": "stdout",
     "output_type": "stream",
     "text": [
      "[[ 65. 489.]\n",
      " [  1.  21.]]\n"
     ]
    },
    {
     "data": {
      "image/png": "[encoded data removed]",
      "text/plain": [
       "<Figure size 432x288 with 2 Axes>"
      ]
     },
     "metadata": {
      "needs_background": "light",
      "tags": []
     },
     "output_type": "display_data"
    },
    {
     "name": "stdout",
     "output_type": "stream",
     "text": [
      "[[188.  15.]\n",
      " [110. 263.]]\n"
     ]
    },
    {
     "data": {
      "image/png": "[encoded data removed]",
      "text/plain": [
       "<Figure size 432x288 with 2 Axes>"
      ]
     },
     "metadata": {
      "needs_background": "light",
      "tags": []
     },
     "output_type": "display_data"
    },
    {
     "name": "stdout",
     "output_type": "stream",
     "text": [
      "[[324.  49.]\n",
      " [ 29. 174.]]\n"
     ]
    },
    {
     "data": {
      "image/png": "[encoded data removed]",
      "text/plain": [
       "<Figure size 432x288 with 2 Axes>"
      ]
     },
     "metadata": {
      "needs_background": "light",
      "tags": []
     },
     "output_type": "display_data"
    }
   ],
   "source": [
    "labels = ['Covid', 'Other']\n",
    "cm = Av[0,:,:]\n",
    "print(cm)\n",
    "fig = plt.figure()\n",
    "ax = fig.add_subplot(111)\n",
    "cax = ax.matshow(cm)\n",
    "plt.title('Confusion matrix of the classifier')\n",
    "fig.colorbar(cax)\n",
    "ax.set_xticklabels([''] + labels)\n",
    "ax.set_yticklabels([''] + labels)\n",
    "plt.xlabel('Predicted')\n",
    "plt.ylabel('True')\n",
    "plt.show()\n",
    "labels=['Normal', 'Other']\n",
    "cm = Av[1,:,:]\n",
    "print(cm)\n",
    "fig = plt.figure()\n",
    "ax = fig.add_subplot(111)\n",
    "cax = ax.matshow(cm)\n",
    "plt.title('Confusion matrix of the classifier')\n",
    "fig.colorbar(cax)\n",
    "ax.set_xticklabels([''] + labels)\n",
    "ax.set_yticklabels([''] + labels)\n",
    "plt.xlabel('Predicted')\n",
    "plt.ylabel('True')\n",
    "plt.show()\n",
    "labels=['Pneumonia', 'Other']\n",
    "cm = Av[2,:,:]\n",
    "print(cm)\n",
    "fig = plt.figure()\n",
    "ax = fig.add_subplot(111)\n",
    "cax = ax.matshow(cm)\n",
    "plt.title('Confusion matrix of the classifier')\n",
    "fig.colorbar(cax)\n",
    "ax.set_xticklabels([''] + labels)\n",
    "ax.set_yticklabels([''] + labels)\n",
    "plt.xlabel('Predicted')\n",
    "plt.ylabel('True')\n",
    "plt.show()"
   ]
  },
  {
   "cell_type": "code",
   "execution_count": 0,
   "metadata": {
    "colab": {},
    "colab_type": "code",
    "id": "78WcqFe5oMx7"
   },
   "outputs": [],
   "source": [
    "from sklearn.metrics import multilabel_confusion_matrix\n",
    "from sklearn.metrics import f1_score\n",
    "from sklearn.metrics import accuracy_score\n",
    "nb_classes = 3\n",
    "B=0\n",
    "confusion_matrix = torch.zeros(nb_classes, nb_classes)\n",
    "predlist=torch.zeros(0,dtype=torch.long, device='cpu')\n",
    "lbllist=torch.zeros(0,dtype=torch.long, device='cpu')\n",
    "At=np.zeros((nb_classes,2,2))\n",
    "acc=0\n",
    "i=0\n",
    "B=[]\n",
    "with torch.no_grad():\n",
    "    for inputs, labels in dataloaders['train']:\n",
    "        inputs = inputs.to(device)\n",
    "        labels = labels.to(device)\n",
    "        onehot=one_hot(labels,3)\n",
    "        classes=torch.where(onehot[0:batch]==torch.FloatTensor([ 1.,  0.,   0.]).to(device),torch.FloatTensor([1.,  0., 1.]).to(device),onehot)\n",
    "        #print(classes)\n",
    "        classes=classes.long().cpu()\n",
    "        pred=model(inputs)>0.5\n",
    "        pred=pred*1\n",
    "        #pred=pred.cpu()#detach().to('cpu').numpy\n",
    "        pred=pred.long().cpu()\n",
    "        At=multilabel_confusion_matrix(classes.numpy(), pred.numpy())+At\n",
    "        B.append(f1_score(classes.numpy(), pred.numpy(), average='macro'))\n",
    "        #acc=accuracy_score(classes.numpy(), pred.numpy())+acc\n",
    "        #i=i+1\n",
    "\n",
    "#print('train accuracy', '    ',  acc/i)"
   ]
  },
  {
   "cell_type": "code",
   "execution_count": 63,
   "metadata": {
    "colab": {
     "base_uri": "https://localhost:8080/",
     "height": 204
    },
    "colab_type": "code",
    "id": "BQhEda7_oM1c",
    "outputId": "f7129674-541a-4d4c-ce5e-0b19e820fd47"
   },
   "outputs": [
    {
     "name": "stdout",
     "output_type": "stream",
     "text": [
      "train data \n",
      "[[[ 66. 483.]\n",
      "  [  1.  26.]]\n",
      "\n",
      " [[196.  14.]\n",
      "  [112. 254.]]\n",
      "\n",
      " [[321.  45.]\n",
      "  [ 27. 183.]]]\n",
      "F1 score\n",
      "0.4745731387180933\n"
     ]
    }
   ],
   "source": [
    "print('train data ')\n",
    "print(At)\n",
    "print('F1 score')\n",
    "print(np.mean(B))\n",
    "titles_options = [(\"Confusion matrix, without normalization\", None),\n",
    "                  (\"Normalized confusion matrix\", 'true')]\n",
    "plt.show()"
   ]
  },
  {
   "cell_type": "code",
   "execution_count": 64,
   "metadata": {
    "colab": {
     "base_uri": "https://localhost:8080/",
     "height": 935
    },
    "colab_type": "code",
    "id": "kYjIjyiYoM4m",
    "outputId": "61615a62-2392-4aa5-f1a0-93140bdc7504"
   },
   "outputs": [
    {
     "name": "stdout",
     "output_type": "stream",
     "text": [
      "[[ 692. 5254.]\n",
      " [   0.  198.]]\n"
     ]
    },
    {
     "data": {
      "image/png": "[encoded data removed]",
      "text/plain": [
       "<Figure size 432x288 with 2 Axes>"
      ]
     },
     "metadata": {
      "needs_background": "light",
      "tags": []
     },
     "output_type": "display_data"
    },
    {
     "name": "stdout",
     "output_type": "stream",
     "text": [
      "[[2078.   96.]\n",
      " [1300. 2670.]]\n"
     ]
    },
    {
     "data": {
      "image/png": "[encoded data removed]",
      "text/plain": [
       "<Figure size 432x288 with 2 Axes>"
      ]
     },
     "metadata": {
      "needs_background": "light",
      "tags": []
     },
     "output_type": "display_data"
    },
    {
     "name": "stdout",
     "output_type": "stream",
     "text": [
      "[[   0.    0.]\n",
      " [3721. 2423.]]\n"
     ]
    },
    {
     "data": {
      "image/png": "[encoded data removed]",
      "text/plain": [
       "<Figure size 432x288 with 2 Axes>"
      ]
     },
     "metadata": {
      "needs_background": "light",
      "tags": []
     },
     "output_type": "display_data"
    }
   ],
   "source": [
    "labels = ['Covid', 'Other']\n",
    "cm = At[0,:,:]\n",
    "print(cm)\n",
    "fig = plt.figure()\n",
    "ax = fig.add_subplot(111)\n",
    "cax = ax.matshow(cm)\n",
    "plt.title('Confusion matrix of the classifier')\n",
    "fig.colorbar(cax)\n",
    "ax.set_xticklabels([''] + labels)\n",
    "ax.set_yticklabels([''] + labels)\n",
    "plt.xlabel('Predicted')\n",
    "plt.ylabel('True')\n",
    "plt.show()\n",
    "labels=['Normal', 'Other']\n",
    "cm = At[1,:,:]\n",
    "print(cm)\n",
    "fig = plt.figure()\n",
    "ax = fig.add_subplot(111)\n",
    "cax = ax.matshow(cm)\n",
    "plt.title('Confusion matrix of the classifier')\n",
    "fig.colorbar(cax)\n",
    "ax.set_xticklabels([''] + labels)\n",
    "ax.set_yticklabels([''] + labels)\n",
    "plt.xlabel('Predicted')\n",
    "plt.ylabel('True')\n",
    "plt.show()\n",
    "labels=['Pneumonia', 'Other']\n",
    "cm = At[2,:,:]\n",
    "print(cm)\n",
    "fig = plt.figure()\n",
    "ax = fig.add_subplot(111)\n",
    "cax = ax.matshow(cm)\n",
    "plt.title('Confusion matrix of the classifier')\n",
    "fig.colorbar(cax)\n",
    "ax.set_xticklabels([''] + labels)\n",
    "ax.set_yticklabels([''] + labels)\n",
    "plt.xlabel('Predicted')\n",
    "plt.ylabel('True')\n",
    "plt.show()"
   ]
  },
  {
   "cell_type": "markdown",
   "metadata": {
    "colab_type": "text",
    "id": "M5BajZ3BpV9r"
   },
   "source": [
    "### 1. Import dependencies"
   ]
  },
  {
   "cell_type": "code",
   "execution_count": 21,
   "metadata": {
    "colab": {
     "base_uri": "https://localhost:8080/",
     "height": 34
    },
    "colab_type": "code",
    "id": "WNjaFvWcpZlc",
    "outputId": "ea078f69-ccfc-47d5-f2de-f527bda8df7a"
   },
   "outputs": [
    {
     "name": "stdout",
     "output_type": "stream",
     "text": [
      "Drive already mounted at ./gdrive; to attempt to forcibly remount, call drive.mount(\"./gdrive\", force_remount=True).\n"
     ]
    }
   ],
   "source": [
    "from google.colab import drive\n",
    "drive.mount('./gdrive')\n"
   ]
  },
  {
   "cell_type": "code",
   "execution_count": 0,
   "metadata": {
    "colab": {},
    "colab_type": "code",
    "id": "HuHcz5F7ly3k"
   },
   "outputs": [],
   "source": [
    "#!unzip \"./gdrive/My Drive/A_05_Part_02_Dataset.zip\" -d \"./gdrive/My Drive/Assignment_dataset\""
   ]
  },
  {
   "cell_type": "code",
   "execution_count": 23,
   "metadata": {
    "colab": {
     "base_uri": "https://localhost:8080/",
     "height": 190
    },
    "colab_type": "code",
    "id": "hxICEXlu_jt1",
    "outputId": "98bf33c9-34d7-4ea3-a293-da76f3bc617b"
   },
   "outputs": [
    {
     "name": "stdout",
     "output_type": "stream",
     "text": [
      "Collecting torch==1.4.0\n",
      "\u001b[31m  ERROR: HTTP error 403 while getting http://download.pytorch.org/whl/cu92/torch-1.4.0-cp36-cp36m-linux_x86_64.whl\u001b[0m\n",
      "\u001b[31m  ERROR: Could not install requirement torch==1.4.0 from http://download.pytorch.org/whl/cu92/torch-1.4.0-cp36-cp36m-linux_x86_64.whl because of error 403 Client Error: Forbidden for url: http://download.pytorch.org/whl/cu92/torch-1.4.0-cp36-cp36m-linux_x86_64.whl\u001b[0m\n",
      "\u001b[31mERROR: Could not install requirement torch==1.4.0 from http://download.pytorch.org/whl/cu92/torch-1.4.0-cp36-cp36m-linux_x86_64.whl because of HTTP error 403 Client Error: Forbidden for url: http://download.pytorch.org/whl/cu92/torch-1.4.0-cp36-cp36m-linux_x86_64.whl for URL http://download.pytorch.org/whl/cu92/torch-1.4.0-cp36-cp36m-linux_x86_64.whl\u001b[0m\n",
      "Requirement already satisfied: torchvision in /usr/local/lib/python3.6/dist-packages (0.6.0+cu101)\n",
      "Requirement already satisfied: numpy in /usr/local/lib/python3.6/dist-packages (from torchvision) (1.18.3)\n",
      "Requirement already satisfied: pillow>=4.1.1 in /usr/local/lib/python3.6/dist-packages (from torchvision) (7.0.0)\n",
      "Requirement already satisfied: torch==1.5.0 in /usr/local/lib/python3.6/dist-packages (from torchvision) (1.5.0+cu101)\n",
      "Requirement already satisfied: future in /usr/local/lib/python3.6/dist-packages (from torch==1.5.0->torchvision) (0.16.0)\n"
     ]
    }
   ],
   "source": [
    "!pip3 install http://download.pytorch.org/whl/cu92/torch-1.4.0-cp36-cp36m-linux_x86_64.whl\n",
    "!pip3 install torchvision"
   ]
  },
  {
   "cell_type": "code",
   "execution_count": 0,
   "metadata": {
    "colab": {},
    "colab_type": "code",
    "id": "ODdDPwVrpV9t"
   },
   "outputs": [],
   "source": [
    "import numpy as np\n",
    "%matplotlib inline\n",
    "import matplotlib.pyplot as plt\n",
    "from PIL import Image\n",
    "import os\n",
    "import os.path\n",
    "import sys"
   ]
  },
  {
   "cell_type": "code",
   "execution_count": 0,
   "metadata": {
    "colab": {},
    "colab_type": "code",
    "id": "Qx5ltzAtpYwh"
   },
   "outputs": [],
   "source": []
  },
  {
   "cell_type": "code",
   "execution_count": 0,
   "metadata": {
    "colab": {},
    "colab_type": "code",
    "id": "rkzhyo3MpV9x"
   },
   "outputs": [],
   "source": [
    "import torch\n",
    "import torchvision\n",
    "from torchvision import datasets, models, transforms\n",
    "import torch.nn as nn\n",
    "from torch.utils.data import Dataset, DataLoader ,random_split\n",
    "from torch.nn import functional as F\n",
    "import torch.optim as optim\n"
   ]
  },
  {
   "cell_type": "code",
   "execution_count": 0,
   "metadata": {
    "colab": {},
    "colab_type": "code",
    "id": "CJQdw6xnpV90"
   },
   "outputs": [],
   "source": [
    "#dir(models)"
   ]
  },
  {
   "cell_type": "code",
   "execution_count": 27,
   "metadata": {
    "colab": {
     "base_uri": "https://localhost:8080/",
     "height": 34
    },
    "colab_type": "code",
    "id": "ZJpYZ0q3pV94",
    "outputId": "05205be5-84e0-4b37-bd54-df59e1b514e1"
   },
   "outputs": [
    {
     "data": {
      "text/plain": [
       "'1.5.0+cu101'"
      ]
     },
     "execution_count": 27,
     "metadata": {
      "tags": []
     },
     "output_type": "execute_result"
    }
   ],
   "source": [
    "torch.__version__"
   ]
  },
  {
   "cell_type": "code",
   "execution_count": 28,
   "metadata": {
    "colab": {
     "base_uri": "https://localhost:8080/",
     "height": 34
    },
    "colab_type": "code",
    "id": "8ca693InlC_A",
    "outputId": "fcf5a465-d3fc-4a82-eff2-0611637a5b8d"
   },
   "outputs": [
    {
     "name": "stdout",
     "output_type": "stream",
     "text": [
      "cuda:0\n"
     ]
    }
   ],
   "source": [
    "device = torch.device(\"cuda:0\" if torch.cuda.is_available() else \"cpu\")\n",
    "print(device)"
   ]
  },
  {
   "cell_type": "code",
   "execution_count": 0,
   "metadata": {
    "colab": {},
    "colab_type": "code",
    "id": "b5sUPJ24pwtW"
   },
   "outputs": [],
   "source": [
    "data_dir_tr = \"./gdrive/My Drive/Assign_5_Augm/train_aug\"\n",
    "data_dir_vl = \"./gdrive/My Drive/Assignment_dataset/A_05_Part_02_Dataset\""
   ]
  },
  {
   "cell_type": "markdown",
   "metadata": {
    "colab_type": "text",
    "id": "7mOfxO4upV98"
   },
   "source": [
    "### 2. Create PyTorch data generators"
   ]
  },
  {
   "cell_type": "code",
   "execution_count": 0,
   "metadata": {
    "colab": {},
    "colab_type": "code",
    "id": "xPmDLJMBzfsH"
   },
   "outputs": [],
   "source": []
  },
  {
   "cell_type": "code",
   "execution_count": 71,
   "metadata": {
    "colab": {
     "base_uri": "https://localhost:8080/",
     "height": 204
    },
    "colab_type": "code",
    "id": "7ONDJ6BZpV98",
    "outputId": "4786a572-01a7-41e9-dbf1-2c05fddbc7fb"
   },
   "outputs": [
    {
     "name": "stdout",
     "output_type": "stream",
     "text": [
      "Dataset ImageFolder\n",
      "    Number of datapoints: 628\n",
      "    Root location: ./gdrive/My Drive/Assignment_dataset/A_05_Part_02_Dataset/Validation\n",
      "    StandardTransform\n",
      "Transform: Compose(\n",
      "               Resize(size=(224, 224), interpolation=PIL.Image.BILINEAR)\n",
      "               ToTensor()\n",
      "               Normalize(mean=[0.485, 0.456, 0.406], std=[0.229, 0.224, 0.225])\n",
      "           )\n",
      "{'covid-19': 0, 'normal': 1, 'pneumonia': 2}\n"
     ]
    },
    {
     "data": {
      "text/plain": [
       "6200"
      ]
     },
     "execution_count": 71,
     "metadata": {
      "tags": []
     },
     "output_type": "execute_result"
    }
   ],
   "source": [
    "normalize = transforms.Normalize(mean=[0.485, 0.456, 0.406],\n",
    "                                 std=[0.229, 0.224, 0.225])\n",
    "batch=64\n",
    "data_transforms = {\n",
    "    'train':\n",
    "    transforms.Compose([\n",
    "        transforms.Resize((224,224)),\n",
    "        transforms.RandomAffine(0, shear=10, scale=(0.8,1.2)),\n",
    "        transforms.RandomHorizontalFlip(),\n",
    "        transforms.ToTensor(),\n",
    "        normalize\n",
    "    ]),\n",
    "    'validation':\n",
    "    transforms.Compose([\n",
    "        transforms.Resize((224,224)),\n",
    "        transforms.ToTensor(),\n",
    "        normalize\n",
    "    ]),\n",
    "}\n",
    "\n",
    "image_datasets = {\n",
    "    'train': \n",
    "    datasets.ImageFolder(data_dir_vl+'/Train', data_transforms['train']),\n",
    "    'validation': \n",
    "    datasets.ImageFolder(data_dir_vl+'/Validation', data_transforms['validation'])\n",
    "}\n",
    "#image_datasets['validation'].class_to_idx={'covid-19': [1,0,0], 'normal': [0,1,0], 'pneumonia': [0,0,1]}\n",
    "A=image_datasets['validation']\n",
    "print(A)\n",
    "dataloaders = {\n",
    "    'train':\n",
    "    torch.utils.data.DataLoader(image_datasets['train'],\n",
    "                                batch_size=batch,\n",
    "                                shuffle=True,drop_last=True,num_workers=4),\n",
    "    'validation':\n",
    "    torch.utils.data.DataLoader(image_datasets['validation'],\n",
    "                                batch_size=batch,\n",
    "                                shuffle=True,drop_last=True,num_workers=4)\n",
    "}\n",
    "print(image_datasets['train'].class_to_idx)\n",
    "\n",
    "\n",
    "def one_hot(x, class_count):\n",
    "    return torch.eye(class_count).to(device)[x,:]\n",
    "len(image_datasets['train'])\n",
    "#for inputs, labels in dataloaders['validation']:\n",
    " #print(labels.data)\n",
    " #x = labels\n",
    " #class_count = 3\n",
    " #print(labels)\n",
    " #onehot=one_hot(labels,3)\n",
    " #onehot[torch.equal(onehot[0:batch],torch.FloatTensor([1,0,0]).to(device))]=(torch.FloatTensor([1,0,1]).clone()).to(device)\n",
    "                #y[y[0:200]==torch.FloatTensor([1., 0., 0.]).to(device)]=torch.FloatTensor([1., 0., 1.]).to(device)\n",
    " #print(onehot)\n",
    " #onehot=torch.where(onehot[0:batch] == torch.FloatTensor([ 1.,  0.,   0.]).to(device),torch.FloatTensor([1.,  0., 1.]).to(device),onehot)\n",
    " #onehot=torch.where(torch.eq(onehot[0:batch],torch.FloatTensor([ 1.,  0.,   0.]).to(device)),torch.FloatTensor([1.,  0., 1.]).to(device),onehot)\n",
    " #tensor[tensor==4] = sixteens_tensor.clone()\n",
    "   \n",
    " #for a in range(len(labels)):\n",
    "  #   if torch.equal(onehot[a], torch.FloatTensor([ 1.,  0.,   0.]).to(device)):\n",
    "   #    onehot[a]=torch.FloatTensor([1., 0., 1.]).to(device)\n",
    "\n",
    " #print(onehot)\n",
    " #y = torch.LongTensor(128,1).random_() % 3\n",
    "# One hot encoding buffer that you create out of the loop and just keep reusing\n",
    " #y_onehot = torch.FloatTensor(batch, 3)\n",
    " #y_onehot.zero_()\n",
    " #y_onehot.scatter_(1, labels, 1)t5\n",
    " #print(one_hot(x,class_count))\n",
    "#list(zip(image_datasets['train'].class_to_idx))\n",
    "#len(image_datasets['validation'])"
   ]
  },
  {
   "cell_type": "markdown",
   "metadata": {
    "colab_type": "text",
    "id": "vuwc4A6QpV9_"
   },
   "source": [
    "### 3. Create the network"
   ]
  },
  {
   "cell_type": "code",
   "execution_count": 0,
   "metadata": {
    "colab": {},
    "colab_type": "code",
    "id": "HZDJXDeDpV9_"
   },
   "outputs": [],
   "source": []
  },
  {
   "cell_type": "code",
   "execution_count": 0,
   "metadata": {
    "colab": {},
    "colab_type": "code",
    "id": "RmW281-kXXxN"
   },
   "outputs": [],
   "source": []
  },
  {
   "cell_type": "code",
   "execution_count": 72,
   "metadata": {
    "colab": {
     "base_uri": "https://localhost:8080/",
     "height": 1000
    },
    "colab_type": "code",
    "id": "3uaoWqBkpV-C",
    "outputId": "af4c8ef3-36a9-48be-af45-c473b4470a50"
   },
   "outputs": [
    {
     "name": "stdout",
     "output_type": "stream",
     "text": [
      "ResNet(\n",
      "  (conv1): Conv2d(3, 64, kernel_size=(7, 7), stride=(2, 2), padding=(3, 3), bias=False)\n",
      "  (bn1): BatchNorm2d(64, eps=1e-05, momentum=0.1, affine=True, track_running_stats=True)\n",
      "  (relu): ReLU(inplace=True)\n",
      "  (maxpool): MaxPool2d(kernel_size=3, stride=2, padding=1, dilation=1, ceil_mode=False)\n",
      "  (layer1): Sequential(\n",
      "    (0): BasicBlock(\n",
      "      (conv1): Conv2d(64, 64, kernel_size=(3, 3), stride=(1, 1), padding=(1, 1), bias=False)\n",
      "      (bn1): BatchNorm2d(64, eps=1e-05, momentum=0.1, affine=True, track_running_stats=True)\n",
      "      (relu): ReLU(inplace=True)\n",
      "      (conv2): Conv2d(64, 64, kernel_size=(3, 3), stride=(1, 1), padding=(1, 1), bias=False)\n",
      "      (bn2): BatchNorm2d(64, eps=1e-05, momentum=0.1, affine=True, track_running_stats=True)\n",
      "    )\n",
      "    (1): BasicBlock(\n",
      "      (conv1): Conv2d(64, 64, kernel_size=(3, 3), stride=(1, 1), padding=(1, 1), bias=False)\n",
      "      (bn1): BatchNorm2d(64, eps=1e-05, momentum=0.1, affine=True, track_running_stats=True)\n",
      "      (relu): ReLU(inplace=True)\n",
      "      (conv2): Conv2d(64, 64, kernel_size=(3, 3), stride=(1, 1), padding=(1, 1), bias=False)\n",
      "      (bn2): BatchNorm2d(64, eps=1e-05, momentum=0.1, affine=True, track_running_stats=True)\n",
      "    )\n",
      "  )\n",
      "  (layer2): Sequential(\n",
      "    (0): BasicBlock(\n",
      "      (conv1): Conv2d(64, 128, kernel_size=(3, 3), stride=(2, 2), padding=(1, 1), bias=False)\n",
      "      (bn1): BatchNorm2d(128, eps=1e-05, momentum=0.1, affine=True, track_running_stats=True)\n",
      "      (relu): ReLU(inplace=True)\n",
      "      (conv2): Conv2d(128, 128, kernel_size=(3, 3), stride=(1, 1), padding=(1, 1), bias=False)\n",
      "      (bn2): BatchNorm2d(128, eps=1e-05, momentum=0.1, affine=True, track_running_stats=True)\n",
      "      (downsample): Sequential(\n",
      "        (0): Conv2d(64, 128, kernel_size=(1, 1), stride=(2, 2), bias=False)\n",
      "        (1): BatchNorm2d(128, eps=1e-05, momentum=0.1, affine=True, track_running_stats=True)\n",
      "      )\n",
      "    )\n",
      "    (1): BasicBlock(\n",
      "      (conv1): Conv2d(128, 128, kernel_size=(3, 3), stride=(1, 1), padding=(1, 1), bias=False)\n",
      "      (bn1): BatchNorm2d(128, eps=1e-05, momentum=0.1, affine=True, track_running_stats=True)\n",
      "      (relu): ReLU(inplace=True)\n",
      "      (conv2): Conv2d(128, 128, kernel_size=(3, 3), stride=(1, 1), padding=(1, 1), bias=False)\n",
      "      (bn2): BatchNorm2d(128, eps=1e-05, momentum=0.1, affine=True, track_running_stats=True)\n",
      "    )\n",
      "  )\n",
      "  (layer3): Sequential(\n",
      "    (0): BasicBlock(\n",
      "      (conv1): Conv2d(128, 256, kernel_size=(3, 3), stride=(2, 2), padding=(1, 1), bias=False)\n",
      "      (bn1): BatchNorm2d(256, eps=1e-05, momentum=0.1, affine=True, track_running_stats=True)\n",
      "      (relu): ReLU(inplace=True)\n",
      "      (conv2): Conv2d(256, 256, kernel_size=(3, 3), stride=(1, 1), padding=(1, 1), bias=False)\n",
      "      (bn2): BatchNorm2d(256, eps=1e-05, momentum=0.1, affine=True, track_running_stats=True)\n",
      "      (downsample): Sequential(\n",
      "        (0): Conv2d(128, 256, kernel_size=(1, 1), stride=(2, 2), bias=False)\n",
      "        (1): BatchNorm2d(256, eps=1e-05, momentum=0.1, affine=True, track_running_stats=True)\n",
      "      )\n",
      "    )\n",
      "    (1): BasicBlock(\n",
      "      (conv1): Conv2d(256, 256, kernel_size=(3, 3), stride=(1, 1), padding=(1, 1), bias=False)\n",
      "      (bn1): BatchNorm2d(256, eps=1e-05, momentum=0.1, affine=True, track_running_stats=True)\n",
      "      (relu): ReLU(inplace=True)\n",
      "      (conv2): Conv2d(256, 256, kernel_size=(3, 3), stride=(1, 1), padding=(1, 1), bias=False)\n",
      "      (bn2): BatchNorm2d(256, eps=1e-05, momentum=0.1, affine=True, track_running_stats=True)\n",
      "    )\n",
      "  )\n",
      "  (layer4): Sequential(\n",
      "    (0): BasicBlock(\n",
      "      (conv1): Conv2d(256, 512, kernel_size=(3, 3), stride=(2, 2), padding=(1, 1), bias=False)\n",
      "      (bn1): BatchNorm2d(512, eps=1e-05, momentum=0.1, affine=True, track_running_stats=True)\n",
      "      (relu): ReLU(inplace=True)\n",
      "      (conv2): Conv2d(512, 512, kernel_size=(3, 3), stride=(1, 1), padding=(1, 1), bias=False)\n",
      "      (bn2): BatchNorm2d(512, eps=1e-05, momentum=0.1, affine=True, track_running_stats=True)\n",
      "      (downsample): Sequential(\n",
      "        (0): Conv2d(256, 512, kernel_size=(1, 1), stride=(2, 2), bias=False)\n",
      "        (1): BatchNorm2d(512, eps=1e-05, momentum=0.1, affine=True, track_running_stats=True)\n",
      "      )\n",
      "    )\n",
      "    (1): BasicBlock(\n",
      "      (conv1): Conv2d(512, 512, kernel_size=(3, 3), stride=(1, 1), padding=(1, 1), bias=False)\n",
      "      (bn1): BatchNorm2d(512, eps=1e-05, momentum=0.1, affine=True, track_running_stats=True)\n",
      "      (relu): ReLU(inplace=True)\n",
      "      (conv2): Conv2d(512, 512, kernel_size=(3, 3), stride=(1, 1), padding=(1, 1), bias=False)\n",
      "      (bn2): BatchNorm2d(512, eps=1e-05, momentum=0.1, affine=True, track_running_stats=True)\n",
      "    )\n",
      "  )\n",
      "  (avgpool): AdaptiveAvgPool2d(output_size=(1, 1))\n",
      "  (fc): Linear(in_features=512, out_features=1000, bias=True)\n",
      ")\n"
     ]
    }
   ],
   "source": [
    "model = models.resnet18(pretrained=True).to(device)\n",
    "print(model)\n",
    "num_features = model.fc.in_features\n",
    "for param in model.parameters():\n",
    "  param.requires_grad=False\n",
    "model.fc=nn.Sequential( nn.Linear(num_features,5000),\n",
    "                               nn.LeakyReLU(),\n",
    "                                #nn.Dropout(p=0.5,inplace=False),\n",
    "                                nn.Linear(5000,1200),\n",
    "                                nn.LeakyReLU(),\n",
    "                                nn.Linear(1200,3)).to(device)\n"
   ]
  },
  {
   "cell_type": "code",
   "execution_count": 0,
   "metadata": {
    "colab": {},
    "colab_type": "code",
    "id": "b87T2kpfq75N"
   },
   "outputs": [],
   "source": [
    "def Focalloss(x,y,alpha=0.3,gamma=2):\n",
    "  pos_weight = torch.ones([batch]).to(device)\n",
    "  BCE=nn.BCEWithLogitsLoss(pos_weight=pos_weight)\n",
    "  BCE_LOSS=BCE(x,y)\n",
    "  pt=torch.exp(-BCE_LOSS)\n",
    "  FL=alpha*BCE_LOSS*(1-pt)**gamma\n",
    "  return FL\n",
    "\n",
    "\n"
   ]
  },
  {
   "cell_type": "code",
   "execution_count": 74,
   "metadata": {
    "colab": {
     "base_uri": "https://localhost:8080/",
     "height": 119
    },
    "colab_type": "code",
    "id": "6ItFFvE-pV-H",
    "outputId": "8a1103a2-a21b-4eea-eee5-5589f0447ba6"
   },
   "outputs": [
    {
     "name": "stdout",
     "output_type": "stream",
     "text": [
      "True\n",
      "True\n",
      "True\n",
      "True\n",
      "True\n",
      "True\n"
     ]
    }
   ],
   "source": [
    "#criterion = nn.CrossEntropyLoss()\n",
    "#optimizer = optim.SGD(model.fc.parameters(),lr=0.001, momentum=0.9)\n",
    "for param in filter(lambda p: p.requires_grad, model.parameters()):\n",
    "  print(param.requires_grad)\n",
    "optimizer = optim.Adam(filter(lambda p: p.requires_grad, model.parameters()),lr=0.001)"
   ]
  },
  {
   "cell_type": "code",
   "execution_count": 0,
   "metadata": {
    "colab": {},
    "colab_type": "code",
    "id": "AfVlHMxXq6_D"
   },
   "outputs": [],
   "source": []
  },
  {
   "cell_type": "markdown",
   "metadata": {
    "colab_type": "text",
    "id": "VmrAw3XHpV-J"
   },
   "source": [
    "### 4. Train the model"
   ]
  },
  {
   "cell_type": "code",
   "execution_count": 0,
   "metadata": {
    "colab": {},
    "colab_type": "code",
    "id": "SrUC-i8HpV-K"
   },
   "outputs": [],
   "source": [
    "#batch=128\n",
    "def train_model(model, Focalloss, optimizer, num_epochs=3):\n",
    "    loss_train=[]\n",
    "    loss_val=[]\n",
    "    acc_train=[]\n",
    "    acc_val=[]\n",
    "    Epochs=[]\n",
    "    for epoch in range(num_epochs):\n",
    "        print('Epoch ' ,epoch+1,'/',num_epochs)\n",
    "        print('-' * 10)\n",
    "\n",
    "        for phase in ['train', 'validation']:\n",
    "            if phase == 'train':\n",
    "                model.train()\n",
    "            else:\n",
    "                model.eval()\n",
    "\n",
    "            running_loss = 0.0\n",
    "            running_corrects = 0\n",
    "            i=0\n",
    "\n",
    "            for inputs, labels in dataloaders[phase]:\n",
    "                inputs = inputs.to(device)\n",
    "                labels = labels.to(device)\n",
    "                # print(labels)\n",
    "                # One hot encoding buffer that you create out of the loop and just keep reusing\n",
    "                #y_onehot = torch.FloatTensor(batch, 3).to(device)\n",
    "                #y_onehot.zero_().to(device)\n",
    "                #y_onehot.scatter_(1, labels, 1).to(device)\n",
    "                onehot=one_hot(labels,3)\n",
    "                #onehot[onehot[0:batch]==torch.FloatTensor([1,0,0]).to(device)]=(torch.FloatTensor([1,0,1]).clone()).to(device)\n",
    "                #y[y[0:200]==torch.FloatTensor([1., 0., 0.]).to(device)]=torch.FloatTensor([1., 0., 1.]).to(device)\n",
    "                for a in range(len(labels)):\n",
    "                    if torch.equal(onehot[a], torch.FloatTensor([ 1.,  0.,   0.]).to(device)):\n",
    "                        onehot[a]=torch.FloatTensor([1., 0., 1.]).to(device)\n",
    "                #for i in range(len(onehot)):\n",
    "                #print(onehot[:])\n",
    "                #print(onehot.dtype,'hotcoding')\n",
    "                i=i+1\n",
    "                #for inputs, labels in dataloaders['validation']:\n",
    "                #print(labels.data)\n",
    "\n",
    "\n",
    "                outputs = model(inputs)\n",
    "                #print(outputs.shape)\n",
    "                loss = Focalloss(outputs.T, onehot.T,alpha=0.7,gamma=1.5)\n",
    "                #print(loss,'  loss')\n",
    "                print('\\r ',i,'  ','loss  ',loss,end='')\n",
    "                \n",
    "                if phase == 'train':\n",
    "                    optimizer.zero_grad()\n",
    "                    loss.backward()\n",
    "                    optimizer.step()\n",
    "                m=torch.nn.Sigmoid()\n",
    "                preds = m(outputs).data>0.5\n",
    "                #print(preds.shape,'\\n')\n",
    "                running_loss += loss.detach() * inputs.size(0)\n",
    "                running_corrects += torch.sum(preds[0:batch] == (onehot[0:batch]))/3\n",
    "            \n",
    "            epoch_loss = running_loss / len(image_datasets[phase])\n",
    "            epoch_acc = running_corrects.float() / len(image_datasets[phase])\n",
    "            if phase == 'train':\n",
    "                acc_train.append(epoch_acc)\n",
    "                loss_train.append(epoch_loss)\n",
    "            else:\n",
    "                acc_val.append(epoch_acc)\n",
    "                loss_val.append(epoch_loss)\n",
    "                \n",
    "            #Epochs,append(epoch_acc)\n",
    "\n",
    "            print('  ','{} loss: {:.4f}, acc: {:.4f}'.format(phase,\n",
    "                                                        epoch_loss.item(),\n",
    "                                                        epoch_acc.item()))\n",
    "    \n",
    "    A=plt.figure(1)\n",
    "    #plt.plot(it,Loss,label='CE')\n",
    "    plt.plot(range(num_epochs),acc_train,'r--',label='Training Accuracy')\n",
    "    plt.plot(range(num_epochs),acc_val,'g--',label='Val Accuracy')\n",
    "    #print(Loss)\n",
    "    A.legend()\n",
    "    plt.xlabel('Epochs')\n",
    "    plt.ylabel('Accuracy')\n",
    "    g = plt.figure(2)\n",
    "    plt.plot(range(num_epochs),loss_train,'r--',label='Training Loss')\n",
    "    plt.plot(range(num_epochs),loss_val,'g--',label='Validation Loss')\n",
    "    plt.xlabel('Epochs')\n",
    "    plt.ylabel('Loss')\n",
    "    g.legend()\n",
    "    #g.savefig(('LOss'.png'),dpi=1200)        \n",
    "    return model\n"
   ]
  },
  {
   "cell_type": "code",
   "execution_count": 77,
   "metadata": {
    "colab": {
     "base_uri": "https://localhost:8080/",
     "height": 102
    },
    "colab_type": "code",
    "id": "tdyGHlylvTYk",
    "outputId": "94dd89f5-c7ae-4e36-a647-b3fc27e4e1aa"
   },
   "outputs": [
    {
     "name": "stdout",
     "output_type": "stream",
     "text": [
      "tensor([[ 3221520., 16492322.,   836999.],\n",
      "        [ 6525697.,  7119278., 15703674.],\n",
      "        [ 8839566., 13647771.,  5243800.],\n",
      "        [ 5908978., 16099398., 14026799.],\n",
      "        [16426488., 13958844., 16268525.]], device='cuda:0')\n"
     ]
    }
   ],
   "source": [
    "y = torch.FloatTensor(200,3).random_().to(device)\n",
    "#print(y)\n",
    "print(y[0:5])\n",
    "q =[[0,1,2],[3,0,4],[5,6,0]]\n",
    "tense_tensor = torch.tensor(q)\n"
   ]
  },
  {
   "cell_type": "code",
   "execution_count": 0,
   "metadata": {
    "colab": {},
    "colab_type": "code",
    "id": "Vn9CD5TnvUGR"
   },
   "outputs": [],
   "source": [
    "\n",
    "#y[y[0:200]==torch.FloatTensor([16583221., 12498836., 11103416.])]=torch.FloatTensor([1.,  0., 1.]).to(device)\n",
    "#print(torch.where(y[0:200]==torch.FloatTensor([ 803131.,  5802761.,   894371.]).to(device),torch.FloatTensor([1.,  0., 1.]).to(device),y))"
   ]
  },
  {
   "cell_type": "code",
   "execution_count": 0,
   "metadata": {
    "colab": {},
    "colab_type": "code",
    "id": "YBT3ZJmsNveL"
   },
   "outputs": [],
   "source": []
  },
  {
   "cell_type": "code",
   "execution_count": 0,
   "metadata": {
    "colab": {},
    "colab_type": "code",
    "id": "j98cJfAqNvcb"
   },
   "outputs": [],
   "source": []
  },
  {
   "cell_type": "code",
   "execution_count": 0,
   "metadata": {
    "colab": {},
    "colab_type": "code",
    "id": "ErZ2fiM4yJXu"
   },
   "outputs": [],
   "source": [
    "len(image_datasets['train'])"
   ]
  },
  {
   "cell_type": "markdown",
   "metadata": {
    "colab_type": "text",
    "id": "sN-_jQq9a62j"
   },
   "source": [
    "[link text](https://)"
   ]
  },
  {
   "cell_type": "markdown",
   "metadata": {
    "colab_type": "text",
    "id": "4_3pvhDYa6zV"
   },
   "source": []
  },
  {
   "cell_type": "code",
   "execution_count": 78,
   "metadata": {
    "colab": {
     "base_uri": "https://localhost:8080/",
     "height": 1000
    },
    "colab_type": "code",
    "id": "QeBRulVJpV-N",
    "outputId": "a6777a08-5477-4aa8-8d78-b40bcf94a73b",
    "scrolled": false
   },
   "outputs": [
    {
     "name": "stdout",
     "output_type": "stream",
     "text": [
      "Epoch  1 / 30\n",
      "----------\n",
      "  96    loss   tensor(0.0140, device='cuda:0', grad_fn=<MulBackward0>)   train loss: 0.0442, acc: 0.8513\n",
      "  9    loss   tensor(0.0283, device='cuda:0', grad_fn=<MulBackward0>)   validation loss: 0.0199, acc: 0.8201\n",
      "Epoch  2 / 30\n",
      "----------\n",
      "  96    loss   tensor(0.0231, device='cuda:0', grad_fn=<MulBackward0>)   train loss: 0.0239, acc: 0.8795\n",
      "  9    loss   tensor(0.0296, device='cuda:0', grad_fn=<MulBackward0>)   validation loss: 0.0229, acc: 0.8264\n",
      "Epoch  3 / 30\n",
      "----------\n",
      "  96    loss   tensor(0.0418, device='cuda:0', grad_fn=<MulBackward0>)   train loss: 0.0164, acc: 0.8956\n",
      "  9    loss   tensor(0.0202, device='cuda:0', grad_fn=<MulBackward0>)   validation loss: 0.0183, acc: 0.8280\n",
      "Epoch  4 / 30\n",
      "----------\n",
      "  96    loss   tensor(0.0184, device='cuda:0', grad_fn=<MulBackward0>)   train loss: 0.0172, acc: 0.8911\n",
      "  9    loss   tensor(0.0213, device='cuda:0', grad_fn=<MulBackward0>)   validation loss: 0.0162, acc: 0.8248\n",
      "Epoch  5 / 30\n",
      "----------\n",
      "  96    loss   tensor(0.0163, device='cuda:0', grad_fn=<MulBackward0>)   train loss: 0.0154, acc: 0.8989\n",
      "  9    loss   tensor(0.0184, device='cuda:0', grad_fn=<MulBackward0>)   validation loss: 0.0181, acc: 0.8248\n",
      "Epoch  6 / 30\n",
      "----------\n",
      "  96    loss   tensor(0.0242, device='cuda:0', grad_fn=<MulBackward0>)   train loss: 0.0168, acc: 0.8942\n",
      "  9    loss   tensor(0.0207, device='cuda:0', grad_fn=<MulBackward0>)   validation loss: 0.0182, acc: 0.8201\n",
      "Epoch  7 / 30\n",
      "----------\n",
      "  96    loss   tensor(0.0386, device='cuda:0', grad_fn=<MulBackward0>)   train loss: 0.0149, acc: 0.8990\n",
      "  9    loss   tensor(0.0086, device='cuda:0', grad_fn=<MulBackward0>)   validation loss: 0.0212, acc: 0.8232\n",
      "Epoch  8 / 30\n",
      "----------\n",
      "  96    loss   tensor(0.0293, device='cuda:0', grad_fn=<MulBackward0>)   train loss: 0.0163, acc: 0.8973\n",
      "  9    loss   tensor(0.0299, device='cuda:0', grad_fn=<MulBackward0>)   validation loss: 0.0287, acc: 0.8025\n",
      "Epoch  9 / 30\n",
      "----------\n",
      "  96    loss   tensor(0.0115, device='cuda:0', grad_fn=<MulBackward0>)   train loss: 0.0154, acc: 0.8994\n",
      "  9    loss   tensor(0.0166, device='cuda:0', grad_fn=<MulBackward0>)   validation loss: 0.0182, acc: 0.8296\n",
      "Epoch  10 / 30\n",
      "----------\n",
      "  96    loss   tensor(0.0136, device='cuda:0', grad_fn=<MulBackward0>)   train loss: 0.0140, acc: 0.9026\n",
      "  9    loss   tensor(0.0090, device='cuda:0', grad_fn=<MulBackward0>)   validation loss: 0.0172, acc: 0.8264\n",
      "Epoch  11 / 30\n",
      "----------\n",
      "  96    loss   tensor(0.0105, device='cuda:0', grad_fn=<MulBackward0>)   train loss: 0.0141, acc: 0.8998\n",
      "  9    loss   tensor(0.0407, device='cuda:0', grad_fn=<MulBackward0>)   validation loss: 0.0195, acc: 0.8264\n",
      "Epoch  12 / 30\n",
      "----------\n",
      "  96    loss   tensor(0.0077, device='cuda:0', grad_fn=<MulBackward0>)   train loss: 0.0137, acc: 0.8995\n",
      "  9    loss   tensor(0.0164, device='cuda:0', grad_fn=<MulBackward0>)   validation loss: 0.0163, acc: 0.8296\n",
      "Epoch  13 / 30\n",
      "----------\n",
      "  96    loss   tensor(0.0070, device='cuda:0', grad_fn=<MulBackward0>)   train loss: 0.0145, acc: 0.8992\n",
      "  9    loss   tensor(0.0475, device='cuda:0', grad_fn=<MulBackward0>)   validation loss: 0.0342, acc: 0.8089\n",
      "Epoch  14 / 30\n",
      "----------\n",
      "  96    loss   tensor(0.0113, device='cuda:0', grad_fn=<MulBackward0>)   train loss: 0.0149, acc: 0.9010\n",
      "  9    loss   tensor(0.0355, device='cuda:0', grad_fn=<MulBackward0>)   validation loss: 0.0188, acc: 0.8296\n",
      "Epoch  15 / 30\n",
      "----------\n",
      "  96    loss   tensor(0.0260, device='cuda:0', grad_fn=<MulBackward0>)   train loss: 0.0152, acc: 0.8987\n",
      "  9    loss   tensor(0.0100, device='cuda:0', grad_fn=<MulBackward0>)   validation loss: 0.0296, acc: 0.8089\n",
      "Epoch  16 / 30\n",
      "----------\n",
      "  96    loss   tensor(0.0180, device='cuda:0', grad_fn=<MulBackward0>)   train loss: 0.0138, acc: 0.9045\n",
      "  9    loss   tensor(0.0139, device='cuda:0', grad_fn=<MulBackward0>)   validation loss: 0.0168, acc: 0.8185\n",
      "Epoch  17 / 30\n",
      "----------\n",
      "  96    loss   tensor(0.0081, device='cuda:0', grad_fn=<MulBackward0>)   train loss: 0.0148, acc: 0.8984\n",
      "  9    loss   tensor(0.0232, device='cuda:0', grad_fn=<MulBackward0>)   validation loss: 0.0187, acc: 0.8248\n",
      "Epoch  18 / 30\n",
      "----------\n",
      "  96    loss   tensor(0.0128, device='cuda:0', grad_fn=<MulBackward0>)   train loss: 0.0153, acc: 0.8968\n",
      "  9    loss   tensor(0.0282, device='cuda:0', grad_fn=<MulBackward0>)   validation loss: 0.0160, acc: 0.8312\n",
      "Epoch  19 / 30\n",
      "----------\n",
      "  96    loss   tensor(0.0177, device='cuda:0', grad_fn=<MulBackward0>)   train loss: 0.0141, acc: 0.9032\n",
      "  9    loss   tensor(0.0171, device='cuda:0', grad_fn=<MulBackward0>)   validation loss: 0.0212, acc: 0.8217\n",
      "Epoch  20 / 30\n",
      "----------\n",
      "  96    loss   tensor(0.0148, device='cuda:0', grad_fn=<MulBackward0>)   train loss: 0.0138, acc: 0.9026\n",
      "  9    loss   tensor(0.0114, device='cuda:0', grad_fn=<MulBackward0>)   validation loss: 0.0162, acc: 0.8328\n",
      "Epoch  21 / 30\n",
      "----------\n",
      "  96    loss   tensor(0.0108, device='cuda:0', grad_fn=<MulBackward0>)   train loss: 0.0139, acc: 0.9003\n",
      "  9    loss   tensor(0.0109, device='cuda:0', grad_fn=<MulBackward0>)   validation loss: 0.0163, acc: 0.8264\n",
      "Epoch  22 / 30\n",
      "----------\n",
      "  96    loss   tensor(0.0202, device='cuda:0', grad_fn=<MulBackward0>)   train loss: 0.0136, acc: 0.9032\n",
      "  9    loss   tensor(0.0176, device='cuda:0', grad_fn=<MulBackward0>)   validation loss: 0.0182, acc: 0.8232\n",
      "Epoch  23 / 30\n",
      "----------\n",
      "  96    loss   tensor(0.0140, device='cuda:0', grad_fn=<MulBackward0>)   train loss: 0.0124, acc: 0.9042\n",
      "  9    loss   tensor(0.0105, device='cuda:0', grad_fn=<MulBackward0>)   validation loss: 0.0167, acc: 0.8344\n",
      "Epoch  24 / 30\n",
      "----------\n",
      "  96    loss   tensor(0.0050, device='cuda:0', grad_fn=<MulBackward0>)   train loss: 0.0123, acc: 0.9073\n",
      "  9    loss   tensor(0.0243, device='cuda:0', grad_fn=<MulBackward0>)   validation loss: 0.0169, acc: 0.8296\n",
      "Epoch  25 / 30\n",
      "----------\n",
      "  96    loss   tensor(0.0100, device='cuda:0', grad_fn=<MulBackward0>)   train loss: 0.0115, acc: 0.9061\n",
      "  9    loss   tensor(0.0080, device='cuda:0', grad_fn=<MulBackward0>)   validation loss: 0.0171, acc: 0.8248\n",
      "Epoch  26 / 30\n",
      "----------\n",
      "  96    loss   tensor(0.0039, device='cuda:0', grad_fn=<MulBackward0>)   train loss: 0.0126, acc: 0.9010\n",
      "  9    loss   tensor(0.0161, device='cuda:0', grad_fn=<MulBackward0>)   validation loss: 0.0191, acc: 0.8248\n",
      "Epoch  27 / 30\n",
      "----------\n",
      "  96    loss   tensor(0.0099, device='cuda:0', grad_fn=<MulBackward0>)   train loss: 0.0114, acc: 0.9087\n",
      "  9    loss   tensor(0.0164, device='cuda:0', grad_fn=<MulBackward0>)   validation loss: 0.0145, acc: 0.8280\n",
      "Epoch  28 / 30\n",
      "----------\n",
      "  96    loss   tensor(0.0097, device='cuda:0', grad_fn=<MulBackward0>)   train loss: 0.0117, acc: 0.9097\n",
      "  9    loss   tensor(0.0135, device='cuda:0', grad_fn=<MulBackward0>)   validation loss: 0.0138, acc: 0.8344\n",
      "Epoch  29 / 30\n",
      "----------\n",
      "  96    loss   tensor(0.0134, device='cuda:0', grad_fn=<MulBackward0>)   train loss: 0.0125, acc: 0.9061\n",
      "  9    loss   tensor(0.0338, device='cuda:0', grad_fn=<MulBackward0>)   validation loss: 0.0164, acc: 0.8296\n",
      "Epoch  30 / 30\n",
      "----------\n",
      "  96    loss   tensor(0.0071, device='cuda:0', grad_fn=<MulBackward0>)   train loss: 0.0127, acc: 0.9073\n",
      "  9    loss   tensor(0.0143, device='cuda:0', grad_fn=<MulBackward0>)   validation loss: 0.0178, acc: 0.8264\n"
     ]
    },
    {
     "data": {
      "image/png": "[encoded data removed]",
      "text/plain": [
       "<Figure size 432x288 with 1 Axes>"
      ]
     },
     "metadata": {
      "needs_background": "light",
      "tags": []
     },
     "output_type": "display_data"
    },
    {
     "data": {
      "image/png": "[encoded data removed]",
      "text/plain": [
       "<Figure size 432x288 with 1 Axes>"
      ]
     },
     "metadata": {
      "needs_background": "light",
      "tags": []
     },
     "output_type": "display_data"
    }
   ],
   "source": [
    "model_trained = train_model(model, Focalloss, optimizer, num_epochs=30)"
   ]
  },
  {
   "cell_type": "code",
   "execution_count": 0,
   "metadata": {
    "colab": {},
    "colab_type": "code",
    "id": "fxxrIYEXXiFj"
   },
   "outputs": [],
   "source": []
  },
  {
   "cell_type": "code",
   "execution_count": 0,
   "metadata": {
    "colab": {},
    "colab_type": "code",
    "id": "uxuq-leqgmY9"
   },
   "outputs": [],
   "source": []
  },
  {
   "cell_type": "markdown",
   "metadata": {
    "colab_type": "text",
    "id": "FNLzz1kzpV-Q"
   },
   "source": [
    "### 5. Save and load the model"
   ]
  },
  {
   "cell_type": "markdown",
   "metadata": {
    "colab_type": "text",
    "id": "IvzQA6YKQJF6"
   },
   "source": []
  },
  {
   "cell_type": "code",
   "execution_count": 0,
   "metadata": {
    "colab": {},
    "colab_type": "code",
    "id": "m_FdQHF4pV-R"
   },
   "outputs": [],
   "source": [
    "torch.save(model_trained.state_dict(), './gdrive/My Drive/Assignment_05/Final_Resnet_Focal_loss.h5')"
   ]
  },
  {
   "cell_type": "code",
   "execution_count": 0,
   "metadata": {
    "colab": {},
    "colab_type": "code",
    "id": "4QzXldjE08g6"
   },
   "outputs": [],
   "source": []
  },
  {
   "cell_type": "code",
   "execution_count": 0,
   "metadata": {
    "colab": {},
    "colab_type": "code",
    "id": "F0-JFAhcGXY7"
   },
   "outputs": [],
   "source": []
  },
  {
   "cell_type": "code",
   "execution_count": 81,
   "metadata": {
    "colab": {
     "base_uri": "https://localhost:8080/",
     "height": 34
    },
    "colab_type": "code",
    "id": "SshKYdv_pV-U",
    "outputId": "bd3a7a37-6f64-45cf-c4fd-0244817a5b21"
   },
   "outputs": [
    {
     "name": "stdout",
     "output_type": "stream",
     "text": [
      "testing\n"
     ]
    }
   ],
   "source": [
    "model = models.resnet18(pretrained=True).to(device)\n",
    "num_features = model.fc.in_features\n",
    "model.fc=nn.Sequential( nn.Linear(num_features,5000),\n",
    "                               nn.LeakyReLU(),\n",
    "                                #nn.Dropout(p=0.5,inplace=False),\n",
    "                                nn.Linear(5000,1200),\n",
    "                                nn.LeakyReLU(),\n",
    "                                nn.Linear(1200,3)).to(device)\n",
    "\n",
    "model.load_state_dict(torch.load('./gdrive/My Drive/Assignment_05/Final_Resnet_Focal_loss.h5'))\n",
    "model.eval()\n",
    "print('testing')"
   ]
  },
  {
   "cell_type": "markdown",
   "metadata": {
    "colab_type": "text",
    "id": "j_wZbRuTpV-W"
   },
   "source": [
    "### 6. Make predictions on sample test images"
   ]
  },
  {
   "cell_type": "code",
   "execution_count": 82,
   "metadata": {
    "colab": {
     "base_uri": "https://localhost:8080/",
     "height": 153
    },
    "colab_type": "code",
    "id": "bjQGckkBoMr9",
    "outputId": "c2e0ad71-d6ea-40e4-c6a1-7d2e350ea358"
   },
   "outputs": [
    {
     "name": "stdout",
     "output_type": "stream",
     "text": [
      "['Test']\n",
      "[['0.png' '0' '0' '1']\n",
      " ['1.png' '0' '0' '1']\n",
      " ['10.png' '0' '0' '1']\n",
      " ...\n",
      " ['97.png' '0' '1' '0']\n",
      " ['98.png' '0' '0' '1']\n",
      " ['99.png' '0' '0' '1']]\n"
     ]
    }
   ],
   "source": [
    "import torch\n",
    "from torchvision import datasets\n",
    "\n",
    "class ImageFolderWithPaths(datasets.ImageFolder):\n",
    "    \"\"\"Custom dataset that includes image file paths. Extends\n",
    "    torchvision.datasets.ImageFolder\n",
    "    \"\"\"\n",
    "\n",
    "    # override the __getitem__ method. this is the method that dataloader calls\n",
    "    def __getitem__(self, index):\n",
    "        # this is what ImageFolder normally returns \n",
    "        original_tuple = super(ImageFolderWithPaths, self).__getitem__(index)\n",
    "        # the image file path\n",
    "        path = self.imgs[index][0]\n",
    "        # make a new tuple that includes original and the path\n",
    "        tuple_with_path = (original_tuple + (path,))\n",
    "        return tuple_with_path\n",
    "\n",
    "# EXAMPLE USAGE:\n",
    "# instantiate the dataset and dataloader\n",
    "data_dir = \"./gdrive/My Drive/Assignment_dataset/A_05_Part_02_Dataset/test\"\n",
    "dataset = ImageFolderWithPaths(data_dir) # our custom dataset\n",
    "dataloader = DataLoader(dataset)\n",
    "test_transforms = transforms.Compose([transforms.Resize(256),\n",
    "                                      transforms.CenterCrop(224),\n",
    "                                      transforms.ToTensor(),\n",
    "                                      transforms.Normalize([0.485, 0.456, 0.406],\n",
    "                                                           [0.229, 0.224, 0.225])])\n",
    "\n",
    "\n",
    "test_data = ImageFolderWithPaths(data_dir_vl + '/test', transform=test_transforms)\n",
    "\n",
    "testloader = torch.utils.data.DataLoader(test_data, batch_size=1, shuffle=False)\n",
    "\n",
    "class_names = test_data.classes\n",
    "score=[]\n",
    "name=[]\n",
    "print(class_names)\n",
    "for inputs, labels, paths in testloader:\n",
    "    # use the above variables freely\n",
    "    model.eval()\n",
    "    nm=os.path.basename(os.path.normpath(paths[0]))\n",
    "    image=inputs.to(device)\n",
    "    outputs = (model(image))\n",
    "    gt=outputs.detach().to('cpu').numpy()\n",
    "    score.append((gt[0]>0.5)*1)\n",
    "    name.append(nm)\n",
    "a=np.matrix(name)\n",
    "b=np.asarray(score)#.reshape(0,-1)\n",
    "res = np.concatenate((a.T, b[:,0:1]), axis=1)\n",
    "res = np.concatenate((res,b[:,2:3]),axis=1)\n",
    "res = np.concatenate((res,b[:,1:2]),axis=1)\n",
    "print(res)\n",
    "np.savetxt(\"./gdrive/My Drive/Assignment_05/Final_Resnet_FL.csv\", res,delimiter=',',  fmt='%s')"
   ]
  },
  {
   "cell_type": "code",
   "execution_count": 105,
   "metadata": {
    "colab": {
     "base_uri": "https://localhost:8080/",
     "height": 204
    },
    "colab_type": "code",
    "id": "BkXfnnWyoMu3",
    "outputId": "04839795-9160-4844-baa6-8dfdb6ba070a"
   },
   "outputs": [
    {
     "name": "stdout",
     "output_type": "stream",
     "text": [
      "Validation data \n",
      "[[[549.   0.]\n",
      "  [ 21.   6.]]\n",
      "\n",
      " [[183.  24.]\n",
      "  [ 42. 327.]]\n",
      "\n",
      " [[346.  23.]\n",
      "  [ 41. 166.]]]\n",
      "F1 score\n",
      "0.8570601851851852\n"
     ]
    }
   ],
   "source": [
    "from sklearn.metrics import multilabel_confusion_matrix\n",
    "from sklearn.metrics import f1_score\n",
    "from sklearn.metrics import accuracy_score\n",
    "nb_classes = 3\n",
    "B=[]\n",
    "confusion_matrix = torch.zeros(nb_classes, nb_classes)\n",
    "predlist=torch.zeros(0,dtype=torch.long, device='cpu')\n",
    "lbllist=torch.zeros(0,dtype=torch.long, device='cpu')\n",
    "Av=np.zeros((nb_classes,2,2))\n",
    "acc=0\n",
    "i=0\n",
    "with torch.no_grad():\n",
    "    for inputs, labels in dataloaders['validation']:\n",
    "        inputs = inputs.to(device)\n",
    "        labels = labels.to(device)\n",
    "        onehot=one_hot(labels,3)\n",
    "        classes=onehot\n",
    "        for a in range(len(labels)):\n",
    "          if torch.equal(classes[a], torch.FloatTensor([ 1.,  0.,   0.]).to(device)):\n",
    "             classes[a]=torch.FloatTensor([1., 0., 1.]).to(device)        #print(classes)\n",
    "        classes=classes.long().cpu()\n",
    "        pred=model(inputs)>0.5\n",
    "        pred=pred*1\n",
    "        i=1+i\n",
    "        #pred=pred.cpu()#detach().to('cpu').numpy\n",
    "        pred=pred.long().cpu()\n",
    "        Av=multilabel_confusion_matrix(classes.numpy(), pred.numpy())+Av\n",
    "        B.append(f1_score(classes.numpy(), pred.numpy(), average='samples'))\n",
    "        #acc=accuracy_score(classes.numpy(), pred.numpy())+acc\n",
    "print('Validation data ')\n",
    "print(A)\n",
    "print('F1 score')\n",
    "print(np.mean(B))"
   ]
  },
  {
   "cell_type": "code",
   "execution_count": 107,
   "metadata": {
    "colab": {
     "base_uri": "https://localhost:8080/",
     "height": 935
    },
    "colab_type": "code",
    "id": "ZmfwmtBDLeKM",
    "outputId": "54761e68-04b6-4e3a-ab2e-0b7a6f4a1649"
   },
   "outputs": [
    {
     "name": "stdout",
     "output_type": "stream",
     "text": [
      "[[549.   0.]\n",
      " [ 21.   6.]]\n"
     ]
    },
    {
     "data": {
      "image/png": "[encoded data removed]",
      "text/plain": [
       "<Figure size 432x288 with 2 Axes>"
      ]
     },
     "metadata": {
      "needs_background": "light",
      "tags": []
     },
     "output_type": "display_data"
    },
    {
     "name": "stdout",
     "output_type": "stream",
     "text": [
      "[[185.  27.]\n",
      " [ 37. 327.]]\n"
     ]
    },
    {
     "data": {
      "image/png": "[encoded data removed]",
      "text/plain": [
       "<Figure size 432x288 with 2 Axes>"
      ]
     },
     "metadata": {
      "needs_background": "light",
      "tags": []
     },
     "output_type": "display_data"
    },
    {
     "name": "stdout",
     "output_type": "stream",
     "text": [
      "[[343.  21.]\n",
      " [ 43. 169.]]\n"
     ]
    },
    {
     "data": {
      "image/png": "[encoded data removed]",
      "text/plain": [
       "<Figure size 432x288 with 2 Axes>"
      ]
     },
     "metadata": {
      "needs_background": "light",
      "tags": []
     },
     "output_type": "display_data"
    }
   ],
   "source": [
    "labels = ['Covid', 'Other']\n",
    "cm = Av[0,:,:]\n",
    "print(cm)\n",
    "fig = plt.figure()\n",
    "ax = fig.add_subplot(111)\n",
    "cax = ax.matshow(cm)\n",
    "plt.title('Confusion matrix of the classifier')\n",
    "fig.colorbar(cax)\n",
    "ax.set_xticklabels([''] + labels)\n",
    "ax.set_yticklabels([''] + labels)\n",
    "plt.xlabel('Predicted')\n",
    "plt.ylabel('True')\n",
    "plt.show()\n",
    "labels=['Normal', 'Other']\n",
    "cm = Av[1,:,:]\n",
    "print(cm)\n",
    "fig = plt.figure()\n",
    "ax = fig.add_subplot(111)\n",
    "cax = ax.matshow(cm)\n",
    "plt.title('Confusion matrix of the classifier')\n",
    "fig.colorbar(cax)\n",
    "ax.set_xticklabels([''] + labels)\n",
    "ax.set_yticklabels([''] + labels)\n",
    "plt.xlabel('Predicted')\n",
    "plt.ylabel('True')\n",
    "plt.show()\n",
    "labels=['Pneumonia', 'Other']\n",
    "cm = Av[2,:,:]\n",
    "print(cm)\n",
    "fig = plt.figure()\n",
    "ax = fig.add_subplot(111)\n",
    "cax = ax.matshow(cm)\n",
    "plt.title('Confusion matrix of the classifier')\n",
    "fig.colorbar(cax)\n",
    "ax.set_xticklabels([''] + labels)\n",
    "ax.set_yticklabels([''] + labels)\n",
    "plt.xlabel('Predicted')\n",
    "plt.ylabel('True')\n",
    "plt.show()"
   ]
  },
  {
   "cell_type": "code",
   "execution_count": 0,
   "metadata": {
    "colab": {},
    "colab_type": "code",
    "id": "78WcqFe5oMx7"
   },
   "outputs": [],
   "source": [
    "from sklearn.metrics import multilabel_confusion_matrix\n",
    "from sklearn.metrics import f1_score\n",
    "from sklearn.metrics import accuracy_score\n",
    "nb_classes = 3\n",
    "B=0\n",
    "confusion_matrix = torch.zeros(nb_classes, nb_classes)\n",
    "predlist=torch.zeros(0,dtype=torch.long, device='cpu')\n",
    "lbllist=torch.zeros(0,dtype=torch.long, device='cpu')\n",
    "At=np.zeros((nb_classes,2,2))\n",
    "acc=0\n",
    "i=0\n",
    "B=[]\n",
    "with torch.no_grad():\n",
    "    for inputs, labels in dataloaders['train']:\n",
    "        inputs = inputs.to(device)\n",
    "        labels = labels.to(device)\n",
    "        onehot=one_hot(labels,3)\n",
    "        classes=onehot\n",
    "        for a in range(len(labels)):\n",
    "          if torch.equal(classes[a], torch.FloatTensor([ 1.,  0.,   0.]).to(device)):\n",
    "             classes[a]=torch.FloatTensor([1., 0., 1.]).to(device)        #print(classes)#print(classes)\n",
    "        classes=classes.long().cpu()\n",
    "        pred=model(inputs)>0.5\n",
    "        pred=pred*1\n",
    "        #pred=pred.cpu()#detach().to('cpu').numpy\n",
    "        pred=pred.long().cpu()\n",
    "        At=multilabel_confusion_matrix(classes.numpy(), pred.numpy())+At\n",
    "        B.append(f1_score(classes.numpy(), pred.numpy(), average='samples'))\n",
    "        #acc=accuracy_score(classes.numpy(), pred.numpy())+acc\n",
    "        #i=i+1\n",
    "\n",
    "#print('train accuracy', '    ',  acc/i)"
   ]
  },
  {
   "cell_type": "code",
   "execution_count": 91,
   "metadata": {
    "colab": {
     "base_uri": "https://localhost:8080/",
     "height": 204
    },
    "colab_type": "code",
    "id": "BQhEda7_oM1c",
    "outputId": "2041900b-0bd6-4f40-9ed7-8fa81586688f"
   },
   "outputs": [
    {
     "name": "stdout",
     "output_type": "stream",
     "text": [
      "train data \n",
      "[[[5.945e+03 1.000e+00]\n",
      "  [1.330e+02 6.500e+01]]\n",
      "\n",
      " [[1.933e+03 2.500e+02]\n",
      "  [4.490e+02 3.512e+03]]\n",
      "\n",
      " [[3.740e+03 2.210e+02]\n",
      "  [4.360e+02 1.747e+03]]]\n",
      "F1 score\n",
      "0.8509114583333334\n"
     ]
    }
   ],
   "source": [
    "print('train data ')\n",
    "print(A)\n",
    "print('F1 score')\n",
    "print(np.mean(B))\n"
   ]
  },
  {
   "cell_type": "code",
   "execution_count": 109,
   "metadata": {
    "colab": {
     "base_uri": "https://localhost:8080/",
     "height": 935
    },
    "colab_type": "code",
    "id": "kYjIjyiYoM4m",
    "outputId": "ee481922-53bc-4417-d9e9-92eeb3dbfdab"
   },
   "outputs": [
    {
     "name": "stdout",
     "output_type": "stream",
     "text": [
      "[[5945.    0.]\n",
      " [ 121.   78.]]\n"
     ]
    },
    {
     "data": {
      "image/png": "[encoded data removed]",
      "text/plain": [
       "<Figure size 432x288 with 2 Axes>"
      ]
     },
     "metadata": {
      "needs_background": "light",
      "tags": []
     },
     "output_type": "display_data"
    },
    {
     "name": "stdout",
     "output_type": "stream",
     "text": [
      "[[1909.  272.]\n",
      " [ 437. 3526.]]\n"
     ]
    },
    {
     "data": {
      "image/png": "[encoded data removed]",
      "text/plain": [
       "<Figure size 432x288 with 2 Axes>"
      ]
     },
     "metadata": {
      "needs_background": "light",
      "tags": []
     },
     "output_type": "display_data"
    },
    {
     "name": "stdout",
     "output_type": "stream",
     "text": [
      "[[3760.  203.]\n",
      " [ 434. 1747.]]\n"
     ]
    },
    {
     "data": {
      "image/png": "[encoded data removed]",
      "text/plain": [
       "<Figure size 432x288 with 2 Axes>"
      ]
     },
     "metadata": {
      "needs_background": "light",
      "tags": []
     },
     "output_type": "display_data"
    }
   ],
   "source": [
    "\n",
    "labels = ['Covid', 'Other']\n",
    "cm = At[0,:,:]\n",
    "print(cm)\n",
    "fig = plt.figure()\n",
    "ax = fig.add_subplot(111)\n",
    "cax = ax.matshow(cm)\n",
    "plt.title('Confusion matrix of the classifier')\n",
    "fig.colorbar(cax)\n",
    "ax.set_xticklabels([''] + labels)\n",
    "ax.set_yticklabels([''] + labels)\n",
    "plt.xlabel('Predicted')\n",
    "plt.ylabel('True')\n",
    "plt.show()\n",
    "labels=['Normal', 'Other']\n",
    "cm = At[1,:,:]\n",
    "print(cm)\n",
    "fig = plt.figure()\n",
    "ax = fig.add_subplot(111)\n",
    "cax = ax.matshow(cm)\n",
    "plt.title('Confusion matrix of the classifier')\n",
    "fig.colorbar(cax)\n",
    "ax.set_xticklabels([''] + labels)\n",
    "ax.set_yticklabels([''] + labels)\n",
    "plt.xlabel('Predicted')\n",
    "plt.ylabel('True')\n",
    "plt.show()\n",
    "labels=['Pneumonia', 'Other']\n",
    "cm = At[2,:,:]\n",
    "print(cm)\n",
    "fig = plt.figure()\n",
    "ax = fig.add_subplot(111)\n",
    "cax = ax.matshow(cm)\n",
    "plt.title('Confusion matrix of the classifier')\n",
    "fig.colorbar(cax)\n",
    "ax.set_xticklabels([''] + labels)\n",
    "ax.set_yticklabels([''] + labels)\n",
    "plt.xlabel('Predicted')\n",
    "plt.ylabel('True')\n",
    "plt.show()"
   ]
  },
  {
   "cell_type": "markdown",
   "metadata": {
    "colab_type": "text",
    "id": "M5BajZ3BpV9r"
   },
   "source": [
    "### 1. Import dependencies"
   ]
  },
  {
   "cell_type": "code",
   "execution_count": 2,
   "metadata": {
    "colab": {
     "base_uri": "https://localhost:8080/",
     "height": 34
    },
    "colab_type": "code",
    "id": "WNjaFvWcpZlc",
    "outputId": "19332e74-61c7-404a-c77b-3fee10244580"
   },
   "outputs": [
    {
     "name": "stdout",
     "output_type": "stream",
     "text": [
      "Drive already mounted at ./gdrive; to attempt to forcibly remount, call drive.mount(\"./gdrive\", force_remount=True).\n"
     ]
    }
   ],
   "source": [
    "from google.colab import drive\n",
    "drive.mount('./gdrive')\n"
   ]
  },
  {
   "cell_type": "code",
   "execution_count": 0,
   "metadata": {
    "colab": {},
    "colab_type": "code",
    "id": "HuHcz5F7ly3k"
   },
   "outputs": [],
   "source": [
    "#!unzip \"./gdrive/My Drive/A_05_Part_02_Dataset.zip\" -d \"./gdrive/My Drive/Assignment_05_dataset\""
   ]
  },
  {
   "cell_type": "code",
   "execution_count": 4,
   "metadata": {
    "colab": {
     "base_uri": "https://localhost:8080/",
     "height": 190
    },
    "colab_type": "code",
    "id": "hxICEXlu_jt1",
    "outputId": "ee2a22a4-f055-463a-ec90-7e0f28366f76"
   },
   "outputs": [
    {
     "name": "stdout",
     "output_type": "stream",
     "text": [
      "Collecting torch==1.4.0\n",
      "\u001b[31m  ERROR: HTTP error 403 while getting http://download.pytorch.org/whl/cu92/torch-1.4.0-cp36-cp36m-linux_x86_64.whl\u001b[0m\n",
      "\u001b[31m  ERROR: Could not install requirement torch==1.4.0 from http://download.pytorch.org/whl/cu92/torch-1.4.0-cp36-cp36m-linux_x86_64.whl because of error 403 Client Error: Forbidden for url: http://download.pytorch.org/whl/cu92/torch-1.4.0-cp36-cp36m-linux_x86_64.whl\u001b[0m\n",
      "\u001b[31mERROR: Could not install requirement torch==1.4.0 from http://download.pytorch.org/whl/cu92/torch-1.4.0-cp36-cp36m-linux_x86_64.whl because of HTTP error 403 Client Error: Forbidden for url: http://download.pytorch.org/whl/cu92/torch-1.4.0-cp36-cp36m-linux_x86_64.whl for URL http://download.pytorch.org/whl/cu92/torch-1.4.0-cp36-cp36m-linux_x86_64.whl\u001b[0m\n",
      "Requirement already satisfied: torchvision in /usr/local/lib/python3.6/dist-packages (0.6.0+cu101)\n",
      "Requirement already satisfied: numpy in /usr/local/lib/python3.6/dist-packages (from torchvision) (1.18.3)\n",
      "Requirement already satisfied: torch==1.5.0 in /usr/local/lib/python3.6/dist-packages (from torchvision) (1.5.0+cu101)\n",
      "Requirement already satisfied: pillow>=4.1.1 in /usr/local/lib/python3.6/dist-packages (from torchvision) (7.0.0)\n",
      "Requirement already satisfied: future in /usr/local/lib/python3.6/dist-packages (from torch==1.5.0->torchvision) (0.16.0)\n"
     ]
    }
   ],
   "source": [
    "!pip3 install http://download.pytorch.org/whl/cu92/torch-1.4.0-cp36-cp36m-linux_x86_64.whl\n",
    "!pip3 install torchvision"
   ]
  },
  {
   "cell_type": "code",
   "execution_count": 0,
   "metadata": {
    "colab": {},
    "colab_type": "code",
    "id": "ODdDPwVrpV9t"
   },
   "outputs": [],
   "source": [
    "import numpy as np\n",
    "%matplotlib inline\n",
    "import matplotlib.pyplot as plt\n",
    "from PIL import Image\n",
    "import os\n",
    "import os.path\n",
    "import sys"
   ]
  },
  {
   "cell_type": "code",
   "execution_count": 0,
   "metadata": {
    "colab": {},
    "colab_type": "code",
    "id": "Qx5ltzAtpYwh"
   },
   "outputs": [],
   "source": []
  },
  {
   "cell_type": "code",
   "execution_count": 0,
   "metadata": {
    "colab": {},
    "colab_type": "code",
    "id": "rkzhyo3MpV9x"
   },
   "outputs": [],
   "source": [
    "import torch\n",
    "import torchvision\n",
    "from torchvision import datasets, models, transforms\n",
    "import torch.nn as nn\n",
    "from torch.utils.data import Dataset, DataLoader ,random_split\n",
    "from torch.nn import functional as F\n",
    "import torch.optim as optim\n"
   ]
  },
  {
   "cell_type": "code",
   "execution_count": 0,
   "metadata": {
    "colab": {},
    "colab_type": "code",
    "id": "CJQdw6xnpV90"
   },
   "outputs": [],
   "source": [
    "#dir(models)"
   ]
  },
  {
   "cell_type": "code",
   "execution_count": 8,
   "metadata": {
    "colab": {
     "base_uri": "https://localhost:8080/",
     "height": 34
    },
    "colab_type": "code",
    "id": "ZJpYZ0q3pV94",
    "outputId": "fda94b08-4bab-4f22-bf03-a5ad9e6a995e"
   },
   "outputs": [
    {
     "data": {
      "text/plain": [
       "'1.5.0+cu101'"
      ]
     },
     "execution_count": 8,
     "metadata": {
      "tags": []
     },
     "output_type": "execute_result"
    }
   ],
   "source": [
    "torch.__version__"
   ]
  },
  {
   "cell_type": "code",
   "execution_count": 9,
   "metadata": {
    "colab": {
     "base_uri": "https://localhost:8080/",
     "height": 34
    },
    "colab_type": "code",
    "id": "8ca693InlC_A",
    "outputId": "4233e970-e821-4cb1-cab0-7a925702f794"
   },
   "outputs": [
    {
     "name": "stdout",
     "output_type": "stream",
     "text": [
      "cuda:0\n"
     ]
    }
   ],
   "source": [
    "device = torch.device(\"cuda:0\" if torch.cuda.is_available() else \"cpu\")\n",
    "print(device)"
   ]
  },
  {
   "cell_type": "code",
   "execution_count": 0,
   "metadata": {
    "colab": {},
    "colab_type": "code",
    "id": "b5sUPJ24pwtW"
   },
   "outputs": [],
   "source": [
    "data_dir_tr = \"./gdrive/My Drive/Assign_5_Augm/train_aug\"\n",
    "data_dir_vl = \"./gdrive/My Drive/Assignment_dataset/A_05_Part_02_Dataset\""
   ]
  },
  {
   "cell_type": "markdown",
   "metadata": {
    "colab_type": "text",
    "id": "7mOfxO4upV98"
   },
   "source": [
    "### 2. Create PyTorch data generators"
   ]
  },
  {
   "cell_type": "code",
   "execution_count": 0,
   "metadata": {
    "colab": {},
    "colab_type": "code",
    "id": "xPmDLJMBzfsH"
   },
   "outputs": [],
   "source": []
  },
  {
   "cell_type": "code",
   "execution_count": 11,
   "metadata": {
    "colab": {
     "base_uri": "https://localhost:8080/",
     "height": 204
    },
    "colab_type": "code",
    "id": "7ONDJ6BZpV98",
    "outputId": "f0b9c407-d90b-4f59-91ad-4f9a7b50a962"
   },
   "outputs": [
    {
     "name": "stdout",
     "output_type": "stream",
     "text": [
      "Dataset ImageFolder\n",
      "    Number of datapoints: 628\n",
      "    Root location: ./gdrive/My Drive/Assignment_dataset/A_05_Part_02_Dataset/Validation\n",
      "    StandardTransform\n",
      "Transform: Compose(\n",
      "               Resize(size=(224, 224), interpolation=PIL.Image.BILINEAR)\n",
      "               ToTensor()\n",
      "               Normalize(mean=[0.485, 0.456, 0.406], std=[0.229, 0.224, 0.225])\n",
      "           )\n",
      "{'covid-19': 0, 'normal': 1, 'pneumonia': 2}\n"
     ]
    },
    {
     "data": {
      "text/plain": [
       "6200"
      ]
     },
     "execution_count": 11,
     "metadata": {
      "tags": []
     },
     "output_type": "execute_result"
    }
   ],
   "source": [
    "normalize = transforms.Normalize(mean=[0.485, 0.456, 0.406],\n",
    "                                 std=[0.229, 0.224, 0.225])\n",
    "batch=64\n",
    "data_transforms = {\n",
    "    'train':\n",
    "    transforms.Compose([\n",
    "        transforms.Resize((224,224)),\n",
    "        transforms.RandomAffine(0, shear=10, scale=(0.8,1.2)),\n",
    "        transforms.RandomHorizontalFlip(),\n",
    "        transforms.ToTensor(),\n",
    "        normalize\n",
    "    ]),\n",
    "    'validation':\n",
    "    transforms.Compose([\n",
    "        transforms.Resize((224,224)),\n",
    "        transforms.ToTensor(),\n",
    "        normalize\n",
    "    ]),\n",
    "}\n",
    "\n",
    "image_datasets = {\n",
    "    'train': \n",
    "    datasets.ImageFolder(data_dir_vl+'/Train', data_transforms['train']),\n",
    "    'validation': \n",
    "    datasets.ImageFolder(data_dir_vl+'/Validation', data_transforms['validation'])\n",
    "}\n",
    "#image_datasets['validation'].class_to_idx={'covid-19': [1,0,0], 'normal': [0,1,0], 'pneumonia': [0,0,1]}\n",
    "A=image_datasets['validation']\n",
    "print(A)\n",
    "dataloaders = {\n",
    "    'train':\n",
    "    torch.utils.data.DataLoader(image_datasets['train'],\n",
    "                                batch_size=batch,\n",
    "                                shuffle=True,drop_last=True,num_workers=4),\n",
    "    'validation':\n",
    "    torch.utils.data.DataLoader(image_datasets['validation'],\n",
    "                                batch_size=batch,\n",
    "                                shuffle=True,drop_last=True,num_workers=4)\n",
    "}\n",
    "print(image_datasets['train'].class_to_idx)\n",
    "\n",
    "\n",
    "def one_hot(x, class_count):\n",
    "    return torch.eye(class_count).to(device)[x,:]\n",
    "len(image_datasets['train'])\n",
    "#for inputs, labels in dataloaders['validation']:\n",
    " #print(labels.data)\n",
    " #x = labels\n",
    " #class_count = 3\n",
    " \n",
    " #y = torch.LongTensor(128,1).random_() % 3\n",
    "# One hot encoding buffer that you create out of the loop and just keep reusing\n",
    " #y_onehot = torch.FloatTensor(batch, 3)\n",
    " #y_onehot.zero_()\n",
    " #y_onehot.scatter_(1, labels, 1)t5\n",
    " #print(one_hot(x,class_count))\n",
    "#list(zip(image_datasets['train'].class_to_idx))\n",
    "#len(image_datasets['validation'])"
   ]
  },
  {
   "cell_type": "markdown",
   "metadata": {
    "colab_type": "text",
    "id": "vuwc4A6QpV9_"
   },
   "source": [
    "### 3. Create the network"
   ]
  },
  {
   "cell_type": "code",
   "execution_count": 0,
   "metadata": {
    "colab": {},
    "colab_type": "code",
    "id": "HZDJXDeDpV9_"
   },
   "outputs": [],
   "source": []
  },
  {
   "cell_type": "code",
   "execution_count": 0,
   "metadata": {
    "colab": {},
    "colab_type": "code",
    "id": "RmW281-kXXxN"
   },
   "outputs": [],
   "source": []
  },
  {
   "cell_type": "code",
   "execution_count": 31,
   "metadata": {
    "colab": {
     "base_uri": "https://localhost:8080/",
     "height": 765
    },
    "colab_type": "code",
    "id": "3uaoWqBkpV-C",
    "outputId": "d39b888f-3e67-4c95-b3f9-7ae01041d4df"
   },
   "outputs": [
    {
     "name": "stdout",
     "output_type": "stream",
     "text": [
      "VGG(\n",
      "  (features): Sequential(\n",
      "    (0): Conv2d(3, 64, kernel_size=(3, 3), stride=(1, 1), padding=(1, 1))\n",
      "    (1): ReLU(inplace=True)\n",
      "    (2): Conv2d(64, 64, kernel_size=(3, 3), stride=(1, 1), padding=(1, 1))\n",
      "    (3): ReLU(inplace=True)\n",
      "    (4): MaxPool2d(kernel_size=2, stride=2, padding=0, dilation=1, ceil_mode=False)\n",
      "    (5): Conv2d(64, 128, kernel_size=(3, 3), stride=(1, 1), padding=(1, 1))\n",
      "    (6): ReLU(inplace=True)\n",
      "    (7): Conv2d(128, 128, kernel_size=(3, 3), stride=(1, 1), padding=(1, 1))\n",
      "    (8): ReLU(inplace=True)\n",
      "    (9): MaxPool2d(kernel_size=2, stride=2, padding=0, dilation=1, ceil_mode=False)\n",
      "    (10): Conv2d(128, 256, kernel_size=(3, 3), stride=(1, 1), padding=(1, 1))\n",
      "    (11): ReLU(inplace=True)\n",
      "    (12): Conv2d(256, 256, kernel_size=(3, 3), stride=(1, 1), padding=(1, 1))\n",
      "    (13): ReLU(inplace=True)\n",
      "    (14): Conv2d(256, 256, kernel_size=(3, 3), stride=(1, 1), padding=(1, 1))\n",
      "    (15): ReLU(inplace=True)\n",
      "    (16): MaxPool2d(kernel_size=2, stride=2, padding=0, dilation=1, ceil_mode=False)\n",
      "    (17): Conv2d(256, 512, kernel_size=(3, 3), stride=(1, 1), padding=(1, 1))\n",
      "    (18): ReLU(inplace=True)\n",
      "    (19): Conv2d(512, 512, kernel_size=(3, 3), stride=(1, 1), padding=(1, 1))\n",
      "    (20): ReLU(inplace=True)\n",
      "    (21): Conv2d(512, 512, kernel_size=(3, 3), stride=(1, 1), padding=(1, 1))\n",
      "    (22): ReLU(inplace=True)\n",
      "    (23): MaxPool2d(kernel_size=2, stride=2, padding=0, dilation=1, ceil_mode=False)\n",
      "    (24): Conv2d(512, 512, kernel_size=(3, 3), stride=(1, 1), padding=(1, 1))\n",
      "    (25): ReLU(inplace=True)\n",
      "    (26): Conv2d(512, 512, kernel_size=(3, 3), stride=(1, 1), padding=(1, 1))\n",
      "    (27): ReLU(inplace=True)\n",
      "    (28): Conv2d(512, 512, kernel_size=(3, 3), stride=(1, 1), padding=(1, 1))\n",
      "    (29): ReLU(inplace=True)\n",
      "    (30): MaxPool2d(kernel_size=2, stride=2, padding=0, dilation=1, ceil_mode=False)\n",
      "  )\n",
      "  (avgpool): AdaptiveAvgPool2d(output_size=(7, 7))\n",
      "  (classifier): Sequential(\n",
      "    (0): Linear(in_features=25088, out_features=5000, bias=True)\n",
      "    (1): LeakyReLU(negative_slope=0.01)\n",
      "    (2): Dropout(p=0.5, inplace=False)\n",
      "    (3): Linear(in_features=5000, out_features=120, bias=True)\n",
      "    (4): LeakyReLU(negative_slope=0.01)\n",
      "    (5): Linear(in_features=120, out_features=3, bias=True)\n",
      "  )\n",
      ")\n"
     ]
    }
   ],
   "source": [
    "model = models.vgg16(pretrained=True).to(device)\n",
    "\n",
    "num_features = model.classifier[0].in_features\n",
    "for param in model.parameters():\n",
    "  param.requires_grad=False\n",
    "model.classifier=nn.Sequential( nn.Linear(num_features,5000),\n",
    "                                nn.LeakyReLU(),\n",
    "                                nn.Dropout(p=0.5,inplace=False),\n",
    "                                nn.Linear(5000,120),\n",
    "                                nn.LeakyReLU(),\n",
    "                                nn.Linear(120,3)).to(device)\n",
    "print(model)"
   ]
  },
  {
   "cell_type": "code",
   "execution_count": 0,
   "metadata": {
    "colab": {},
    "colab_type": "code",
    "id": "b87T2kpfq75N"
   },
   "outputs": [],
   "source": [
    "\n",
    "\n",
    "\n"
   ]
  },
  {
   "cell_type": "code",
   "execution_count": 0,
   "metadata": {
    "colab": {},
    "colab_type": "code",
    "id": "6ItFFvE-pV-H"
   },
   "outputs": [],
   "source": [
    "#criterion = nn.CrossEntropyLoss()\n",
    "pos_weight = torch.ones([batch]).to(device)\n",
    "criterion=nn.BCEWithLogitsLoss(pos_weight=pos_weight)\n",
    "#optimizer = optim.SGD(model.classifier.parameters(),lr=0.001, momentum=0.9)\n",
    "#for param in filter(lambda p: p.requires_grad, model.parameters()):\n",
    " # print(param.requires_grad)\n",
    "optimizer = optim.Adam(filter(lambda p: p.requires_grad, model.parameters()),lr=0.001)"
   ]
  },
  {
   "cell_type": "code",
   "execution_count": 0,
   "metadata": {
    "colab": {},
    "colab_type": "code",
    "id": "AfVlHMxXq6_D"
   },
   "outputs": [],
   "source": []
  },
  {
   "cell_type": "markdown",
   "metadata": {
    "colab_type": "text",
    "id": "VmrAw3XHpV-J"
   },
   "source": [
    "### 4. Train the model"
   ]
  },
  {
   "cell_type": "code",
   "execution_count": 0,
   "metadata": {
    "colab": {},
    "colab_type": "code",
    "id": "SrUC-i8HpV-K"
   },
   "outputs": [],
   "source": [
    "#batch=128\n",
    "def train_model(model, Focalloss, optimizer, num_epochs=3):\n",
    "    loss_train=[]\n",
    "    loss_val=[]\n",
    "    acc_train=[]\n",
    "    acc_val=[]\n",
    "    Epochs=[]\n",
    "    for epoch in range(num_epochs):\n",
    "        print('Epoch ' ,epoch+1,'/',num_epochs)\n",
    "        print('-' * 10)\n",
    "\n",
    "        for phase in ['train', 'validation']:\n",
    "            if phase == 'train':\n",
    "                model.train()\n",
    "            else:\n",
    "                model.eval()\n",
    "\n",
    "            running_loss = 0.0\n",
    "            running_corrects = 0\n",
    "            i=0\n",
    "\n",
    "            for inputs, labels in dataloaders[phase]:\n",
    "                inputs = inputs.to(device)\n",
    "                labels = labels.to(device)\n",
    "                # print(labels)\n",
    "                # One hot encoding buffer that you create out of the loop and just keep reusing\n",
    "                #y_onehot = torch.FloatTensor(batch, 3).to(device)\n",
    "                #y_onehot.zero_().to(device)\n",
    "                #y_onehot.scatter_(1, labels, 1).to(device)\n",
    "                onehot=one_hot(labels,3)\n",
    "                #onehot[onehot[0:batch]==torch.FloatTensor([1,0,0]).to(device)]=(torch.FloatTensor([1,0,1]).clone()).to(device)\n",
    "                #y[y[0:200]==torch.FloatTensor([1., 0., 0.]).to(device)]=torch.FloatTensor([1., 0., 1.]).to(device)\n",
    "                #onehot=torch.where(onehot[0:batch]==torch.FloatTensor([ 1.,  0.,   0.]).to(device),torch.FloatTensor([1.,  0., 1.]).to(device),onehot)\n",
    "                for a in range(len(labels)):\n",
    "                    if torch.equal(onehot[a], torch.FloatTensor([ 1.,  0.,   0.]).to(device)):\n",
    "                        onehot[a]=torch.FloatTensor([1., 0., 1.]).to(device)\n",
    "                #for i in range(len(onehot)):\n",
    "                #print(onehot[:])\n",
    "                #print(onehot.dtype,'hotcoding')\n",
    "                i=i+1\n",
    "                #for inputs, labels in dataloaders['validation']:\n",
    "                #print(labels.data)\n",
    "\n",
    "\n",
    "                outputs = model(inputs)\n",
    "                #print(outputs.shape)\n",
    "                loss = criterion(outputs.T, onehot.T)\n",
    "                #print(loss,'  loss')\n",
    "                print('\\r ',i,'  ','loss  ',loss,end='')\n",
    "                \n",
    "                if phase == 'train':\n",
    "                    optimizer.zero_grad()\n",
    "                    loss.backward()\n",
    "                    optimizer.step()\n",
    "                m=torch.nn.Sigmoid()\n",
    "                preds = m(outputs).data>0.5\n",
    "                #print(preds.shape,'\\n')\n",
    "                preds=preds*1\n",
    "                running_loss += loss.detach() * inputs.size(0)\n",
    "                running_corrects += torch.sum(preds[0:batch] == (onehot[0:batch]))/3\n",
    "            \n",
    "            epoch_loss = running_loss / len(image_datasets[phase])\n",
    "            epoch_acc = running_corrects.float() / len(image_datasets[phase])\n",
    "            if phase == 'train':\n",
    "                acc_train.append(epoch_acc)\n",
    "                loss_train.append(epoch_loss)\n",
    "            else:\n",
    "                acc_val.append(epoch_acc)\n",
    "                loss_val.append(epoch_loss)\n",
    "                \n",
    "            #Epochs,append(epoch_acc)\n",
    "\n",
    "            print('  ','{} loss: {:.4f}, acc: {:.4f}'.format(phase,\n",
    "                                                        epoch_loss.item(),\n",
    "                                                        epoch_acc.item()))\n",
    "    \n",
    "    A=plt.figure(1)\n",
    "    #plt.plot(it,Loss,label='CE')\n",
    "    plt.plot(range(num_epochs),acc_train,'r--',label='Training Accuracy')\n",
    "    plt.plot(range(num_epochs),acc_val,'g--',label='Val Accuracy')\n",
    "    #print(Loss)\n",
    "    A.legend()\n",
    "    plt.xlabel('Epochs')\n",
    "    plt.ylabel('Accuracy')\n",
    "    g = plt.figure(2)\n",
    "    plt.plot(range(num_epochs),loss_train,'r--',label='Training Loss')\n",
    "    plt.plot(range(num_epochs),loss_val,'g--',label='Validation Loss')\n",
    "    plt.xlabel('Epochs')\n",
    "    plt.ylabel('Loss')\n",
    "    g.legend()\n",
    "    #g.savefig(('LOss'.png'),dpi=1200)        \n",
    "    return model\n"
   ]
  },
  {
   "cell_type": "code",
   "execution_count": 34,
   "metadata": {
    "colab": {
     "base_uri": "https://localhost:8080/",
     "height": 102
    },
    "colab_type": "code",
    "id": "tdyGHlylvTYk",
    "outputId": "86f6dfe8-1b08-4ff7-a590-0b90c8b5ae0d"
   },
   "outputs": [
    {
     "name": "stdout",
     "output_type": "stream",
     "text": [
      "tensor([[13434204.,  8256442.,  3570505.],\n",
      "        [ 8844459., 12664341.,  5491954.],\n",
      "        [13293056.,  8768393.,  6054291.],\n",
      "        [ 3509636.,  6109013., 11298027.],\n",
      "        [ 4541472.,  8052719.,   127205.]], device='cuda:0')\n"
     ]
    }
   ],
   "source": [
    "y = torch.FloatTensor(200,3).random_().to(device)\n",
    "#print(y)\n",
    "print(y[0:5])\n",
    "q =[[0,1,2],[3,0,4],[5,6,0]]\n",
    "tense_tensor = torch.tensor(q)\n"
   ]
  },
  {
   "cell_type": "code",
   "execution_count": 0,
   "metadata": {
    "colab": {},
    "colab_type": "code",
    "id": "Vn9CD5TnvUGR"
   },
   "outputs": [],
   "source": [
    "\n",
    "#y[y[0:200]==torch.FloatTensor([16583221., 12498836., 11103416.])]=torch.FloatTensor([1.,  0., 1.]).to(device)\n",
    "#print(torch.where(y[0:200]==torch.FloatTensor([ 803131.,  5802761.,   894371.]).to(device),torch.FloatTensor([1.,  0., 1.]).to(device),y))"
   ]
  },
  {
   "cell_type": "code",
   "execution_count": 0,
   "metadata": {
    "colab": {},
    "colab_type": "code",
    "id": "YBT3ZJmsNveL"
   },
   "outputs": [],
   "source": []
  },
  {
   "cell_type": "code",
   "execution_count": 0,
   "metadata": {
    "colab": {},
    "colab_type": "code",
    "id": "j98cJfAqNvcb"
   },
   "outputs": [],
   "source": []
  },
  {
   "cell_type": "code",
   "execution_count": 36,
   "metadata": {
    "colab": {
     "base_uri": "https://localhost:8080/",
     "height": 34
    },
    "colab_type": "code",
    "id": "ErZ2fiM4yJXu",
    "outputId": "e1d55fb1-cae2-466a-95c6-697a29c990ed"
   },
   "outputs": [
    {
     "data": {
      "text/plain": [
       "6200"
      ]
     },
     "execution_count": 36,
     "metadata": {
      "tags": []
     },
     "output_type": "execute_result"
    }
   ],
   "source": [
    "len(image_datasets['train'])"
   ]
  },
  {
   "cell_type": "markdown",
   "metadata": {
    "colab_type": "text",
    "id": "sN-_jQq9a62j"
   },
   "source": [
    "[link text](https://)"
   ]
  },
  {
   "cell_type": "markdown",
   "metadata": {
    "colab_type": "text",
    "id": "4_3pvhDYa6zV"
   },
   "source": []
  },
  {
   "cell_type": "code",
   "execution_count": 37,
   "metadata": {
    "colab": {
     "base_uri": "https://localhost:8080/",
     "height": 1000
    },
    "colab_type": "code",
    "id": "QeBRulVJpV-N",
    "outputId": "69b49e56-3f18-49f2-a46b-8fbe807d18dd",
    "scrolled": false
   },
   "outputs": [
    {
     "name": "stdout",
     "output_type": "stream",
     "text": [
      "Epoch  1 / 15\n",
      "----------\n",
      "  96    loss   tensor(0.1887, device='cuda:0', grad_fn=<BinaryCrossEntropyWithLogitsBackward>)   train loss: 0.4135, acc: 0.8602\n",
      "  9    loss   tensor(0.1387, device='cuda:0', grad_fn=<BinaryCrossEntropyWithLogitsBackward>)   validation loss: 0.2130, acc: 0.8424\n",
      "Epoch  2 / 15\n",
      "----------\n",
      "  96    loss   tensor(0.1441, device='cuda:0', grad_fn=<BinaryCrossEntropyWithLogitsBackward>)   train loss: 0.2092, acc: 0.9084\n",
      "  9    loss   tensor(0.1264, device='cuda:0', grad_fn=<BinaryCrossEntropyWithLogitsBackward>)   validation loss: 0.1960, acc: 0.8424\n",
      "Epoch  3 / 15\n",
      "----------\n",
      "  96    loss   tensor(0.1065, device='cuda:0', grad_fn=<BinaryCrossEntropyWithLogitsBackward>)   train loss: 0.1890, acc: 0.9156\n",
      "  9    loss   tensor(0.2709, device='cuda:0', grad_fn=<BinaryCrossEntropyWithLogitsBackward>)   validation loss: 0.1959, acc: 0.8487\n",
      "Epoch  4 / 15\n",
      "----------\n",
      "  96    loss   tensor(0.2011, device='cuda:0', grad_fn=<BinaryCrossEntropyWithLogitsBackward>)   train loss: 0.1786, acc: 0.9187\n",
      "  9    loss   tensor(0.2494, device='cuda:0', grad_fn=<BinaryCrossEntropyWithLogitsBackward>)   validation loss: 0.2335, acc: 0.8360\n",
      "Epoch  5 / 15\n",
      "----------\n",
      "  96    loss   tensor(0.2639, device='cuda:0', grad_fn=<BinaryCrossEntropyWithLogitsBackward>)   train loss: 0.1724, acc: 0.9216\n",
      "  9    loss   tensor(0.2174, device='cuda:0', grad_fn=<BinaryCrossEntropyWithLogitsBackward>)   validation loss: 0.1974, acc: 0.8487\n",
      "Epoch  6 / 15\n",
      "----------\n",
      "  96    loss   tensor(0.1542, device='cuda:0', grad_fn=<BinaryCrossEntropyWithLogitsBackward>)   train loss: 0.1673, acc: 0.9229\n",
      "  9    loss   tensor(0.2512, device='cuda:0', grad_fn=<BinaryCrossEntropyWithLogitsBackward>)   validation loss: 0.2032, acc: 0.8503\n",
      "Epoch  7 / 15\n",
      "----------\n",
      "  96    loss   tensor(0.2002, device='cuda:0', grad_fn=<BinaryCrossEntropyWithLogitsBackward>)   train loss: 0.1561, acc: 0.9250\n",
      "  9    loss   tensor(0.1034, device='cuda:0', grad_fn=<BinaryCrossEntropyWithLogitsBackward>)   validation loss: 0.1692, acc: 0.8567\n",
      "Epoch  8 / 15\n",
      "----------\n",
      "  96    loss   tensor(0.2492, device='cuda:0', grad_fn=<BinaryCrossEntropyWithLogitsBackward>)   train loss: 0.1613, acc: 0.9231\n",
      "  9    loss   tensor(0.1531, device='cuda:0', grad_fn=<BinaryCrossEntropyWithLogitsBackward>)   validation loss: 0.1762, acc: 0.8535\n",
      "Epoch  9 / 15\n",
      "----------\n",
      "  96    loss   tensor(0.1610, device='cuda:0', grad_fn=<BinaryCrossEntropyWithLogitsBackward>)   train loss: 0.1482, acc: 0.9297\n",
      "  9    loss   tensor(0.4400, device='cuda:0', grad_fn=<BinaryCrossEntropyWithLogitsBackward>)   validation loss: 0.1966, acc: 0.8503\n",
      "Epoch  10 / 15\n",
      "----------\n",
      "  96    loss   tensor(0.1797, device='cuda:0', grad_fn=<BinaryCrossEntropyWithLogitsBackward>)   train loss: 0.1477, acc: 0.9313\n",
      "  9    loss   tensor(0.2013, device='cuda:0', grad_fn=<BinaryCrossEntropyWithLogitsBackward>)   validation loss: 0.1734, acc: 0.8583\n",
      "Epoch  11 / 15\n",
      "----------\n",
      "  96    loss   tensor(0.1262, device='cuda:0', grad_fn=<BinaryCrossEntropyWithLogitsBackward>)   train loss: 0.1420, acc: 0.9332\n",
      "  9    loss   tensor(0.1768, device='cuda:0', grad_fn=<BinaryCrossEntropyWithLogitsBackward>)   validation loss: 0.1545, acc: 0.8646\n",
      "Epoch  12 / 15\n",
      "----------\n",
      "  96    loss   tensor(0.0947, device='cuda:0', grad_fn=<BinaryCrossEntropyWithLogitsBackward>)   train loss: 0.1364, acc: 0.9361\n",
      "  9    loss   tensor(0.1264, device='cuda:0', grad_fn=<BinaryCrossEntropyWithLogitsBackward>)   validation loss: 0.2090, acc: 0.8567\n",
      "Epoch  13 / 15\n",
      "----------\n",
      "  96    loss   tensor(0.1720, device='cuda:0', grad_fn=<BinaryCrossEntropyWithLogitsBackward>)   train loss: 0.1372, acc: 0.9348\n",
      "  9    loss   tensor(0.2539, device='cuda:0', grad_fn=<BinaryCrossEntropyWithLogitsBackward>)   validation loss: 0.1744, acc: 0.8535\n",
      "Epoch  14 / 15\n",
      "----------\n",
      "  96    loss   tensor(0.1652, device='cuda:0', grad_fn=<BinaryCrossEntropyWithLogitsBackward>)   train loss: 0.1341, acc: 0.9356\n",
      "  9    loss   tensor(0.2068, device='cuda:0', grad_fn=<BinaryCrossEntropyWithLogitsBackward>)   validation loss: 0.1855, acc: 0.8487\n",
      "Epoch  15 / 15\n",
      "----------\n",
      "  96    loss   tensor(0.1980, device='cuda:0', grad_fn=<BinaryCrossEntropyWithLogitsBackward>)   train loss: 0.1303, acc: 0.9365\n",
      "  9    loss   tensor(0.2302, device='cuda:0', grad_fn=<BinaryCrossEntropyWithLogitsBackward>)   validation loss: 0.1698, acc: 0.8551\n"
     ]
    },
    {
     "data": {
      "image/png": "[encoded data removed]",
      "text/plain": [
       "<Figure size 432x288 with 1 Axes>"
      ]
     },
     "metadata": {
      "needs_background": "light",
      "tags": []
     },
     "output_type": "display_data"
    },
    {
     "data": {
      "image/png": "[encoded data removed]",
      "text/plain": [
       "<Figure size 432x288 with 1 Axes>"
      ]
     },
     "metadata": {
      "needs_background": "light",
      "tags": []
     },
     "output_type": "display_data"
    }
   ],
   "source": [
    "model_trained = train_model(model, criterion, optimizer, num_epochs=15)"
   ]
  },
  {
   "cell_type": "code",
   "execution_count": 0,
   "metadata": {
    "colab": {},
    "colab_type": "code",
    "id": "fxxrIYEXXiFj"
   },
   "outputs": [],
   "source": []
  },
  {
   "cell_type": "code",
   "execution_count": 0,
   "metadata": {
    "colab": {},
    "colab_type": "code",
    "id": "uxuq-leqgmY9"
   },
   "outputs": [],
   "source": []
  },
  {
   "cell_type": "markdown",
   "metadata": {
    "colab_type": "text",
    "id": "FNLzz1kzpV-Q"
   },
   "source": [
    "### 5. Save and load the model"
   ]
  },
  {
   "cell_type": "code",
   "execution_count": 0,
   "metadata": {
    "colab": {},
    "colab_type": "code",
    "id": "m_FdQHF4pV-R"
   },
   "outputs": [],
   "source": [
    "torch.save(model_trained.state_dict(), './gdrive/My Drive/Assignment_05/VGG_Final_BCE.h5')"
   ]
  },
  {
   "cell_type": "code",
   "execution_count": 0,
   "metadata": {
    "colab": {},
    "colab_type": "code",
    "id": "4QzXldjE08g6"
   },
   "outputs": [],
   "source": []
  },
  {
   "cell_type": "code",
   "execution_count": 0,
   "metadata": {
    "colab": {},
    "colab_type": "code",
    "id": "F0-JFAhcGXY7"
   },
   "outputs": [],
   "source": []
  },
  {
   "cell_type": "code",
   "execution_count": 39,
   "metadata": {
    "colab": {
     "base_uri": "https://localhost:8080/",
     "height": 34
    },
    "colab_type": "code",
    "id": "SshKYdv_pV-U",
    "outputId": "b5d776d4-d96a-49df-c0f9-cc1de3105a64"
   },
   "outputs": [
    {
     "name": "stdout",
     "output_type": "stream",
     "text": [
      "testing\n"
     ]
    }
   ],
   "source": [
    "model = models.vgg16(pretrained=True).to(device)\n",
    "num_features = model.classifier[0].in_features\n",
    "model.classifier=nn.Sequential( nn.Linear(num_features,5000),\n",
    "                                nn.LeakyReLU(),\n",
    "                                nn.Dropout(p=0.5,inplace=False),\n",
    "                                nn.Linear(5000,120),\n",
    "                                nn.LeakyReLU(),\n",
    "                                nn.Linear(120,3)).to(device)\n",
    "\n",
    "model.load_state_dict(torch.load('./gdrive/My Drive/Assignment_05/VGG_Final_BCE.h5'))\n",
    "model.eval()\n",
    "print('testing')"
   ]
  },
  {
   "cell_type": "markdown",
   "metadata": {
    "colab_type": "text",
    "id": "j_wZbRuTpV-W"
   },
   "source": [
    "### 6. Make predictions on sample test images"
   ]
  },
  {
   "cell_type": "code",
   "execution_count": 40,
   "metadata": {
    "colab": {
     "base_uri": "https://localhost:8080/",
     "height": 153
    },
    "colab_type": "code",
    "id": "1UNdYoWXM0Au",
    "outputId": "c3291845-5e49-4528-f3f4-502e76a94d85"
   },
   "outputs": [
    {
     "name": "stdout",
     "output_type": "stream",
     "text": [
      "['Test']\n",
      "[['0.png' '0' '0' '1']\n",
      " ['1.png' '0' '0' '1']\n",
      " ['10.png' '0' '0' '1']\n",
      " ...\n",
      " ['97.png' '0' '1' '0']\n",
      " ['98.png' '0' '0' '1']\n",
      " ['99.png' '0' '0' '1']]\n"
     ]
    }
   ],
   "source": [
    "import torch\n",
    "from torchvision import datasets\n",
    "\n",
    "class ImageFolderWithPaths(datasets.ImageFolder):\n",
    "    \"\"\"Custom dataset that includes image file paths. Extends\n",
    "    torchvision.datasets.ImageFolder\n",
    "    \"\"\"\n",
    "\n",
    "    # override the __getitem__ method. this is the method that dataloader calls\n",
    "    def __getitem__(self, index):\n",
    "        # this is what ImageFolder normally returns \n",
    "        original_tuple = super(ImageFolderWithPaths, self).__getitem__(index)\n",
    "        # the image file path\n",
    "        path = self.imgs[index][0]\n",
    "        # make a new tuple that includes original and the path\n",
    "        tuple_with_path = (original_tuple + (path,))\n",
    "        return tuple_with_path\n",
    "\n",
    "# EXAMPLE USAGE:\n",
    "# instantiate the dataset and dataloader\n",
    "data_dir = \"./gdrive/My Drive/Assignment_dataset/A_05_Part_02_Dataset/test\"\n",
    "dataset = ImageFolderWithPaths(data_dir) # our custom dataset\n",
    "dataloader = DataLoader(dataset)\n",
    "test_transforms = transforms.Compose([transforms.Resize(256),\n",
    "                                      transforms.CenterCrop(224),\n",
    "                                      transforms.ToTensor(),\n",
    "                                      transforms.Normalize([0.485, 0.456, 0.406],\n",
    "                                                           [0.229, 0.224, 0.225])])\n",
    "\n",
    "\n",
    "test_data = ImageFolderWithPaths(data_dir_vl + '/test', transform=test_transforms)\n",
    "\n",
    "testloader = torch.utils.data.DataLoader(test_data, batch_size=1, shuffle=False)\n",
    "\n",
    "class_names = test_data.classes\n",
    "score=[]\n",
    "name=[]\n",
    "print(class_names)\n",
    "for inputs, labels, paths in testloader:\n",
    "    # use the above variables freely\n",
    "    model.eval()\n",
    "    nm=os.path.basename(os.path.normpath(paths[0]))\n",
    "    image=inputs.to(device)\n",
    "    outputs = (model(image))\n",
    "    gt=outputs.detach().to('cpu').numpy()\n",
    "    score.append((gt[0]>0.5)*1)\n",
    "    name.append(nm)\n",
    "a=np.matrix(name)\n",
    "b=np.asarray(score)#.reshape(0,-1)\n",
    "res = np.concatenate((a.T, b[:,0:1]), axis=1)\n",
    "res = np.concatenate((res,b[:,2:3]),axis=1)\n",
    "res = np.concatenate((res,b[:,1:2]),axis=1)\n",
    "print(res)\n",
    "np.savetxt(\"./gdrive/My Drive/Assignment_05/VGG_final_BCE.csv\", res,delimiter=',',  fmt='%s')"
   ]
  },
  {
   "cell_type": "code",
   "execution_count": 44,
   "metadata": {
    "colab": {
     "base_uri": "https://localhost:8080/",
     "height": 204
    },
    "colab_type": "code",
    "id": "48Q7Mg3yxvHa",
    "outputId": "f3b738b7-776c-41dc-9664-3bb20495f43b"
   },
   "outputs": [
    {
     "name": "stdout",
     "output_type": "stream",
     "text": [
      "Validation data \n",
      "[[[5934.   11.]\n",
      "  [  37.  162.]]\n",
      "\n",
      " [[2039.  141.]\n",
      "  [ 274. 3690.]]\n",
      "\n",
      " [[3879.   85.]\n",
      "  [ 274. 1906.]]]\n",
      "F1 score\n",
      "0.7553373995400032\n"
     ]
    }
   ],
   "source": [
    "from sklearn.metrics import multilabel_confusion_matrix\n",
    "from sklearn.metrics import f1_score\n",
    "from sklearn.metrics import accuracy_score\n",
    "nb_classes = 3\n",
    "B=[]\n",
    "confusion_matrix = torch.zeros(nb_classes, nb_classes)\n",
    "predlist=torch.zeros(0,dtype=torch.long, device='cpu')\n",
    "lbllist=torch.zeros(0,dtype=torch.long, device='cpu')\n",
    "Av=np.zeros((nb_classes,2,2))\n",
    "acc=0\n",
    "i=0\n",
    "with torch.no_grad():\n",
    "    for inputs, labels in dataloaders['validation']:\n",
    "        inputs = inputs.to(device)\n",
    "        labels = labels.to(device)\n",
    "        onehot=one_hot(labels,3)\n",
    "        classes=onehot\n",
    "        for a in range(len(labels)):\n",
    "          if torch.equal(classes[a], torch.FloatTensor([ 1.,  0.,   0.]).to(device)):\n",
    "             classes[a]=torch.FloatTensor([1., 0., 1.]).to(device)  \n",
    "        classes=classes.long().cpu()\n",
    "        pred=model(inputs)>0.5\n",
    "        pred=pred*1\n",
    "        i=1+i\n",
    "        #pred=pred.cpu()#detach().to('cpu').numpy\n",
    "        pred=pred.long().cpu()\n",
    "        Av=multilabel_confusion_matrix(classes.numpy(), pred.numpy())+Av\n",
    "        B.append(f1_score(classes.numpy(), pred.numpy(), average='macro'))\n",
    "        #acc=accuracy_score(classes.numpy(), pred.numpy())+acc\n",
    "print('Validation data ')\n",
    "print(Av)\n",
    "print('F1 score')\n",
    "print(np.mean(B))"
   ]
  },
  {
   "cell_type": "code",
   "execution_count": 49,
   "metadata": {
    "colab": {
     "base_uri": "https://localhost:8080/",
     "height": 935
    },
    "colab_type": "code",
    "id": "M3Z9r4IXOz2Q",
    "outputId": "4f3e71e3-5caa-4ed2-9076-f70b5869df6a"
   },
   "outputs": [
    {
     "name": "stdout",
     "output_type": "stream",
     "text": [
      "[[551.   0.]\n",
      " [ 14.  11.]]\n"
     ]
    },
    {
     "data": {
      "image/png": "[encoded data removed]",
      "text/plain": [
       "<Figure size 432x288 with 2 Axes>"
      ]
     },
     "metadata": {
      "needs_background": "light",
      "tags": []
     },
     "output_type": "display_data"
    },
    {
     "name": "stdout",
     "output_type": "stream",
     "text": [
      "[[182.  21.]\n",
      " [ 28. 345.]]\n"
     ]
    },
    {
     "data": {
      "image/png": "[encoded data removed]",
      "text/plain": [
       "<Figure size 432x288 with 2 Axes>"
      ]
     },
     "metadata": {
      "needs_background": "light",
      "tags": []
     },
     "output_type": "display_data"
    },
    {
     "name": "stdout",
     "output_type": "stream",
     "text": [
      "[[364.   9.]\n",
      " [ 36. 167.]]\n"
     ]
    },
    {
     "data": {
      "image/png": "[encoded data removed]",
      "text/plain": [
       "<Figure size 432x288 with 2 Axes>"
      ]
     },
     "metadata": {
      "needs_background": "light",
      "tags": []
     },
     "output_type": "display_data"
    }
   ],
   "source": [
    "labels = ['Covid', 'Other']\n",
    "cm = Av[0,:,:]\n",
    "print(cm)\n",
    "fig = plt.figure()\n",
    "ax = fig.add_subplot(111)\n",
    "cax = ax.matshow(cm)\n",
    "plt.title('Confusion matrix of the classifier')\n",
    "fig.colorbar(cax)\n",
    "ax.set_xticklabels([''] + labels)\n",
    "ax.set_yticklabels([''] + labels)\n",
    "plt.xlabel('Predicted')\n",
    "plt.ylabel('True')\n",
    "plt.show()\n",
    "labels=['Normal', 'Other']\n",
    "cm = Av[1,:,:]\n",
    "print(cm)\n",
    "fig = plt.figure()\n",
    "ax = fig.add_subplot(111)\n",
    "cax = ax.matshow(cm)\n",
    "plt.title('Confusion matrix of the classifier')\n",
    "fig.colorbar(cax)\n",
    "ax.set_xticklabels([''] + labels)\n",
    "ax.set_yticklabels([''] + labels)\n",
    "plt.xlabel('Predicted')\n",
    "plt.ylabel('True')\n",
    "plt.show()\n",
    "labels=['Pneumonia', 'Other']\n",
    "cm = Av[2,:,:]\n",
    "print(cm)\n",
    "fig = plt.figure()\n",
    "ax = fig.add_subplot(111)\n",
    "cax = ax.matshow(cm)\n",
    "plt.title('Confusion matrix of the classifier')\n",
    "fig.colorbar(cax)\n",
    "ax.set_xticklabels([''] + labels)\n",
    "ax.set_yticklabels([''] + labels)\n",
    "plt.xlabel('Predicted')\n",
    "plt.ylabel('True')\n",
    "plt.show()"
   ]
  },
  {
   "cell_type": "code",
   "execution_count": 51,
   "metadata": {
    "colab": {
     "base_uri": "https://localhost:8080/",
     "height": 71
    },
    "colab_type": "code",
    "id": "570XAFgPM9m7",
    "outputId": "dba73c2a-252d-49ec-f11d-d0084804ca1f"
   },
   "outputs": [
    {
     "name": "stderr",
     "output_type": "stream",
     "text": [
      "/usr/local/lib/python3.6/dist-packages/sklearn/metrics/_classification.py:1515: UndefinedMetricWarning: F-score is ill-defined and being set to 0.0 in labels with no true nor predicted samples. Use `zero_division` parameter to control this behavior.\n",
      "  average, \"true nor predicted\", 'F-score is', len(true_sum)\n"
     ]
    }
   ],
   "source": [
    "from sklearn.metrics import multilabel_confusion_matrix\n",
    "from sklearn.metrics import f1_score\n",
    "from sklearn.metrics import accuracy_score\n",
    "nb_classes = 3\n",
    "B=0\n",
    "confusion_matrix = torch.zeros(nb_classes, nb_classes)\n",
    "predlist=torch.zeros(0,dtype=torch.long, device='cpu')\n",
    "lbllist=torch.zeros(0,dtype=torch.long, device='cpu')\n",
    "At=np.zeros((nb_classes,2,2))\n",
    "acc=0\n",
    "i=0\n",
    "B=[]\n",
    "with torch.no_grad():\n",
    "    for inputs, labels in dataloaders['train']:\n",
    "        inputs = inputs.to(device)\n",
    "        labels = labels.to(device)\n",
    "        onehot=one_hot(labels,3)\n",
    "        classes=onehot\n",
    "        for a in range(len(labels)):\n",
    "          if torch.equal(classes[a], torch.FloatTensor([ 1.,  0.,   0.]).to(device)):\n",
    "             classes[a]=torch.FloatTensor([1., 0., 1.]).to(device)  \n",
    "        classes=classes.long().cpu()\n",
    "        pred=model(inputs)>0.5\n",
    "        pred=pred*1\n",
    "        #pred=pred.cpu()#detach().to('cpu').numpy\n",
    "        pred=pred.long().cpu()\n",
    "        At=multilabel_confusion_matrix(classes.numpy(), pred.numpy())+At\n",
    "        B.append(f1_score(classes.numpy(), pred.numpy(), average='macro'))\n",
    "        #acc=accuracy_score(classes.numpy(), pred.numpy())+acc\n",
    "        #i=i+1\n",
    "\n",
    "#print('train accuracy', '    ',  acc/i)"
   ]
  },
  {
   "cell_type": "code",
   "execution_count": 52,
   "metadata": {
    "colab": {
     "base_uri": "https://localhost:8080/",
     "height": 204
    },
    "colab_type": "code",
    "id": "XYY7R9halAgA",
    "outputId": "2fd6ee63-8e1b-4a54-a675-2e83d8caa9cd"
   },
   "outputs": [
    {
     "name": "stdout",
     "output_type": "stream",
     "text": [
      "train data \n",
      "[[[5933.   11.]\n",
      "  [  37.  163.]]\n",
      "\n",
      " [[2038.  144.]\n",
      "  [ 273. 3689.]]\n",
      "\n",
      " [[3874.   88.]\n",
      "  [ 276. 1906.]]]\n",
      "F1 score\n",
      "0.8494061193014835\n"
     ]
    }
   ],
   "source": [
    "print('train data ')\n",
    "print(At)\n",
    "print('F1 score')\n",
    "print(np.mean(B))\n"
   ]
  },
  {
   "cell_type": "code",
   "execution_count": 53,
   "metadata": {
    "colab": {
     "base_uri": "https://localhost:8080/",
     "height": 935
    },
    "colab_type": "code",
    "id": "pjC8Q4IUPAY_",
    "outputId": "653e252e-4d13-4ff4-aa22-50f6b79ffcf3"
   },
   "outputs": [
    {
     "name": "stdout",
     "output_type": "stream",
     "text": [
      "[[5931.   16.]\n",
      " [  42.  155.]]\n"
     ]
    },
    {
     "data": {
      "image/png": "[encoded data removed]",
      "text/plain": [
       "<Figure size 432x288 with 2 Axes>"
      ]
     },
     "metadata": {
      "needs_background": "light",
      "tags": []
     },
     "output_type": "display_data"
    },
    {
     "name": "stdout",
     "output_type": "stream",
     "text": [
      "[[2043.  134.]\n",
      " [ 286. 3681.]]\n"
     ]
    },
    {
     "data": {
      "image/png": "[encoded data removed]",
      "text/plain": [
       "<Figure size 432x288 with 2 Axes>"
      ]
     },
     "metadata": {
      "needs_background": "light",
      "tags": []
     },
     "output_type": "display_data"
    },
    {
     "name": "stdout",
     "output_type": "stream",
     "text": [
      "[[3882.   85.]\n",
      " [ 275. 1902.]]\n"
     ]
    },
    {
     "data": {
      "image/png": "[encoded data removed]",
      "text/plain": [
       "<Figure size 432x288 with 2 Axes>"
      ]
     },
     "metadata": {
      "needs_background": "light",
      "tags": []
     },
     "output_type": "display_data"
    }
   ],
   "source": [
    "\n",
    "labels = ['Covid', 'Other']\n",
    "cm = At[0,:,:]\n",
    "print(cm)\n",
    "fig = plt.figure()\n",
    "ax = fig.add_subplot(111)\n",
    "cax = ax.matshow(cm)\n",
    "plt.title('Confusion matrix of the classifier')\n",
    "fig.colorbar(cax)\n",
    "ax.set_xticklabels([''] + labels)\n",
    "ax.set_yticklabels([''] + labels)\n",
    "plt.xlabel('Predicted')\n",
    "plt.ylabel('True')\n",
    "plt.show()\n",
    "labels=['Normal', 'Other']\n",
    "cm = At[1,:,:]\n",
    "print(cm)\n",
    "fig = plt.figure()\n",
    "ax = fig.add_subplot(111)\n",
    "cax = ax.matshow(cm)\n",
    "plt.title('Confusion matrix of the classifier')\n",
    "fig.colorbar(cax)\n",
    "ax.set_xticklabels([''] + labels)\n",
    "ax.set_yticklabels([''] + labels)\n",
    "plt.xlabel('Predicted')\n",
    "plt.ylabel('True')\n",
    "plt.show()\n",
    "labels=['Pneumonia', 'Other']\n",
    "cm = At[2,:,:]\n",
    "print(cm)\n",
    "fig = plt.figure()\n",
    "ax = fig.add_subplot(111)\n",
    "cax = ax.matshow(cm)\n",
    "plt.title('Confusion matrix of the classifier')\n",
    "fig.colorbar(cax)\n",
    "ax.set_xticklabels([''] + labels)\n",
    "ax.set_yticklabels([''] + labels)\n",
    "plt.xlabel('Predicted')\n",
    "plt.ylabel('True')\n",
    "plt.show()"
   ]
  },
  {
   "cell_type": "markdown",
   "metadata": {
    "colab_type": "text",
    "id": "M5BajZ3BpV9r"
   },
   "source": [
    "### 1. Import dependencies"
   ]
  },
  {
   "cell_type": "code",
   "execution_count": 15,
   "metadata": {
    "colab": {
     "base_uri": "https://localhost:8080/",
     "height": 34
    },
    "colab_type": "code",
    "id": "WNjaFvWcpZlc",
    "outputId": "44c5f860-706b-44de-dc67-b11c8dc270fe"
   },
   "outputs": [
    {
     "name": "stdout",
     "output_type": "stream",
     "text": [
      "Drive already mounted at ./gdrive; to attempt to forcibly remount, call drive.mount(\"./gdrive\", force_remount=True).\n"
     ]
    }
   ],
   "source": [
    "from google.colab import drive\n",
    "drive.mount('./gdrive')\n"
   ]
  },
  {
   "cell_type": "code",
   "execution_count": 0,
   "metadata": {
    "colab": {},
    "colab_type": "code",
    "id": "HuHcz5F7ly3k"
   },
   "outputs": [],
   "source": [
    "#!unzip \"./gdrive/My Drive/A_05_Part_02_Dataset.zip\" -d \"./gdrive/My Drive/Assignment_05_dataset\""
   ]
  },
  {
   "cell_type": "code",
   "execution_count": 17,
   "metadata": {
    "colab": {
     "base_uri": "https://localhost:8080/",
     "height": 190
    },
    "colab_type": "code",
    "id": "hxICEXlu_jt1",
    "outputId": "bf0e62bc-8960-49c9-b556-9c4795f8da90"
   },
   "outputs": [
    {
     "name": "stdout",
     "output_type": "stream",
     "text": [
      "Collecting torch==1.4.0\n",
      "\u001b[31m  ERROR: HTTP error 403 while getting http://download.pytorch.org/whl/cu92/torch-1.4.0-cp36-cp36m-linux_x86_64.whl\u001b[0m\n",
      "\u001b[31m  ERROR: Could not install requirement torch==1.4.0 from http://download.pytorch.org/whl/cu92/torch-1.4.0-cp36-cp36m-linux_x86_64.whl because of error 403 Client Error: Forbidden for url: http://download.pytorch.org/whl/cu92/torch-1.4.0-cp36-cp36m-linux_x86_64.whl\u001b[0m\n",
      "\u001b[31mERROR: Could not install requirement torch==1.4.0 from http://download.pytorch.org/whl/cu92/torch-1.4.0-cp36-cp36m-linux_x86_64.whl because of HTTP error 403 Client Error: Forbidden for url: http://download.pytorch.org/whl/cu92/torch-1.4.0-cp36-cp36m-linux_x86_64.whl for URL http://download.pytorch.org/whl/cu92/torch-1.4.0-cp36-cp36m-linux_x86_64.whl\u001b[0m\n",
      "Requirement already satisfied: torchvision in /usr/local/lib/python3.6/dist-packages (0.6.0+cu101)\n",
      "Requirement already satisfied: pillow>=4.1.1 in /usr/local/lib/python3.6/dist-packages (from torchvision) (7.0.0)\n",
      "Requirement already satisfied: numpy in /usr/local/lib/python3.6/dist-packages (from torchvision) (1.18.3)\n",
      "Requirement already satisfied: torch==1.5.0 in /usr/local/lib/python3.6/dist-packages (from torchvision) (1.5.0+cu101)\n",
      "Requirement already satisfied: future in /usr/local/lib/python3.6/dist-packages (from torch==1.5.0->torchvision) (0.16.0)\n"
     ]
    }
   ],
   "source": [
    "!pip3 install http://download.pytorch.org/whl/cu92/torch-1.4.0-cp36-cp36m-linux_x86_64.whl\n",
    "!pip3 install torchvision"
   ]
  },
  {
   "cell_type": "code",
   "execution_count": 0,
   "metadata": {
    "colab": {},
    "colab_type": "code",
    "id": "ODdDPwVrpV9t"
   },
   "outputs": [],
   "source": [
    "import numpy as np\n",
    "%matplotlib inline\n",
    "import matplotlib.pyplot as plt\n",
    "from PIL import Image\n",
    "import os\n",
    "import os.path\n",
    "import sys"
   ]
  },
  {
   "cell_type": "code",
   "execution_count": 0,
   "metadata": {
    "colab": {},
    "colab_type": "code",
    "id": "Qx5ltzAtpYwh"
   },
   "outputs": [],
   "source": []
  },
  {
   "cell_type": "code",
   "execution_count": 0,
   "metadata": {
    "colab": {},
    "colab_type": "code",
    "id": "rkzhyo3MpV9x"
   },
   "outputs": [],
   "source": [
    "import torch\n",
    "import torchvision\n",
    "from torchvision import datasets, models, transforms\n",
    "import torch.nn as nn\n",
    "from torch.utils.data import Dataset, DataLoader ,random_split\n",
    "from torch.nn import functional as F\n",
    "import torch.optim as optim\n"
   ]
  },
  {
   "cell_type": "code",
   "execution_count": 0,
   "metadata": {
    "colab": {},
    "colab_type": "code",
    "id": "CJQdw6xnpV90"
   },
   "outputs": [],
   "source": [
    "#dir(models)"
   ]
  },
  {
   "cell_type": "code",
   "execution_count": 21,
   "metadata": {
    "colab": {
     "base_uri": "https://localhost:8080/",
     "height": 34
    },
    "colab_type": "code",
    "id": "ZJpYZ0q3pV94",
    "outputId": "5c988577-4891-44ab-d755-7a1b061472f6"
   },
   "outputs": [
    {
     "data": {
      "text/plain": [
       "'1.5.0+cu101'"
      ]
     },
     "execution_count": 21,
     "metadata": {
      "tags": []
     },
     "output_type": "execute_result"
    }
   ],
   "source": [
    "torch.__version__"
   ]
  },
  {
   "cell_type": "code",
   "execution_count": 22,
   "metadata": {
    "colab": {
     "base_uri": "https://localhost:8080/",
     "height": 34
    },
    "colab_type": "code",
    "id": "8ca693InlC_A",
    "outputId": "4cbe17a9-274f-4c6c-f9c9-29170fe11504"
   },
   "outputs": [
    {
     "name": "stdout",
     "output_type": "stream",
     "text": [
      "cuda:0\n"
     ]
    }
   ],
   "source": [
    "device = torch.device(\"cuda:0\" if torch.cuda.is_available() else \"cpu\")\n",
    "print(device)"
   ]
  },
  {
   "cell_type": "code",
   "execution_count": 0,
   "metadata": {
    "colab": {},
    "colab_type": "code",
    "id": "b5sUPJ24pwtW"
   },
   "outputs": [],
   "source": [
    "data_dir_tr = \"./gdrive/My Drive/Assign_5_Augm/train_aug\"\n",
    "data_dir_vl = \"./gdrive/My Drive/Assignment_dataset/A_05_Part_02_Dataset\""
   ]
  },
  {
   "cell_type": "markdown",
   "metadata": {
    "colab_type": "text",
    "id": "7mOfxO4upV98"
   },
   "source": [
    "### 2. Create PyTorch data generators"
   ]
  },
  {
   "cell_type": "code",
   "execution_count": 0,
   "metadata": {
    "colab": {},
    "colab_type": "code",
    "id": "xPmDLJMBzfsH"
   },
   "outputs": [],
   "source": []
  },
  {
   "cell_type": "code",
   "execution_count": 24,
   "metadata": {
    "colab": {
     "base_uri": "https://localhost:8080/",
     "height": 204
    },
    "colab_type": "code",
    "id": "7ONDJ6BZpV98",
    "outputId": "8bc9f73e-d00a-47e6-de6c-b2f55b0bb0f7"
   },
   "outputs": [
    {
     "name": "stdout",
     "output_type": "stream",
     "text": [
      "Dataset ImageFolder\n",
      "    Number of datapoints: 628\n",
      "    Root location: ./gdrive/My Drive/Assignment_dataset/A_05_Part_02_Dataset/Validation\n",
      "    StandardTransform\n",
      "Transform: Compose(\n",
      "               Resize(size=(224, 224), interpolation=PIL.Image.BILINEAR)\n",
      "               ToTensor()\n",
      "               Normalize(mean=[0.485, 0.456, 0.406], std=[0.229, 0.224, 0.225])\n",
      "           )\n",
      "{'covid-19': 0, 'normal': 1, 'pneumonia': 2}\n"
     ]
    },
    {
     "data": {
      "text/plain": [
       "6200"
      ]
     },
     "execution_count": 24,
     "metadata": {
      "tags": []
     },
     "output_type": "execute_result"
    }
   ],
   "source": [
    "normalize = transforms.Normalize(mean=[0.485, 0.456, 0.406],\n",
    "                                 std=[0.229, 0.224, 0.225])\n",
    "batch=64\n",
    "data_transforms = {\n",
    "    'train':\n",
    "    transforms.Compose([\n",
    "        transforms.Resize((224,224)),\n",
    "        transforms.RandomAffine(0, shear=10, scale=(0.8,1.2)),\n",
    "        transforms.RandomHorizontalFlip(),\n",
    "        transforms.ToTensor(),\n",
    "        normalize\n",
    "    ]),\n",
    "    'validation':\n",
    "    transforms.Compose([\n",
    "        transforms.Resize((224,224)),\n",
    "        transforms.ToTensor(),\n",
    "        normalize\n",
    "    ]),\n",
    "}\n",
    "\n",
    "image_datasets = {\n",
    "    'train': \n",
    "    datasets.ImageFolder(data_dir_vl+'/Train', data_transforms['train']),\n",
    "    'validation': \n",
    "    datasets.ImageFolder(data_dir_vl+'/Validation', data_transforms['validation'])\n",
    "}\n",
    "#image_datasets['validation'].class_to_idx={'covid-19': [1,0,0], 'normal': [0,1,0], 'pneumonia': [0,0,1]}\n",
    "A=image_datasets['validation']\n",
    "print(A)\n",
    "dataloaders = {\n",
    "    'train':\n",
    "    torch.utils.data.DataLoader(image_datasets['train'],\n",
    "                                batch_size=batch,\n",
    "                                shuffle=True,drop_last=True,num_workers=4),\n",
    "    'validation':\n",
    "    torch.utils.data.DataLoader(image_datasets['validation'],\n",
    "                                batch_size=batch,\n",
    "                                shuffle=True,drop_last=True,num_workers=4)\n",
    "}\n",
    "print(image_datasets['train'].class_to_idx)\n",
    "\n",
    "\n",
    "def one_hot(x, class_count):\n",
    "    return torch.eye(class_count).to(device)[x,:]\n",
    "len(image_datasets['train'])\n",
    "#for inputs, labels in dataloaders['validation']:\n",
    " #print(labels.data)\n",
    " #x = labels\n",
    " #class_count = 3\n",
    " \n",
    " #y = torch.LongTensor(128,1).random_() % 3\n",
    "# One hot encoding buffer that you create out of the loop and just keep reusing\n",
    " #y_onehot = torch.FloatTensor(batch, 3)\n",
    " #y_onehot.zero_()\n",
    " #y_onehot.scatter_(1, labels, 1)t5\n",
    " #print(one_hot(x,class_count))\n",
    "#list(zip(image_datasets['train'].class_to_idx))\n",
    "#len(image_datasets['validation'])"
   ]
  },
  {
   "cell_type": "markdown",
   "metadata": {
    "colab_type": "text",
    "id": "vuwc4A6QpV9_"
   },
   "source": [
    "### 3. Create the network"
   ]
  },
  {
   "cell_type": "code",
   "execution_count": 0,
   "metadata": {
    "colab": {},
    "colab_type": "code",
    "id": "HZDJXDeDpV9_"
   },
   "outputs": [],
   "source": []
  },
  {
   "cell_type": "code",
   "execution_count": 0,
   "metadata": {
    "colab": {},
    "colab_type": "code",
    "id": "RmW281-kXXxN"
   },
   "outputs": [],
   "source": []
  },
  {
   "cell_type": "code",
   "execution_count": 25,
   "metadata": {
    "colab": {
     "base_uri": "https://localhost:8080/",
     "height": 831,
     "referenced_widgets": [
      "3134290172334768ac153154d9fbf6f8",
      "b98b836d7a4c40e7a2823c741a0f4e37",
      "4057e7f235df4430979e500109a4f3d6",
      "eada090d400e47e4b1f6f2742bd0ef74",
      "acb34be5ff324db78412a8795698a512",
      "1a63eba2cc8d4f4ea3bcbcfd7c3890da",
      "85d905281ade471aa4a56b38ca789786",
      "6549ef1d00874484b3e992e04168b940"
     ]
    },
    "colab_type": "code",
    "id": "3uaoWqBkpV-C",
    "outputId": "c230a7cf-74de-470b-d176-37165b11bca2"
   },
   "outputs": [
    {
     "name": "stderr",
     "output_type": "stream",
     "text": [
      "Downloading: \"https://download.pytorch.org/models/vgg16-397923af.pth\" to /root/.cache/torch/checkpoints/vgg16-397923af.pth\n"
     ]
    },
    {
     "data": {
      "application/vnd.jupyter.widget-view+json": {
       "model_id": "3134290172334768ac153154d9fbf6f8",
       "version_major": 2,
       "version_minor": 0
      },
      "text/plain": [
       "HBox(children=(IntProgress(value=0, max=553433881), HTML(value='')))"
      ]
     },
     "metadata": {
      "tags": []
     },
     "output_type": "display_data"
    },
    {
     "name": "stdout",
     "output_type": "stream",
     "text": [
      "\n",
      "VGG(\n",
      "  (features): Sequential(\n",
      "    (0): Conv2d(3, 64, kernel_size=(3, 3), stride=(1, 1), padding=(1, 1))\n",
      "    (1): ReLU(inplace=True)\n",
      "    (2): Conv2d(64, 64, kernel_size=(3, 3), stride=(1, 1), padding=(1, 1))\n",
      "    (3): ReLU(inplace=True)\n",
      "    (4): MaxPool2d(kernel_size=2, stride=2, padding=0, dilation=1, ceil_mode=False)\n",
      "    (5): Conv2d(64, 128, kernel_size=(3, 3), stride=(1, 1), padding=(1, 1))\n",
      "    (6): ReLU(inplace=True)\n",
      "    (7): Conv2d(128, 128, kernel_size=(3, 3), stride=(1, 1), padding=(1, 1))\n",
      "    (8): ReLU(inplace=True)\n",
      "    (9): MaxPool2d(kernel_size=2, stride=2, padding=0, dilation=1, ceil_mode=False)\n",
      "    (10): Conv2d(128, 256, kernel_size=(3, 3), stride=(1, 1), padding=(1, 1))\n",
      "    (11): ReLU(inplace=True)\n",
      "    (12): Conv2d(256, 256, kernel_size=(3, 3), stride=(1, 1), padding=(1, 1))\n",
      "    (13): ReLU(inplace=True)\n",
      "    (14): Conv2d(256, 256, kernel_size=(3, 3), stride=(1, 1), padding=(1, 1))\n",
      "    (15): ReLU(inplace=True)\n",
      "    (16): MaxPool2d(kernel_size=2, stride=2, padding=0, dilation=1, ceil_mode=False)\n",
      "    (17): Conv2d(256, 512, kernel_size=(3, 3), stride=(1, 1), padding=(1, 1))\n",
      "    (18): ReLU(inplace=True)\n",
      "    (19): Conv2d(512, 512, kernel_size=(3, 3), stride=(1, 1), padding=(1, 1))\n",
      "    (20): ReLU(inplace=True)\n",
      "    (21): Conv2d(512, 512, kernel_size=(3, 3), stride=(1, 1), padding=(1, 1))\n",
      "    (22): ReLU(inplace=True)\n",
      "    (23): MaxPool2d(kernel_size=2, stride=2, padding=0, dilation=1, ceil_mode=False)\n",
      "    (24): Conv2d(512, 512, kernel_size=(3, 3), stride=(1, 1), padding=(1, 1))\n",
      "    (25): ReLU(inplace=True)\n",
      "    (26): Conv2d(512, 512, kernel_size=(3, 3), stride=(1, 1), padding=(1, 1))\n",
      "    (27): ReLU(inplace=True)\n",
      "    (28): Conv2d(512, 512, kernel_size=(3, 3), stride=(1, 1), padding=(1, 1))\n",
      "    (29): ReLU(inplace=True)\n",
      "    (30): MaxPool2d(kernel_size=2, stride=2, padding=0, dilation=1, ceil_mode=False)\n",
      "  )\n",
      "  (avgpool): AdaptiveAvgPool2d(output_size=(7, 7))\n",
      "  (classifier): Sequential(\n",
      "    (0): Linear(in_features=25088, out_features=5000, bias=True)\n",
      "    (1): LeakyReLU(negative_slope=0.01)\n",
      "    (2): Dropout(p=0.5, inplace=False)\n",
      "    (3): Linear(in_features=5000, out_features=120, bias=True)\n",
      "    (4): LeakyReLU(negative_slope=0.01)\n",
      "    (5): Linear(in_features=120, out_features=3, bias=True)\n",
      "  )\n",
      ")\n"
     ]
    }
   ],
   "source": [
    "model = models.vgg16(pretrained=True).to(device)\n",
    "\n",
    "num_features = model.classifier[0].in_features\n",
    "for param in model.parameters():\n",
    "  param.requires_grad=False\n",
    "model.classifier=nn.Sequential( nn.Linear(num_features,5000),\n",
    "                                nn.LeakyReLU(),\n",
    "                                nn.Dropout(p=0.5,inplace=False),\n",
    "                                nn.Linear(5000,120),\n",
    "                                nn.LeakyReLU(),\n",
    "                                nn.Linear(120,3)).to(device)\n",
    "print(model)"
   ]
  },
  {
   "cell_type": "code",
   "execution_count": 0,
   "metadata": {
    "colab": {},
    "colab_type": "code",
    "id": "b87T2kpfq75N"
   },
   "outputs": [],
   "source": [
    "def Focalloss(x,y,alpha=0.2,gamma=2):\n",
    "  pos_weight = torch.ones([batch]).to(device)\n",
    "  BCE=nn.BCEWithLogitsLoss(pos_weight=pos_weight)\n",
    "  BCE_LOSS=BCE(x,y)\n",
    "  pt=torch.exp(-BCE_LOSS)\n",
    "  FL=alpha*BCE_LOSS*(1-pt)**gamma\n",
    "  return FL\n",
    "\n",
    "\n"
   ]
  },
  {
   "cell_type": "code",
   "execution_count": 0,
   "metadata": {
    "colab": {},
    "colab_type": "code",
    "id": "6ItFFvE-pV-H"
   },
   "outputs": [],
   "source": [
    "#criterion = nn.CrossEntropyLoss()\n",
    "#optimizer = optim.SGD(model.classifier.parameters(),lr=0.001, momentum=0.9)\n",
    "#for param in filter(lambda p: p.requires_grad, model.parameters()):\n",
    " # print(param.requires_grad)\n",
    "optimizer = optim.Adam(filter(lambda p: p.requires_grad, model.parameters()),lr=0.001)"
   ]
  },
  {
   "cell_type": "code",
   "execution_count": 0,
   "metadata": {
    "colab": {},
    "colab_type": "code",
    "id": "AfVlHMxXq6_D"
   },
   "outputs": [],
   "source": []
  },
  {
   "cell_type": "markdown",
   "metadata": {
    "colab_type": "text",
    "id": "VmrAw3XHpV-J"
   },
   "source": [
    "### 4. Train the model"
   ]
  },
  {
   "cell_type": "code",
   "execution_count": 0,
   "metadata": {
    "colab": {},
    "colab_type": "code",
    "id": "SrUC-i8HpV-K"
   },
   "outputs": [],
   "source": [
    "#batch=128\n",
    "def train_model(model, Focalloss, optimizer, num_epochs=3):\n",
    "    loss_train=[]\n",
    "    loss_val=[]\n",
    "    acc_train=[]\n",
    "    acc_val=[]\n",
    "    Epochs=[]\n",
    "    for epoch in range(num_epochs):\n",
    "        print('Epoch ' ,epoch+1,'/',num_epochs)\n",
    "        print('-' * 10)\n",
    "\n",
    "        for phase in ['train', 'validation']:\n",
    "            if phase == 'train':\n",
    "                model.train()\n",
    "            else:\n",
    "                model.eval()\n",
    "\n",
    "            running_loss = 0.0\n",
    "            running_corrects = 0\n",
    "            i=0\n",
    "\n",
    "            for inputs, labels in dataloaders[phase]:\n",
    "                inputs = inputs.to(device)\n",
    "                labels = labels.to(device)\n",
    "                # print(labels)\n",
    "                # One hot encoding buffer that you create out of the loop and just keep reusing\n",
    "                #y_onehot = torch.FloatTensor(batch, 3).to(device)\n",
    "                #y_onehot.zero_().to(device)\n",
    "                #y_onehot.scatter_(1, labels, 1).to(device)\n",
    "                onehot=one_hot(labels,3)\n",
    "                #onehot[onehot[0:batch]==torch.FloatTensor([1,0,0]).to(device)]=(torch.FloatTensor([1,0,1]).clone()).to(device)\n",
    "                #y[y[0:200]==torch.FloatTensor([1., 0., 0.]).to(device)]=torch.FloatTensor([1., 0., 1.]).to(device)\n",
    "                #onehot=torch.where(onehot[0:batch]==torch.FloatTensor([ 1.,  0.,   0.]).to(device),torch.FloatTensor([1.,  0., 1.]).to(device),onehot)\n",
    "                for a in range(len(labels)):\n",
    "                    if torch.equal(onehot[a], torch.FloatTensor([ 1.,  0.,   0.]).to(device)):\n",
    "                        onehot[a]=torch.FloatTensor([1., 0., 1.]).to(device)                \n",
    "                #for i in range(len(onehot)):\n",
    "                #print(onehot[:])\n",
    "                #print(onehot.dtype,'hotcoding')\n",
    "                i=i+1\n",
    "                #for inputs, labels in dataloaders['validation']:\n",
    "                #print(labels.data)\n",
    "\n",
    "\n",
    "                outputs = model(inputs)\n",
    "                #print(outputs.shape)\n",
    "                loss = Focalloss(outputs.T, onehot.T,alpha=0.5,gamma=2)\n",
    "                #print(loss,'  loss')\n",
    "                print('\\r ',i,'  ','loss  ',loss,end='')\n",
    "                \n",
    "                if phase == 'train':\n",
    "                    optimizer.zero_grad()\n",
    "                    loss.backward()\n",
    "                    optimizer.step()\n",
    "                m=torch.nn.Sigmoid()\n",
    "                preds = m(outputs).data>0.5\n",
    "                #print(preds.shape,'\\n')\n",
    "                preds=preds*1\n",
    "                running_loss += loss.detach() * inputs.size(0)\n",
    "                running_corrects += torch.sum(preds[0:batch] == (onehot[0:batch]))/3\n",
    "            \n",
    "            epoch_loss = running_loss / len(image_datasets[phase])\n",
    "            epoch_acc = running_corrects.float() / len(image_datasets[phase])\n",
    "            if phase == 'train':\n",
    "                acc_train.append(epoch_acc)\n",
    "                loss_train.append(epoch_loss)\n",
    "            else:\n",
    "                acc_val.append(epoch_acc)\n",
    "                loss_val.append(epoch_loss)\n",
    "                \n",
    "            #Epochs,append(epoch_acc)\n",
    "\n",
    "            print('  ','{} loss: {:.4f}, acc: {:.4f}'.format(phase,\n",
    "                                                        epoch_loss.item(),\n",
    "                                                        epoch_acc.item()))\n",
    "    \n",
    "    A=plt.figure(1)\n",
    "    #plt.plot(it,Loss,label='CE')\n",
    "    plt.plot(range(num_epochs),acc_train,'r--',label='Training Accuracy')\n",
    "    plt.plot(range(num_epochs),acc_val,'g--',label='Val Accuracy')\n",
    "    #print(Loss)\n",
    "    A.legend()\n",
    "    plt.xlabel('Epochs')\n",
    "    plt.ylabel('Accuracy')\n",
    "    g = plt.figure(2)\n",
    "    plt.plot(range(num_epochs),loss_train,'r--',label='Training Loss')\n",
    "    plt.plot(range(num_epochs),loss_val,'g--',label='Validation Loss')\n",
    "    plt.xlabel('Epochs')\n",
    "    plt.ylabel('Loss')\n",
    "    g.legend()\n",
    "    #g.savefig(('LOss'.png'),dpi=1200)        \n",
    "    return model\n"
   ]
  },
  {
   "cell_type": "code",
   "execution_count": 36,
   "metadata": {
    "colab": {
     "base_uri": "https://localhost:8080/",
     "height": 102
    },
    "colab_type": "code",
    "id": "tdyGHlylvTYk",
    "outputId": "14ff07d4-47d6-45bc-bdf1-29da2cb22d33"
   },
   "outputs": [
    {
     "name": "stdout",
     "output_type": "stream",
     "text": [
      "tensor([[ 7071117., 10547335.,  7309415.],\n",
      "        [ 1335422., 16198869.,  2847427.],\n",
      "        [  966444., 12449033., 15464826.],\n",
      "        [10161559., 11820689., 13567115.],\n",
      "        [10349463.,  7062630.,  1135395.]], device='cuda:0')\n"
     ]
    }
   ],
   "source": [
    "y = torch.FloatTensor(200,3).random_().to(device)\n",
    "#print(y)\n",
    "print(y[0:5])\n",
    "q =[[0,1,2],[3,0,4],[5,6,0]]\n",
    "tense_tensor = torch.tensor(q)\n"
   ]
  },
  {
   "cell_type": "code",
   "execution_count": 0,
   "metadata": {
    "colab": {},
    "colab_type": "code",
    "id": "Vn9CD5TnvUGR"
   },
   "outputs": [],
   "source": [
    "\n",
    "#y[y[0:200]==torch.FloatTensor([16583221., 12498836., 11103416.])]=torch.FloatTensor([1.,  0., 1.]).to(device)\n",
    "#print(torch.where(y[0:200]==torch.FloatTensor([ 803131.,  5802761.,   894371.]).to(device),torch.FloatTensor([1.,  0., 1.]).to(device),y))"
   ]
  },
  {
   "cell_type": "code",
   "execution_count": 0,
   "metadata": {
    "colab": {},
    "colab_type": "code",
    "id": "YBT3ZJmsNveL"
   },
   "outputs": [],
   "source": []
  },
  {
   "cell_type": "code",
   "execution_count": 0,
   "metadata": {
    "colab": {},
    "colab_type": "code",
    "id": "j98cJfAqNvcb"
   },
   "outputs": [],
   "source": []
  },
  {
   "cell_type": "code",
   "execution_count": 38,
   "metadata": {
    "colab": {
     "base_uri": "https://localhost:8080/",
     "height": 34
    },
    "colab_type": "code",
    "id": "ErZ2fiM4yJXu",
    "outputId": "960cfc99-67bf-4ac7-e187-8978a474c871"
   },
   "outputs": [
    {
     "data": {
      "text/plain": [
       "6200"
      ]
     },
     "execution_count": 38,
     "metadata": {
      "tags": []
     },
     "output_type": "execute_result"
    }
   ],
   "source": [
    "len(image_datasets['train'])"
   ]
  },
  {
   "cell_type": "markdown",
   "metadata": {
    "colab_type": "text",
    "id": "sN-_jQq9a62j"
   },
   "source": [
    "[link text](https://)"
   ]
  },
  {
   "cell_type": "markdown",
   "metadata": {
    "colab_type": "text",
    "id": "4_3pvhDYa6zV"
   },
   "source": []
  },
  {
   "cell_type": "code",
   "execution_count": 39,
   "metadata": {
    "colab": {
     "base_uri": "https://localhost:8080/",
     "height": 1000
    },
    "colab_type": "code",
    "id": "QeBRulVJpV-N",
    "outputId": "14953f79-0599-47e3-a5c2-5c3ba1accda4",
    "scrolled": false
   },
   "outputs": [
    {
     "name": "stdout",
     "output_type": "stream",
     "text": [
      "Epoch  1 / 15\n",
      "----------\n",
      "  96    loss   tensor(0.0180, device='cuda:0', grad_fn=<MulBackward0>)   train loss: 0.0088, acc: 0.8874\n",
      "  9    loss   tensor(0.0066, device='cuda:0', grad_fn=<MulBackward0>)   validation loss: 0.0042, acc: 0.8408\n",
      "Epoch  2 / 15\n",
      "----------\n",
      "  96    loss   tensor(0.0077, device='cuda:0', grad_fn=<MulBackward0>)   train loss: 0.0050, acc: 0.9008\n",
      "  9    loss   tensor(0.0016, device='cuda:0', grad_fn=<MulBackward0>)   validation loss: 0.0082, acc: 0.8471\n",
      "Epoch  3 / 15\n",
      "----------\n",
      "  96    loss   tensor(0.0032, device='cuda:0', grad_fn=<MulBackward0>)   train loss: 0.0040, acc: 0.9085\n",
      "  9    loss   tensor(0.0025, device='cuda:0', grad_fn=<MulBackward0>)   validation loss: 0.0036, acc: 0.8487\n",
      "Epoch  4 / 15\n",
      "----------\n",
      "  96    loss   tensor(0.0008, device='cuda:0', grad_fn=<MulBackward0>)   train loss: 0.0039, acc: 0.9124\n",
      "  9    loss   tensor(0.0019, device='cuda:0', grad_fn=<MulBackward0>)   validation loss: 0.0039, acc: 0.8535\n",
      "Epoch  5 / 15\n",
      "----------\n",
      "  96    loss   tensor(0.0070, device='cuda:0', grad_fn=<MulBackward0>)   train loss: 0.0037, acc: 0.9132\n",
      "  9    loss   tensor(0.0025, device='cuda:0', grad_fn=<MulBackward0>)   validation loss: 0.0036, acc: 0.8455\n",
      "Epoch  6 / 15\n",
      "----------\n",
      "  96    loss   tensor(0.0110, device='cuda:0', grad_fn=<MulBackward0>)   train loss: 0.0029, acc: 0.9195\n",
      "  9    loss   tensor(0.0022, device='cuda:0', grad_fn=<MulBackward0>)   validation loss: 0.0037, acc: 0.8455\n",
      "Epoch  7 / 15\n",
      "----------\n",
      "  96    loss   tensor(0.0013, device='cuda:0', grad_fn=<MulBackward0>)   train loss: 0.0024, acc: 0.9235\n",
      "  9    loss   tensor(0.0144, device='cuda:0', grad_fn=<MulBackward0>)   validation loss: 0.0051, acc: 0.8455\n",
      "Epoch  8 / 15\n",
      "----------\n",
      "  96    loss   tensor(0.0018, device='cuda:0', grad_fn=<MulBackward0>)   train loss: 0.0020, acc: 0.9273\n",
      "  9    loss   tensor(0.0029, device='cuda:0', grad_fn=<MulBackward0>)   validation loss: 0.0083, acc: 0.8360\n",
      "Epoch  9 / 15\n",
      "----------\n",
      "  96    loss   tensor(0.0011, device='cuda:0', grad_fn=<MulBackward0>)   train loss: 0.0023, acc: 0.9242\n",
      "  9    loss   tensor(0.0025, device='cuda:0', grad_fn=<MulBackward0>)   validation loss: 0.0024, acc: 0.8583\n",
      "Epoch  10 / 15\n",
      "----------\n",
      "  96    loss   tensor(0.0062, device='cuda:0', grad_fn=<MulBackward0>)   train loss: 0.0020, acc: 0.9282\n",
      "  9    loss   tensor(0.0020, device='cuda:0', grad_fn=<MulBackward0>)   validation loss: 0.0032, acc: 0.8503\n",
      "Epoch  11 / 15\n",
      "----------\n",
      "  96    loss   tensor(0.0020, device='cuda:0', grad_fn=<MulBackward0>)   train loss: 0.0017, acc: 0.9315\n",
      "  9    loss   tensor(0.0030, device='cuda:0', grad_fn=<MulBackward0>)   validation loss: 0.0042, acc: 0.8455\n",
      "Epoch  12 / 15\n",
      "----------\n",
      "  96    loss   tensor(0.0028, device='cuda:0', grad_fn=<MulBackward0>)   train loss: 0.0017, acc: 0.9313\n",
      "  9    loss   tensor(0.0031, device='cuda:0', grad_fn=<MulBackward0>)   validation loss: 0.0031, acc: 0.8583\n",
      "Epoch  13 / 15\n",
      "----------\n",
      "  96    loss   tensor(0.0003, device='cuda:0', grad_fn=<MulBackward0>)   train loss: 0.0015, acc: 0.9347\n",
      "  9    loss   tensor(0.0007, device='cuda:0', grad_fn=<MulBackward0>)   validation loss: 0.0042, acc: 0.8519\n",
      "Epoch  14 / 15\n",
      "----------\n",
      "  96    loss   tensor(0.0017, device='cuda:0', grad_fn=<MulBackward0>)   train loss: 0.0014, acc: 0.9324\n",
      "  9    loss   tensor(0.0020, device='cuda:0', grad_fn=<MulBackward0>)   validation loss: 0.0036, acc: 0.8487\n",
      "Epoch  15 / 15\n",
      "----------\n",
      "  96    loss   tensor(0.0019, device='cuda:0', grad_fn=<MulBackward0>)   train loss: 0.0014, acc: 0.9366\n",
      "  9    loss   tensor(0.0110, device='cuda:0', grad_fn=<MulBackward0>)   validation loss: 0.0041, acc: 0.8487\n"
     ]
    },
    {
     "data": {
      "image/png": "[encoded data removed]",
      "text/plain": [
       "<Figure size 432x288 with 1 Axes>"
      ]
     },
     "metadata": {
      "needs_background": "light",
      "tags": []
     },
     "output_type": "display_data"
    },
    {
     "data": {
      "image/png": "[encoded data removed]",
      "text/plain": [
       "<Figure size 432x288 with 1 Axes>"
      ]
     },
     "metadata": {
      "needs_background": "light",
      "tags": []
     },
     "output_type": "display_data"
    }
   ],
   "source": [
    "model_trained = train_model(model, Focalloss, optimizer, num_epochs=15)"
   ]
  },
  {
   "cell_type": "code",
   "execution_count": 0,
   "metadata": {
    "colab": {},
    "colab_type": "code",
    "id": "fxxrIYEXXiFj"
   },
   "outputs": [],
   "source": []
  },
  {
   "cell_type": "code",
   "execution_count": 0,
   "metadata": {
    "colab": {},
    "colab_type": "code",
    "id": "uxuq-leqgmY9"
   },
   "outputs": [],
   "source": []
  },
  {
   "cell_type": "markdown",
   "metadata": {
    "colab_type": "text",
    "id": "FNLzz1kzpV-Q"
   },
   "source": [
    "### 5. Save and load the model"
   ]
  },
  {
   "cell_type": "code",
   "execution_count": 0,
   "metadata": {
    "colab": {},
    "colab_type": "code",
    "id": "m_FdQHF4pV-R"
   },
   "outputs": [],
   "source": [
    "torch.save(model_trained.state_dict(), './gdrive/My Drive/Assignment_05/VGG_Final_FL.h5')"
   ]
  },
  {
   "cell_type": "code",
   "execution_count": 0,
   "metadata": {
    "colab": {},
    "colab_type": "code",
    "id": "4QzXldjE08g6"
   },
   "outputs": [],
   "source": []
  },
  {
   "cell_type": "code",
   "execution_count": 0,
   "metadata": {
    "colab": {},
    "colab_type": "code",
    "id": "F0-JFAhcGXY7"
   },
   "outputs": [],
   "source": []
  },
  {
   "cell_type": "code",
   "execution_count": 41,
   "metadata": {
    "colab": {
     "base_uri": "https://localhost:8080/",
     "height": 34
    },
    "colab_type": "code",
    "id": "SshKYdv_pV-U",
    "outputId": "edc75f65-17e8-4ba8-c9dc-024a1baed9d0"
   },
   "outputs": [
    {
     "name": "stdout",
     "output_type": "stream",
     "text": [
      "testing\n"
     ]
    }
   ],
   "source": [
    "model = models.vgg16(pretrained=True).to(device)\n",
    "num_features = model.classifier[0].in_features\n",
    "model.classifier=nn.Sequential( nn.Linear(num_features,5000),\n",
    "                                nn.LeakyReLU(),\n",
    "                                nn.Dropout(p=0.5,inplace=False),\n",
    "                                nn.Linear(5000,120),\n",
    "                                nn.LeakyReLU(),\n",
    "                                nn.Linear(120,3)).to(device)\n",
    "\n",
    "model.load_state_dict(torch.load('./gdrive/My Drive/Assignment_05/VGG_Final_FL.h5'))\n",
    "model.eval()\n",
    "print('testing')"
   ]
  },
  {
   "cell_type": "markdown",
   "metadata": {
    "colab_type": "text",
    "id": "j_wZbRuTpV-W"
   },
   "source": [
    "### 6. Make predictions on sample test images"
   ]
  },
  {
   "cell_type": "code",
   "execution_count": 43,
   "metadata": {
    "colab": {
     "base_uri": "https://localhost:8080/",
     "height": 153
    },
    "colab_type": "code",
    "id": "1UNdYoWXM0Au",
    "outputId": "6b12b1ec-944d-4311-d760-921c40ebc342"
   },
   "outputs": [
    {
     "name": "stdout",
     "output_type": "stream",
     "text": [
      "['Test']\n",
      "[['0.png' '0' '0' '1']\n",
      " ['1.png' '0' '0' '1']\n",
      " ['10.png' '0' '0' '1']\n",
      " ...\n",
      " ['97.png' '0' '1' '0']\n",
      " ['98.png' '0' '0' '1']\n",
      " ['99.png' '0' '0' '1']]\n"
     ]
    }
   ],
   "source": [
    "import torch\n",
    "from torchvision import datasets\n",
    "\n",
    "class ImageFolderWithPaths(datasets.ImageFolder):\n",
    "    \"\"\"Custom dataset that includes image file paths. Extends\n",
    "    torchvision.datasets.ImageFolder\n",
    "    \"\"\"\n",
    "\n",
    "    # override the __getitem__ method. this is the method that dataloader calls\n",
    "    def __getitem__(self, index):\n",
    "        # this is what ImageFolder normally returns \n",
    "        original_tuple = super(ImageFolderWithPaths, self).__getitem__(index)\n",
    "        # the image file path\n",
    "        path = self.imgs[index][0]\n",
    "        # make a new tuple that includes original and the path\n",
    "        tuple_with_path = (original_tuple + (path,))\n",
    "        return tuple_with_path\n",
    "\n",
    "# EXAMPLE USAGE:\n",
    "# instantiate the dataset and dataloader\n",
    "data_dir = \"./gdrive/My Drive/Assignment_dataset/A_05_Part_02_Dataset/test\"\n",
    "dataset = ImageFolderWithPaths(data_dir) # our custom dataset\n",
    "dataloader = DataLoader(dataset)\n",
    "test_transforms = transforms.Compose([transforms.Resize(256),\n",
    "                                      transforms.CenterCrop(224),\n",
    "                                      transforms.ToTensor(),\n",
    "                                      transforms.Normalize([0.485, 0.456, 0.406],\n",
    "                                                           [0.229, 0.224, 0.225])])\n",
    "\n",
    "\n",
    "test_data = ImageFolderWithPaths(data_dir_vl + '/test', transform=test_transforms)\n",
    "\n",
    "testloader = torch.utils.data.DataLoader(test_data, batch_size=1, shuffle=False)\n",
    "\n",
    "class_names = test_data.classes\n",
    "score=[]\n",
    "name=[]\n",
    "print(class_names)\n",
    "for inputs, labels, paths in testloader:\n",
    "    # use the above variables freely\n",
    "    model.eval()\n",
    "    nm=os.path.basename(os.path.normpath(paths[0]))\n",
    "    image=inputs.to(device)\n",
    "    outputs = (model(image))\n",
    "    gt=outputs.detach().to('cpu').numpy()\n",
    "    score.append((gt[0]>0.5)*1)\n",
    "    name.append(nm)\n",
    "a=np.matrix(name)\n",
    "b=np.asarray(score)#.reshape(0,-1)\n",
    "res = np.concatenate((a.T, b[:,0:1]), axis=1)\n",
    "res = np.concatenate((res,b[:,2:3]),axis=1)\n",
    "res = np.concatenate((res,b[:,1:2]),axis=1)\n",
    "print(res)\n",
    "np.savetxt(\"./gdrive/My Drive/Assignment_05/VGG_Final_FL.csv\", res,delimiter=',',  fmt='%s')"
   ]
  },
  {
   "cell_type": "code",
   "execution_count": 51,
   "metadata": {
    "colab": {
     "base_uri": "https://localhost:8080/",
     "height": 204
    },
    "colab_type": "code",
    "id": "48Q7Mg3yxvHa",
    "outputId": "fab14efe-3051-4d98-f6d2-40bd726f0ff6"
   },
   "outputs": [
    {
     "name": "stdout",
     "output_type": "stream",
     "text": [
      "Validation data \n",
      "[[[5.941e+03 3.000e+00]\n",
      "  [9.600e+01 1.040e+02]]\n",
      "\n",
      " [[1.948e+03 2.370e+02]\n",
      "  [1.550e+02 3.804e+03]]\n",
      "\n",
      " [[3.923e+03 3.600e+01]\n",
      "  [4.580e+02 1.727e+03]]]\n",
      "F1 score\n",
      "0.7405642133415796\n"
     ]
    }
   ],
   "source": [
    "from sklearn.metrics import multilabel_confusion_matrix\n",
    "from sklearn.metrics import f1_score\n",
    "from sklearn.metrics import accuracy_score\n",
    "nb_classes = 3\n",
    "B=[]\n",
    "confusion_matrix = torch.zeros(nb_classes, nb_classes)\n",
    "predlist=torch.zeros(0,dtype=torch.long, device='cpu')\n",
    "lbllist=torch.zeros(0,dtype=torch.long, device='cpu')\n",
    "Av=np.zeros((nb_classes,2,2))\n",
    "acc=0\n",
    "i=0\n",
    "with torch.no_grad():\n",
    "    for inputs, labels in dataloaders['validation']:\n",
    "        inputs = inputs.to(device)\n",
    "        labels = labels.to(device)\n",
    "        onehot=one_hot(labels,3)\n",
    "        classes=onehot\n",
    "        for a in range(len(labels)):\n",
    "          if torch.equal(classes[a], torch.FloatTensor([ 1.,  0.,   0.]).to(device)):\n",
    "             classes[a]=torch.FloatTensor([1., 0., 1.]).to(device)  \n",
    "        classes=classes.long().cpu()\n",
    "        pred=model(inputs)>0.5\n",
    "        pred=pred*1\n",
    "        i=1+i\n",
    "        #pred=pred.cpu()#detach().to('cpu').numpy\n",
    "        pred=pred.long().cpu()\n",
    "        Av=multilabel_confusion_matrix(classes.numpy(), pred.numpy())+Av\n",
    "        B.append(f1_score(classes.numpy(), pred.numpy(), average='macro'))\n",
    "        #acc=accuracy_score(classes.numpy(), pred.numpy())+acc\n",
    "print('Validation data ')\n",
    "print(Av)\n",
    "print('F1 score')\n",
    "print(np.mean(B))"
   ]
  },
  {
   "cell_type": "code",
   "execution_count": 53,
   "metadata": {
    "colab": {
     "base_uri": "https://localhost:8080/",
     "height": 935
    },
    "colab_type": "code",
    "id": "HH2dKbbYOI8v",
    "outputId": "9f182db1-240e-427f-94ba-c269df395130"
   },
   "outputs": [
    {
     "name": "stdout",
     "output_type": "stream",
     "text": [
      "[[551.   0.]\n",
      " [ 15.  10.]]\n"
     ]
    },
    {
     "data": {
      "image/png": "[encoded data removed]",
      "text/plain": [
       "<Figure size 432x288 with 2 Axes>"
      ]
     },
     "metadata": {
      "needs_background": "light",
      "tags": []
     },
     "output_type": "display_data"
    },
    {
     "name": "stdout",
     "output_type": "stream",
     "text": [
      "[[172.  34.]\n",
      " [ 15. 355.]]\n"
     ]
    },
    {
     "data": {
      "image/png": "[encoded data removed]",
      "text/plain": [
       "<Figure size 432x288 with 2 Axes>"
      ]
     },
     "metadata": {
      "needs_background": "light",
      "tags": []
     },
     "output_type": "display_data"
    },
    {
     "name": "stdout",
     "output_type": "stream",
     "text": [
      "[[368.   2.]\n",
      " [ 52. 154.]]\n"
     ]
    },
    {
     "data": {
      "image/png": "[encoded data removed]",
      "text/plain": [
       "<Figure size 432x288 with 2 Axes>"
      ]
     },
     "metadata": {
      "needs_background": "light",
      "tags": []
     },
     "output_type": "display_data"
    }
   ],
   "source": [
    "labels = ['Covid', 'Other']\n",
    "cm = Av[0,:,:]\n",
    "print(cm)\n",
    "fig = plt.figure()\n",
    "ax = fig.add_subplot(111)\n",
    "cax = ax.matshow(cm)\n",
    "plt.title('Confusion matrix of the classifier')\n",
    "fig.colorbar(cax)\n",
    "ax.set_xticklabels([''] + labels)\n",
    "ax.set_yticklabels([''] + labels)\n",
    "plt.xlabel('Predicted')\n",
    "plt.ylabel('True')\n",
    "plt.show()\n",
    "labels=['Normal', 'Other']\n",
    "cm = Av[1,:,:]\n",
    "print(cm)\n",
    "fig = plt.figure()\n",
    "ax = fig.add_subplot(111)\n",
    "cax = ax.matshow(cm)\n",
    "plt.title('Confusion matrix of the classifier')\n",
    "fig.colorbar(cax)\n",
    "ax.set_xticklabels([''] + labels)\n",
    "ax.set_yticklabels([''] + labels)\n",
    "plt.xlabel('Predicted')\n",
    "plt.ylabel('True')\n",
    "plt.show()\n",
    "labels=['Pneumonia', 'Other']\n",
    "cm = Av[2,:,:]\n",
    "print(cm)\n",
    "fig = plt.figure()\n",
    "ax = fig.add_subplot(111)\n",
    "cax = ax.matshow(cm)\n",
    "plt.title('Confusion matrix of the classifier')\n",
    "fig.colorbar(cax)\n",
    "ax.set_xticklabels([''] + labels)\n",
    "ax.set_yticklabels([''] + labels)\n",
    "plt.xlabel('Predicted')\n",
    "plt.ylabel('True')\n",
    "plt.show()"
   ]
  },
  {
   "cell_type": "code",
   "execution_count": 54,
   "metadata": {
    "colab": {
     "base_uri": "https://localhost:8080/",
     "height": 71
    },
    "colab_type": "code",
    "id": "570XAFgPM9m7",
    "outputId": "109a95fd-96c7-4715-eae1-17cf3adda2fd"
   },
   "outputs": [
    {
     "name": "stderr",
     "output_type": "stream",
     "text": [
      "/usr/local/lib/python3.6/dist-packages/sklearn/metrics/_classification.py:1515: UndefinedMetricWarning: F-score is ill-defined and being set to 0.0 in labels with no true nor predicted samples. Use `zero_division` parameter to control this behavior.\n",
      "  average, \"true nor predicted\", 'F-score is', len(true_sum)\n"
     ]
    }
   ],
   "source": [
    "from sklearn.metrics import multilabel_confusion_matrix\n",
    "from sklearn.metrics import f1_score\n",
    "from sklearn.metrics import accuracy_score\n",
    "nb_classes = 3\n",
    "B=0\n",
    "confusion_matrix = torch.zeros(nb_classes, nb_classes)\n",
    "predlist=torch.zeros(0,dtype=torch.long, device='cpu')\n",
    "lbllist=torch.zeros(0,dtype=torch.long, device='cpu')\n",
    "At=np.zeros((nb_classes,2,2))\n",
    "acc=0\n",
    "i=0\n",
    "B=[]\n",
    "with torch.no_grad():\n",
    "    for inputs, labels in dataloaders['train']:\n",
    "        inputs = inputs.to(device)\n",
    "        labels = labels.to(device)\n",
    "        onehot=one_hot(labels,3)\n",
    "        classes=onehot\n",
    "        for a in range(len(labels)):\n",
    "          if torch.equal(classes[a], torch.FloatTensor([ 1.,  0.,   0.]).to(device)):\n",
    "             classes[a]=torch.FloatTensor([1., 0., 1.]).to(device)\n",
    "        classes=classes.long().cpu()\n",
    "        pred=model(inputs)>0.5\n",
    "        pred=pred*1\n",
    "        #pred=pred.cpu()#detach().to('cpu').numpy\n",
    "        pred=pred.long().cpu()\n",
    "        At=multilabel_confusion_matrix(classes.numpy(), pred.numpy())+At\n",
    "        B.append(f1_score(classes.numpy(), pred.numpy(), average='macro'))\n",
    "        #acc=accuracy_score(classes.numpy(), pred.numpy())+acc\n",
    "        #i=i+1\n",
    "\n",
    "#print('train accuracy', '    ',  acc/i)"
   ]
  },
  {
   "cell_type": "code",
   "execution_count": 55,
   "metadata": {
    "colab": {
     "base_uri": "https://localhost:8080/",
     "height": 204
    },
    "colab_type": "code",
    "id": "XYY7R9halAgA",
    "outputId": "c95dbd18-9a47-4328-81a8-4f7bcf8e9762"
   },
   "outputs": [
    {
     "name": "stdout",
     "output_type": "stream",
     "text": [
      "train data \n",
      "[[[5.941e+03 3.000e+00]\n",
      "  [9.600e+01 1.040e+02]]\n",
      "\n",
      " [[1.948e+03 2.370e+02]\n",
      "  [1.550e+02 3.804e+03]]\n",
      "\n",
      " [[3.923e+03 3.600e+01]\n",
      "  [4.580e+02 1.727e+03]]]\n",
      "F1 score\n",
      "0.7937893013995542\n"
     ]
    }
   ],
   "source": [
    "print('train data ')\n",
    "print(At)\n",
    "print('F1 score')\n",
    "print(np.mean(B))\n",
    "titles_options = [(\"Confusion matrix, without normalization\", None),\n",
    "                  (\"Normalized confusion matrix\", 'true')]\n",
    "plt.show()"
   ]
  },
  {
   "cell_type": "code",
   "execution_count": 56,
   "metadata": {
    "colab": {
     "base_uri": "https://localhost:8080/",
     "height": 935
    },
    "colab_type": "code",
    "id": "ZfquzIcKOIOY",
    "outputId": "5f5935f3-2d5b-4a45-82ca-ef7df61edfd7"
   },
   "outputs": [
    {
     "name": "stdout",
     "output_type": "stream",
     "text": [
      "[[5.941e+03 3.000e+00]\n",
      " [9.200e+01 1.080e+02]]\n"
     ]
    },
    {
     "data": {
      "image/png": "[encoded data removed]",
      "text/plain": [
       "<Figure size 432x288 with 2 Axes>"
      ]
     },
     "metadata": {
      "needs_background": "light",
      "tags": []
     },
     "output_type": "display_data"
    },
    {
     "name": "stdout",
     "output_type": "stream",
     "text": [
      "[[1956.  225.]\n",
      " [ 157. 3806.]]\n"
     ]
    },
    {
     "data": {
      "image/png": "[encoded data removed]",
      "text/plain": [
       "<Figure size 432x288 with 2 Axes>"
      ]
     },
     "metadata": {
      "needs_background": "light",
      "tags": []
     },
     "output_type": "display_data"
    },
    {
     "name": "stdout",
     "output_type": "stream",
     "text": [
      "[[3944.   19.]\n",
      " [ 430. 1751.]]\n"
     ]
    },
    {
     "data": {
      "image/png": "[encoded data removed]",
      "text/plain": [
       "<Figure size 432x288 with 2 Axes>"
      ]
     },
     "metadata": {
      "needs_background": "light",
      "tags": []
     },
     "output_type": "display_data"
    }
   ],
   "source": [
    "\n",
    "labels = ['Covid', 'Other']\n",
    "cm = At[0,:,:]\n",
    "print(cm)\n",
    "fig = plt.figure()\n",
    "ax = fig.add_subplot(111)\n",
    "cax = ax.matshow(cm)\n",
    "plt.title('Confusion matrix of the classifier')\n",
    "fig.colorbar(cax)\n",
    "ax.set_xticklabels([''] + labels)\n",
    "ax.set_yticklabels([''] + labels)\n",
    "plt.xlabel('Predicted')\n",
    "plt.ylabel('True')\n",
    "plt.show()\n",
    "labels=['Normal', 'Other']\n",
    "cm = At[1,:,:]\n",
    "print(cm)\n",
    "fig = plt.figure()\n",
    "ax = fig.add_subplot(111)\n",
    "cax = ax.matshow(cm)\n",
    "plt.title('Confusion matrix of the classifier')\n",
    "fig.colorbar(cax)\n",
    "ax.set_xticklabels([''] + labels)\n",
    "ax.set_yticklabels([''] + labels)\n",
    "plt.xlabel('Predicted')\n",
    "plt.ylabel('True')\n",
    "plt.show()\n",
    "labels=['Pneumonia', 'Other']\n",
    "cm = At[2,:,:]\n",
    "print(cm)\n",
    "fig = plt.figure()\n",
    "ax = fig.add_subplot(111)\n",
    "cax = ax.matshow(cm)\n",
    "plt.title('Confusion matrix of the classifier')\n",
    "fig.colorbar(cax)\n",
    "ax.set_xticklabels([''] + labels)\n",
    "ax.set_yticklabels([''] + labels)\n",
    "plt.xlabel('Predicted')\n",
    "plt.ylabel('True')\n",
    "plt.show()"
   ]
  }
 ],
 "metadata": {
  "kernelspec": {
   "display_name": "Python 3",
   "language": "python",
   "name": "python3"
  },
  "language_info": {
   "codemirror_mode": {
    "name": "ipython",
    "version": 3
   },
   "file_extension": ".py",
   "mimetype": "text/x-python",
   "name": "python",
   "nbconvert_exporter": "python",
   "pygments_lexer": "ipython3",
   "version": "3.6.10"
  }
 },
 "nbformat": 4,
 "nbformat_minor": 2
}
